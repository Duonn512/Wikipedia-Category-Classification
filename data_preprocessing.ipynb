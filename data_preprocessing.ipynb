{
 "cells": [
  {
   "cell_type": "code",
   "execution_count": 49,
   "metadata": {},
   "outputs": [],
   "source": [
    "import pandas as pd \n",
    "import numpy as np\n",
    "import re\n",
    "import nltk\n",
    "from nltk.corpus import stopwords\n",
    "from nltk.tokenize import word_tokenize\n",
    "from pyvi import ViTokenizer, ViPosTagger"
   ]
  },
  {
   "cell_type": "code",
   "execution_count": 50,
   "metadata": {},
   "outputs": [
    {
     "data": {
      "text/html": [
       "<div>\n",
       "<style scoped>\n",
       "    .dataframe tbody tr th:only-of-type {\n",
       "        vertical-align: middle;\n",
       "    }\n",
       "\n",
       "    .dataframe tbody tr th {\n",
       "        vertical-align: top;\n",
       "    }\n",
       "\n",
       "    .dataframe thead th {\n",
       "        text-align: right;\n",
       "    }\n",
       "</style>\n",
       "<table border=\"1\" class=\"dataframe\">\n",
       "  <thead>\n",
       "    <tr style=\"text-align: right;\">\n",
       "      <th></th>\n",
       "      <th>title</th>\n",
       "      <th>content</th>\n",
       "      <th>label</th>\n",
       "    </tr>\n",
       "  </thead>\n",
       "  <tbody>\n",
       "    <tr>\n",
       "      <th>0</th>\n",
       "      <td>Melocalamus scandens</td>\n",
       "      <td>Melocalamus scandens là một loài thực vật có h...</td>\n",
       "      <td>1</td>\n",
       "    </tr>\n",
       "    <tr>\n",
       "      <th>1</th>\n",
       "      <td>Paleauletobius silenus</td>\n",
       "      <td>Paleauletobius silenus là một loài bọ cánh cứn...</td>\n",
       "      <td>1</td>\n",
       "    </tr>\n",
       "    <tr>\n",
       "      <th>2</th>\n",
       "      <td>Zoodes hirsutus</td>\n",
       "      <td>Zoodes hirsutus là một loài bọ cánh cứng trong...</td>\n",
       "      <td>1</td>\n",
       "    </tr>\n",
       "    <tr>\n",
       "      <th>3</th>\n",
       "      <td>Quốc kỳ Argentina</td>\n",
       "      <td>Quốc kỳ Argentina ( tiếng Tây Ban Nha : Bander...</td>\n",
       "      <td>4</td>\n",
       "    </tr>\n",
       "    <tr>\n",
       "      <th>4</th>\n",
       "      <td>Dundahera</td>\n",
       "      <td>Dundahera là một thị trấn thống kê ( census to...</td>\n",
       "      <td>2</td>\n",
       "    </tr>\n",
       "  </tbody>\n",
       "</table>\n",
       "</div>"
      ],
      "text/plain": [
       "                    title                                            content  \\\n",
       "0    Melocalamus scandens  Melocalamus scandens là một loài thực vật có h...   \n",
       "1  Paleauletobius silenus  Paleauletobius silenus là một loài bọ cánh cứn...   \n",
       "2         Zoodes hirsutus  Zoodes hirsutus là một loài bọ cánh cứng trong...   \n",
       "3       Quốc kỳ Argentina  Quốc kỳ Argentina ( tiếng Tây Ban Nha : Bander...   \n",
       "4               Dundahera  Dundahera là một thị trấn thống kê ( census to...   \n",
       "\n",
       "   label  \n",
       "0      1  \n",
       "1      1  \n",
       "2      1  \n",
       "3      4  \n",
       "4      2  "
      ]
     },
     "execution_count": 50,
     "metadata": {},
     "output_type": "execute_result"
    }
   ],
   "source": [
    "df = pd.read_csv('output.csv')\n",
    "df.head(5)"
   ]
  },
  {
   "cell_type": "code",
   "execution_count": 51,
   "metadata": {},
   "outputs": [
    {
     "name": "stdout",
     "output_type": "stream",
     "text": [
      "Melocalamus scandens là một loài thực vật có hoa trong họ Hòa thảo . Loài này được Hsueh & C.M.Hui mô tả khoa học đầu tiên năm 1992. [1]\n"
     ]
    }
   ],
   "source": [
    "print(df.head(5).content[0])"
   ]
  },
  {
   "cell_type": "code",
   "execution_count": 52,
   "metadata": {},
   "outputs": [],
   "source": [
    "list_to_remove = ['[1]', '[2]', '[3]', '[4]', '[5]', '[6]', '[7]']\n",
    "\n",
    "for item in list_to_remove:\n",
    "    df['content'] = df['content'].str.replace(item, '')"
   ]
  },
  {
   "cell_type": "code",
   "execution_count": 53,
   "metadata": {},
   "outputs": [
    {
     "name": "stdout",
     "output_type": "stream",
     "text": [
      "Melocalamus scandens là một loài thực vật có hoa trong họ Hòa thảo . Loài này được Hsueh & C.M.Hui mô tả khoa học đầu tiên năm 1992. \n"
     ]
    }
   ],
   "source": [
    "print(df.head(5).content[0])"
   ]
  },
  {
   "cell_type": "code",
   "execution_count": 54,
   "metadata": {},
   "outputs": [
    {
     "name": "stderr",
     "output_type": "stream",
     "text": [
      "[nltk_data] Downloading package stopwords to\n",
      "[nltk_data]     C:\\Users\\Admin\\AppData\\Roaming\\nltk_data...\n",
      "[nltk_data]   Unzipping corpora\\stopwords.zip.\n",
      "[nltk_data] Downloading package punkt to\n",
      "[nltk_data]     C:\\Users\\Admin\\AppData\\Roaming\\nltk_data...\n",
      "[nltk_data]   Package punkt is already up-to-date!\n"
     ]
    },
    {
     "data": {
      "text/plain": [
       "True"
      ]
     },
     "execution_count": 54,
     "metadata": {},
     "output_type": "execute_result"
    }
   ],
   "source": [
    "nltk.download('stopwords')\n",
    "nltk.download('punkt')"
   ]
  },
  {
   "cell_type": "code",
   "execution_count": 55,
   "metadata": {},
   "outputs": [],
   "source": [
    "# Get Vietnamese stopwords\n",
    "stopwords = set(nltk.corpus.stopwords.words('vietnamese'))"
   ]
  },
  {
   "cell_type": "code",
   "execution_count": 18,
   "metadata": {},
   "outputs": [
    {
     "name": "stdout",
     "output_type": "stream",
     "text": [
      "{'là phải', 'vị tất', 'tại đây', 'xa xa', 'chưa tính', 'như trên', 'chắc người', 'chung qui', 'lòng không', 'bây chừ', 'ơi', 'làm lòng', 'mọi sự', 'các', 'dẫu rằng', 'cho nhau', 'nguồn', 'nhất mực', 'nên làm', 'từ từ', 'rằng', 'nặng', 'phần lớn', 'bất quá', 'còn về', 'nhờ chuyển', 'rõ là', 'chị ấy', 'đến gần', 'cô', 'coi mòi', 'cho đến nỗi', 'bỏ ra', 'ý chừng', 'ba bản', 'vượt quá', 'cơ cùng', 'tay', 'nhân tiện', 'phần sau', 'chứ không phải', 'không dùng', 'ơ hay', 'quan trọng vấn đề', 'thẩy', 'như nhau', 'lần sang', 'làm dần dần', 'như không', 'ở lại', 'tốc tả', 'làm riêng', 'nóc', 'phè phè', 'nên tránh', 'đều nhau', 'ít nữa', 'phần nào', 'đúng ngày', 'vụt', 'cũng', 'có thể', 'giá trị', 'nói phải', 'vô vàn', 'ngôi nhà', 'sau', 'sẽ', 'ngoài', 'kể cả', 'vậy là', 'nước lên', 'là là', 'đủ số', 'từng phần', 'vì rằng', 'tôi con', 'đến nỗi', 'khó biết', 'nói nhỏ', 'ắt phải', 'nghe trực tiếp', 'ở năm', 'mọi người', 'nhờ đó', 'nghe hiểu', 'bởi đâu', 'vâng vâng', 'lúc đi', 'trước ngày', 'bị vì', 'thật lực', 'bất kỳ', 'cùng ăn', 'xa gần', 'từ giờ', 'từ tại', 'khác xa', 'chứ ai', 'phần', 'cần gì', 'gây cho', 'lần sau', 'bên', 'việc', 'tha hồ chơi', 'tấm các', 'bỗng chốc', 'sớm', 'quận', 'cật lực', 'cao', 'bất kì', 'hết chuyện', 'nói khó', 'tạo ý', 'ai nấy', 'bỗng', 'thì', 'đã là', 'thậm từ', 'ngoài này', 'cóc khô', 'còn thời gian', 'nơi', 'về không', 'ngươi', 'dào', 'lòng', 'đơn vị', 'chỉ là', 'đến hay', 'lấy ráo', 'chưa kể', 'cho thấy', 'rồi đây', 'cha chả', 'có', 'ngoài xa', 'nhìn chung', 'nói thêm', 'tít mù', 'nữa', 'đến lời', 'cả tin', 'đặt trước', 'ăn về', 'ăn chung', 'không kể', 'tin vào', 'khó chơi', 'thấp cơ', 'tỏ vẻ', 'cùng tuổi', 'cơ', 'riêng từng', 'tự khi', 'khó', 'thế là', 'dễ dùng', 'thấy', 'sáng rõ', 'bộ', 'thật là', 'phía', 'luôn', 'rón rén', 'con', 'tiện thể', 'ngay lập tức', 'làm thế nào', 'tự ăn', 'được tin', 'đủ điểm', 'đúng với', 'nhanh lên', 'vào khoảng', 'hỏi xin', 'lấy lại', 'lời', 'ừ ừ', 'tìm việc', 'bây giờ', 'nhất tề', 'như tuồng', 'giữa', 'phía trước', 'buổi sớm', 'nhà chung', 'theo bước', 'dễ nghe', 'chung cho', 'dễ thấy', 'hãy', 'tên họ', 'thứ đến', 'ạ ơi', 'phỏng tính', 'ái chà', 'chú mình', 'cùng nhau', 'nhờ', 'cật sức', 'lên ngôi', 'thuộc cách', 'lấy xuống', 'tốt ngày', 'gì', 'cuối cùng', 'lấy sau', 'thậm cấp', 'điều gì', 'ối dào', 'cho đang', 'vị trí', 'vung thiên địa', 'đang thì', 'điểm chính', 'sao đang', 'thương ôi', 'chị', 'nhà làm', 'một khi', 'thanh điều kiện', 'ngay cả', 'cứ việc', 'nhìn thấy', 'chao ôi', 'hơn trước', 'lấy ra', 'thanh tính', 'đã hay', 'xoành xoạch', 'tiếp đó', 'vài điều', 'áng', 'chưa có', 'bỏ cha', 'nghe nói', 'bộ điều', 'cũng thế', 'thanh không', 'kể từ', 'chú dẫn', 'giống như', 'nhớ lại', 'mà vẫn', 'xoẳn', 'nặng căn', 'nói chung', 'thật', 'nhất quyết', 'chưa chắc', 'làm tôi', 'tuốt luốt', 'bấy chầy', 'cụ thể', 'nói thật', 'chọn ra', 'thôi việc', 'dù', 'nữa rồi', 'thành thử', 'để lòng', 'từ ấy', 'dạ dạ', 'thì là', 'không chỉ', 'do vậy', 'nhằm vào', 'một lúc', 'bao lâu', 'ba ngày', 'cái đã', 'cho tới khi', 'nhất luật', 'chắc vào', 'cây nước', 'đánh đùng', 'thốt', 'nhận ra', 'ít có', 'ồ', 'nào phải', 'đủ điều', 'ôi chao', 'gặp khó khăn', 'bán', 'lên cao', 'cô mình', 'làm gì', 'bây nhiêu', 'à ơi', 'chú khách', 'làm tắp lự', 'thời gian', 'biết bao nhiêu', 'bước', 'cơ mà', 'bao nả', 'từng nhà', 'vẫn', 'vừa vừa', 'ngày xửa', 'nhất thiết', 'càng hay', 'biết đâu đấy', 'trừ phi', 'bắt đầu từ', 'vùng nước', 'phải người', 'vì sao', 'cô tăng', 'sốt sột', 'chốc chốc', 'có vẻ', 'đều', 'vung tàn tán', 'ba ngôi', 'đặt để', 'trả', 'trếu tráo', 'đồng thời', 'thường hay', 'nọ', 'nên chi', 'bởi ai', 'gần', 'còn như', 'đầy phè', 'tránh xa', 'cho tới', 'vấn đề quan trọng', 'mọi giờ', 'chịu lời', 'mạnh', 'đây', 'alô', 'thình lình', 'trên dưới', 'răng răng', 'tập trung', 'tuy là', 'giờ', 'nền', 'ngôi', 'thật chắc', 'đâu nào', 'nhà', 'đến cùng cực', 'úi chà', 'điều kiện', 'lấy số', 'chuyển', 'nghĩ', 'bỏ cuộc', 'nói toẹt', 'thường đến', 'chành chạnh', 'con nhà', 'thích cứ', 'cứ', 'nhìn lại', 'cảm ơn', 'ắt thật', 'khó thấy', 'tuyệt nhiên', 'điểm đầu tiên', 'mở nước', 'hết ý', 'hơn hết', 'ở', 'phỏng như', 'mỗi một', 'số là', 'dần dần', 'có được', 'nặng mình', 'rồi', 'đáng kể', 'thích thuộc', 'xuể', 'với lại', 'ngọt', 'làm sao', 'ô hô', 'chọn', 'đã thế', 'cơ dẫn', 'là thế nào', 'sang năm', 'ngay thật', 'không còn', 'thuần', 'nữa khi', 'bởi thế cho nên', 'có nhà', 'dễ', 'mang lại', 'nói đủ', 'cũng nên', 'theo tin', 'thường thôi', 'phải giờ', 'dì', 'dùng cho', 'bức', 'ngày nào', 'có nhiều', 'nhằm để', 'đủ', 'chung cuộc', 'số', 'bị', 'thà', 'xoẹt', 'ổng', 'lên xuống', 'gây', 'thực hiện', 'tuy rằng', 'đúng', 'ối giời ơi', 'cần', 'tốt bộ', 'chỉn', 'không ngoài', 'lâu ngày', 'thộc', 'trong số', 'cả năm', 'thếch', 'làm mất', 'là cùng', 'bộ thuộc', 'sau này', 'cao ráo', 'đưa đến', 'không', 'như ai', 'khẳng định', 'chung chung', 'tuốt tuồn tuột', 'ngoài ra', 'tột cùng', 'mất', 'cần số', 'tuy có', 'ăn người', 'cuối', 'tắp', 'bằng nào', 'buổi', 'đã lâu', 'lần tìm', 'chợt', 'thanh điểm', 'chưa', 'sáng ngày', 'duy chỉ', 'có đâu', 'lượng từ', 'cả thể', 'tránh', 'ngõ hầu', 'giờ đây', 'ra ý', 'lượng số', 'trực tiếp làm', 'giống nhau', 'bỗng dưng', 'tăng chúng', 'đầy', 'chuyển tự', 'ăn', 'năm', 'thốt nhiên', 'tránh ra', 'đưa', 'bởi vì', 'dạ bán', 'dễ ngươi', 'sau đó', 'chăng chắc', 'lên mạnh', 'đến nơi', 'tại tôi', 'khó khăn', 'đặt', 'vì', 'bấy', 'giữ ý', 'lúc sáng', 'loại', 'hiện nay', 'phía trên', 'vậy mà', 'cậu', 'vậy thì', 'qua lại', 'sao bản', 'lại thôi', 'hay tin', 'nhờ nhờ', 'làm lại', 'tự tạo', 'chợt nghe', 'lời chú', 'con dạ', 'của tin', 'bất thình lình', 'vả lại', 'nhung nhăng', 'hỏi xem', 'đến cùng', 'lúc ấy', 'cao xa', 'với', 'xăm xăm', 'không biết', 'những ai', 'vung tán tàn', 'sáng', 'toẹt', 'tới mức', 'quá nhiều', 'hãy còn', 'đó', 'nghiễm nhiên', 'nhỡ ra', 'phăn phắt', 'theo như', 'phải tay', 'như thể', 'nhất', 'dẫu', 'đưa tới', 'quá bán', 'phải rồi', 'xa tanh', 'đưa cho', 'thấp thỏm', 'vào lúc', 'tọt', 'chớ', 'cho chắc', 'tự ý', 'tấn', 'về', 'tắp lự', 'chúng', 'đâu', 'nghe tin', 'quá', 'thuần ái', 'hay biết', 'bà', 'ra điều', 'tạo ra', 'nhớ', 'không có gì', 'chẳng lẽ', 'cấp trực tiếp', 'có chăng là', 'qua', 'dễ khiến', 'lần theo', 'thi thoảng', 'như vậy', 'tấm', 'trả ngay', 'trỏng', 'sử dụng', 'nếu vậy', 'nặng về', 'chẳng những', 'riệt', 'lúc nào', 'đều bước', 'tuổi tôi', 'bển', 'phỏng theo', 'cơ chỉ', 'tên', 'hơn là', 'làm tin', 'chính thị', 'mang về', 'lâu các', 'cứ như', 'vùng lên', 'của', 'ra', 'quá bộ', 'vào', 'xin', 'tìm', 'rồi xem', 'chết thật', 'số cho biết', 'khi', 'bởi chưng', 'bản thân', 'nghen', 'chưa từng', 'vậy nên', 'phót', 'pho', 'cho biết', 'từ ái', 'ào', 'bước đi', 'chỉ chính', 'tên tự', 'cực lực', 'tự vì', 'nói là', 'khi khác', 'một cơn', 'cho về', 'có dễ', 'có người', 'tính từ', 'à này', 'ừ nhé', 'người hỏi', 'sắp', 'cơ chừng', 'ngày nọ', 'từ căn', 'nước', 'bỏ', 'sau sau', 'thì phải', 'thế thế', 'để', 'thoạt nghe', 'thêm giờ', 'nhất tâm', 'tránh khỏi', 'chợt nhìn', 'lấy làm', 'loại từ', 'ngọn', 'mối', 'nó', 'chúng ta', 'lại giống', 'cả nghe', 'cao sang', 'câu hỏi', 'ăn làm', 'nhìn nhận', 'chọn bên', 'nhỉ', 'có ai', 'làm tại', 'mợ', 'nhất đán', 'đâu có', 'phè', 'số thiếu', 'bấy nay', 'ớ này', 'tanh', 'ít', 'thật ra', 'xon xón', 'ô kìa', 'phía sau', 'than ôi', 'xềnh xệch', 'mọi lúc', 'em', 'ngày qua', 'tháng năm', 'tự', 'chưa dùng', 'thỏm', 'tới nơi', 'khác thường', 'tức thì', 'tính người', 'phóc', 'thuộc', 'nói ra', 'dữ', 'không bao giờ', 'thuộc lại', 'khoảng cách', 'lúc đó', 'phải biết', 'trệu trạo', 'ở như', 'giảm thế', 'bập bõm', 'ô hay', 'chẳng phải', 'nghĩ tới', 'tại đâu', 'bản', 'dài ra', 'tháng tháng', 'vì vậy', 'gì gì', 'thế sự', 'đã không', 'chuẩn bị', 'bởi sao', 'ít nhất', 'lý do', 'thay đổi tình trạng', 'khi nên', 'thốt nói', 'cuốn', 'ngày cấp', 'bằng không', 'ăn ngồi', 'chỉ có', 'bỏ nhỏ', 'do đó', 'ăn hết', 'ở nhờ', 'thích ý', 'không cùng', 'vài', 'đây này', 'có khi', 'từ đó', 'hay nhỉ', 'thanh thanh', 'ngay lúc này', 'chung ái', 'chịu tốt', 'những', 'bản riêng', 'ạ', 'mình', 'sang sáng', 'có số', 'không cần', 'như thế nào', 'văng tê', 'chết nỗi', 'bạn', 'bỗng không', 'nấy', 'xem lại', 'tăng', 'giảm', 'giảm chính', 'bản ý', 'khác gì', 'như sau', 'nhớ bập bõm', 'nói bông', 'ủa', 'người khách', 'quá lời', 'đại nhân', 'lời nói', 'quả thật', 'cũng vậy', 'điểm gặp', 'đâu như', 'vở', 'tính phỏng', 'còn nữa', 'tựu trung', 'ba họ', 'bỗng đâu', 'nghe rõ', 'cá nhân', 'kể tới', 'từ loại', 'một', 'so', 'nếu thế', 'tình trạng', 'nhận việc', 'vừa rồi', 'chắc chắn', 'không ai', 'ớ', 'một ít', 'dẫn', 'bệt', 'cho', 'có tháng', 'bằng người', 'qua chuyện', 'đưa vào', 'cấp số', 'đến đâu', 'chúng ông', 'nghĩ lại', 'trước đây', 'hay là', 'cả ngày', 'biết chừng nào', 'lấy được', 'mỗi người', 'tớ', 'sao', 'ối giời', 'rằng là', 'là nhiều', 'để không', 'thường khi', 'chậc', 'tà tà', 'veo veo', 'bất tử', 'thái quá', 'tốt hơn', 'thời điểm', 'sự việc', 'cả nhà', 'tắp tắp', 'làm', 'thực hiện đúng', 'ăn cuộc', 'nghe được', 'điểm', 'nói ý', 'lớn', 'nói riêng', 'khó làm', 'thôi', 'gây giống', 'thay đổi', 'đủ dùng', 'vậy', 'thà là', 'giống', 'ăn riêng', 'chơi họ', 'như thế', 'mọi', 'gặp phải', 'khách', 'đầy năm', 'qua thì', 'gần ngày', 'qua khỏi', 'đại loại', 'tuy nhiên', 'nói tốt', 'cho rồi', 'lúc lâu', 'thực sự', 'sa sả', 'chơi', 'nghe đâu như', 'vừa qua', 'tất cả bao nhiêu', 'lại người', 'nói lại', 'bông', 'rứa', 'ngay bây giờ', 'không khỏi', 'ngày', 'lâu nay', 'cho đến khi', 'gần xa', 'tại nơi', 'càng', 'tò te', 'chính', 'bất luận', 'gồm', 'chăng', 'tất tần tật', 'rồi tay', 'chưa cần', 'phía bạn', 'bởi', 'tạo điều kiện', 'cùng chung', 'đầu tiên', 'bỗng thấy', 'thảo hèn', 'cũng được', 'cụ thể là', 'trong', 'phụt', 'bấy giờ', 'suýt nữa', 'nhận', 'rút cục', 'tốt', 'vài nơi', 'dù dì', 'nói trước', 'tối ư', 'lại nữa', 'ra lại', 'bản bộ', 'năm tháng', 'trên', 'rồi sau', 'vấn đề', 'đâu đây', 'từng cái', 'cả đến', 'nay', 'nghĩ đến', 'dễ thường', 'nhằm', 'này nọ', 'lại quả', 'nhà ngươi', 'lượng cả', 'a ha', 'làm được', 'đưa em', 'nhớ lấy', 'ơ', 'sớm ngày', 'xin gặp', 'thích', 'hoặc là', 'đại để', 'bất cứ', 'bất nhược', 'biết bao', 'về sau', 'bên cạnh', 'dù gì', 'nhà tôi', 'nếu như', 'anh', 'vâng chịu', 'chắc dạ', 'dẫu sao', 'tới gần', 'ư', 'ngồi bệt', 'tôi', 'qua đi', 'sáng ý', 'nên', 'tại lòng', 'con con', 'khó tránh', 'trước nay', 'lần khác', 'làm theo', 'lại đây', 'phải cái', 'tìm bạn', 'phần nhiều', 'ra người', 'càng càng', 'làm ra', 'phải lời', 'ông tạo', 'bằng vào', 'hiện tại', 'tuổi cả', 'chứ không', 'cái ấy', 'lần', 'chỉ', 'ra sao', 'hay hay', 'vài tên', 'lấy để', 'bỏ mình', 'đến xem', 'riu ríu', 'cách đều', 'lúc', 'thấp', 'ví bằng', 'căn cắt', 'khác khác', 'mở', 'nhìn theo', 'nhau', 'trực tiếp', 'thường tính', 'yêu cầu', 'nghe nhìn', 'tốt mối', 'rồi sao', 'biết trước', 'cao thế', 'lần lần', 'tấm bản', 'lúc này', 'cùng', 'nước ăn', 'cảm thấy', 'phứt', 'chẳng nữa', 'ráo', 'khó mở', 'mang', 'béng', 'chú mày', 'ngay khi đến', 'ngày càng', 'nhược bằng', 'nhằm khi', 'xuống', 'thứ', 'bác', 'ô kê', 'vậy ư', 'ít ra', 'nước đến', 'mới', 'số loại', 'cụ thể như', 'sang', 'tuốt tuột', 'chuyện', 'làm như', 'chung nhau', 'đúng ra', 'thời gian sử dụng', 'bỏ lại', 'dùng hết', 'vừa', 'khoảng không', 'nói', 'nếu được', 'thoạt', 'rõ', 'đáng lý', 'mới đây', 'ờ', 'cao số', 'cách bức', 'thốc', 'phía trong', 'ăn sáng', 'nếu có', 'ý da', 'đủ nơi', 'ba', 'để lại', 'vốn dĩ', 'bởi vậy', 'bước tới', 'hơn nữa', 'hết', 'ắt hẳn', 'nghe ra', 'làm bằng', 'vâng ý', 'bấy lâu', 'vài nhà', 'chùn chùn', 'hỏi', 'không đầy', 'quá trình', 'tức tốc', 'sao bằng', 'quá ư', 'xăm xúi', 'bỗng nhiên', 'dưới', 'thế thường', 'thì ra', 'thêm chuyện', 'bập bà bập bõm', 'chịu ăn', 'vùng', 'bài', 'thỉnh thoảng', 'chớ không', 'ắt', 'nghe không', 'thứ bản', 'quả là', 'thậm', 'trước sau', 'có thế', 'tránh tình trạng', 'thành ra', 'nghe chừng', 'song le', 'tuy', 'mất còn', 'đưa chuyện', 'ra gì', 'bội phần', 'nói rõ', 'thúng thắng', 'ít thấy', 'tuy vậy', 'đến lúc', 'đã đủ', 'hiểu', 'tính', 'biết đâu chừng', 'ồ ồ', 'nào hay', 'xảy ra', 'cái họ', 'khó nghĩ', 'bấy lâu nay', 'cách', 'số người', 'chịu', 'bên bị', 'vào đến', 'nhìn xuống', 'này', 'cũng như', 'nhà khó', 'để cho', 'quả thế', 'tất cả', 'nhưng', 'có phải', 'vô kể', 'phải chăng', 'ngày rày', 'rồi thì', 'sắp đặt', 'nhóm', 'tới', 'nhất nhất', 'nhiều ít', 'cách nhau', 'ngay từ', 'ít khi', 'đến giờ', 'vèo', 'ăn chịu', 'thiếu điểm', 'phải cách', 'bỏ riêng', 'mà lại', 'ứ hự', 'luôn tay', 'thì thôi', 'không bao lâu', 'trong này', 'dài lời', 'buổi ngày', 'từ', 'thường sự', 'cho được', 'từng đơn vị', 'đưa về', 'ứ ừ', 'tăng thêm', 'đến ngày', 'cơ hội', 'biết chắc', 'đến nay', 'do vì', 'vào gặp', 'lên đến', 'chung cục', 'lên', 'ít lâu', 'để phần', 'bằng như', 'sau hết', 'trong ngoài', 'dễ sợ', 'quá tay', 'không hay', 'chính giữa', 'phần việc', 'quay bước', 'ơi là', 'họ xa', 'thêm', 'chứ như', 'ra bộ', 'chắc', 'tuy thế', 'biết mình', 'xa tắp', 'trển', 'phải không', 'tù tì', 'ngay lúc', 'kể', 'cứ điểm', 'bớ', 'ái dà', 'phốc', 'thốt thôi', 'được cái', 'dễ gì', 'xa', 'tuy đã', 'được', 'mức', 'tháng ngày', 'ít biết', 'nhìn', 'vậy ra', 'ít hơn', 'gần đây', 'tăm tắp', 'bài bỏ', 'mà cả', 'số phần', 'thực vậy', 'tin thêm', 'nhiệt liệt', 'lấy thế', 'chầm chập', 'nhón nhén', 'nức nở', 'đâu phải', 'như quả', 'sau nữa', 'tiếp tục', 'xem số', 'lại cái', 'không cứ', 'những khi', 'với nhau', 'xa cách', 'tốt bạn', 'tạo', 'nữa là', 'vài ba', 'lấy', 'lại làm', 'nhỏ người', 'đến bao giờ', 'xử lý', 'lên nước', 'so với', 'đến thế', 'ừ', 'đáng lẽ', 'số cụ thể', 'trước', 'nhất định', 'nước cùng', 'thế', 'thậm chí', 'vì chưng', 'đưa tin', 'nếu mà', 'chính bản', 'dạ khách', 'bay biến', 'thường tại', 'đặt mức', 'bằng ấy', 'cơ hồ', 'đâu đó', 'vừa khi', 'khác nhau', 'ào ào', 'ông ổng', 'gần đến', 'không để', 'trước khi', 'ầu ơ', 'khiến', 'ai', 'lúc trước', 'cần cấp', 'giờ đến', 'mỗi lần', 'vâng', 'nhất là', 'ít thôi', 'đâu đâu', 'có đáng', 'thường', 'lần này', 'ý hoặc', 'ừ thì', 'choa', 'chủn', 'kể như', 'thế lại', 'còn', 'không có', 'lúc đến', 'chớ như', 'nhớ ra', 'thật sự', 'thực ra', 'thực tế', 'ví thử', 'duy có', 'biết thế', 'gây ra', 'chùn chũn', 'phải như', 'tất tật', 'họ gần', 'người khác', 'úi dào', 'xa xả', 'tiếp theo', 'tin', 'bằng cứ', 'dưới nước', 'ngay tức thì', 'phải khi', 'hay đâu', 'quay', 'người nhận', 'hay không', 'đã vậy', 'ngồi không', 'ở trên', 'nghe', 'trước hết', 'ông', 'thục mạng', 'biết', 'ít nhiều', 'nhiều', 'cách không', 'họ', 'tha hồ', 'trong mình', 'thế thôi', 'dù cho', 'lại còn', 'quá đáng', 'chỉ tên', 'như trước', 'nhằm lúc', 'giá trị thực tế', 'liên quan', 'có chuyện', 'tại sao', 'để mà', 'hết ráo', 'bởi thế', 'vượt khỏi', 'nhờ có', 'phải chi', 'lần nào', 'dữ cách', 'ra đây', 'chia sẻ', 'vẫn thế', 'nghỉm', 'từng ấy', 'để đến nỗi', 'chí chết', 'ngay khi', 'xuất hiện', 'nói đến', 'trong vùng', 'để giống', 'chưa bao giờ', 'khá', 'đặt làm', 'dù sao', 'là ít', 'tanh tanh', 'vì thế', 'đặc biệt', 'chúng mình', 'thế chuẩn bị', 'đại phàm', 'ngày tháng', 'chính điểm', 'đến thì', 'thế nên', 'quá thì', 'nghe đâu', 'ngoải', 'nhất loạt', 'xin vâng', 'phải', 'xăm xắm', 'những như', 'cuộc', 'bởi tại', 'gây thêm', 'gì đó', 'về tay', 'lần trước', 'thoắt', 'thích tự', 'chung quy lại', 'ngày này', 'thấy tháng', 'còn có', 'cao lâu', 'nơi nơi', 'thật thà', 'bỗng nhưng', 'nào là', 'mọi khi', 'giữ', 'cho rằng', 'dùng đến', 'bỏ mất', 'áng như', 'như thường', 'lên số', 'ít quá', 'như', 'mọi việc', 'thật tốt', 'đảm bảo', 'gần như', 'dùng', 'đến điều', 'lại bộ', 'từ khi', 'nhưng mà', 'lượng', 'tính căn', 'trước tuổi', 'tăng cấp', 'bằng', 'bị chú', 'trước tiên', 'giữa lúc', 'rồi nữa', 'nhất thì', 'bán dạ', 'tìm hiểu', 'mở mang', 'cả', 'ví phỏng', 'nói lên', 'giảm thấp', 'chứ lại', 'ái', 'thốc tháo', 'rõ thật', 'ngày xưa', 'ông nhỏ', 'giờ lâu', 'sau đây', 'ngay tức khắc', 'dùng làm', 'bán thế', 'xuất kì bất ý', 'bán cấp', 'thím', 'thuộc từ', 'chung', 'quá giờ', 'ôi thôi', 'tìm ra', 'nhận họ', 'đang tay', 'tăng thế', 'nhanh tay', 'chứ gì', 'anh ấy', 'tên chính', 'chắc lòng', 'vô luận', 'nhỏ', 'vài người', 'thêm vào', 'cùng tột', 'trong ấy', 'nước nặng', 'như chơi', 'hơn cả', 'nhận nhau', 'đáng số', 'sau cùng', 'dành', 'cho nên', 'bất đồ', 'đã', 'cô quả', 'đặt ra', 'dần dà', 'à', 'duy', 'đến khi', 'đúng tuổi', 'từng thời gian', 'xa nhà', 'toà', 'mà không', 'ừ ào', 'riêng', 'cả người', 'từ tính', 'một số', 'em em', 'lấy giống', 'lớn nhỏ', 'theo', 'thời gian tính', 'quay lại', 'căn tính', 'rốt cuộc', 'nhận được', 'tất thảy', 'mang mang', 'hết rồi', 'dễ sử dụng', 'có chăng', 'hơn', 'mỗi', 'phía bên', 'không điều kiện', 'mới hay', 'ra ngôi', 'sì sì', 'tha hồ ăn', 'luôn cả', 'ông từ', 'có họ', 'thoạt nhiên', 'phía dưới', 'sao vậy', 'cái gì', 'qua lần', 'bỏ xa', 'có ý', 'mở ra', 'mà', 'bất chợt', 'không gì', 'vừa mới', 'cho tin', 'lớn lên', 'nghe như', 'đến tuổi', 'ở được', 'từ điều', 'oái', 'làm vì', 'bỏ bà', 'là vì', 'tại', 'ấy là', 'cho đến', 'gặp', 'tấn tới', 'bằng nấy', 'rén', 'bấy chừ', 'thường xuất hiện', 'cổ lai', 'việc gì', 'sự thế', 'lấy có', 'bây bẩy', 'có chứ', 'phỏng nước', 'những là', 'biết mấy', 'rốt cục', 'bao nhiêu', 'bà ấy', 'để được', 'căn cái', 'khi không', 'thiếu gì', 'dầu sao', 'các cậu', 'thiếu', 'trời đất ơi', 'thảo nào', 'hay', 'chăng nữa', 'làm cho', 'phắt', 'được lời', 'rất', 'ý', 'ngọn nguồn', 'những lúc', 'từ thế', 'vạn nhất', 'tự tính', 'sau chót', 'thanh ba', 'chớ chi', 'hỏi lại', 'nước bài', 'ông ấy', 'bỏ việc', 'tỏ ra', 'ơ kìa', 'cơn', 'được nước', 'ra chơi', 'thanh', 'ăn tay', 'chắc ăn', 'quan tâm', 'đáng', 'sau cuối', 'sáng thế', 'bài cái', 'sang tay', 'hết cả', 'qua tay', 'quay số', 'không những', 'chiếc', 'cây', 'cho ăn', 'tay quay', 'ra lời', 'cuối điểm', 'mọi nơi', 'nhận biết', 'ngôi thứ', 'tuổi', 'lại ăn', 'như là', 'chăn chắn', 'phải lại', 'vừa lúc', 'nghĩ ra', 'về nước', 'về phần', 'nghe lại', 'quá tin', 'veo', 'ờ ờ', 'ngồi sau', 'và', 'nào cũng', 'khá tốt', 'hoặc', 'răng', 'trên bộ', 'tính cách', 'ba cùng', 'coi bộ', 'tìm cách', 'khỏi', 'là', 'người', 'chắc hẳn', 'phù hợp', 'thế ra', 'làm đúng', 'giờ đi', 'xiết bao', 'đầy tuổi', 'chuyển đạt', 'dẫu mà', 'sất', 'khi trước', 'rất lâu', 'có cơ', 'như ý', 'nào đâu', 'tuần tự', 'trong lúc', 'thuộc bài', 'trệt', 'bằng được', 'cấp', 'bỏ mẹ', 'ăn chắc', 'sự', 'vả chăng', 'cái', 'xuất kỳ bất ý', 'dạ con', 'trước nhất', 'thế mà', 'đây đó', 'làm tăng', 'muốn', 'mọi thứ', 'hỗ trợ', 'úi', 'nghĩ xa', 'ở đây', 'người mình', 'nhân dịp', 'sở dĩ', 'tông tốc', 'tênh', 'nhất sinh', 'quả vậy', 'sao cho', 'bởi nhưng', 'người nghe', 'thường bị', 'thế đó', 'vèo vèo', 'lâu lâu', 'dạ dài', 'thế nào', 'chứ sao', 'dạ', 'ngộ nhỡ', 'mỗi ngày', 'ví dù', 'có điều kiện', 'biết việc', 'ngăn ngắt', 'tên cái', 'gần hết', 'sẽ biết', 'xoét', 'chứ', 'chu cha', 'bước khỏi', 'phỏng', 'rồi ra', 'từng giờ', 'hay sao', 'không nhận', 'giờ này', 'nên người', 'trả của', 'những muốn', 'tênh tênh', 'lại', 'ào vào', 'nhé', 'gần bên', 'đều đều', 'đó đây', 'nhanh', 'dài', 'nhà việc', 'ấy', 'nếu không', 'khác nào', 'trả lại', 'con tính', 'ren rén', 'xem', 'cô ấy', 'ngày giờ', 'từng', 'tới thì', 'bất kể', 'đánh giá', 'bèn', 'nói xa', 'thật quả', 'thường thường', 'ai đó', 'ngồi trệt', 'chú', 'nào đó', 'không bán', 'không được', 'chui cha', 'vượt', 'cái đó', 'trước đó', 'ăn hỏi', 'chứ còn', 'ngày đến', 'ba tăng', 'ngày ấy', 'tạo nên', 'nào', 'bằng nhau', 'nếu cần', 'ra bài', 'ráo trọi', 'đây rồi', 'trong đó', 'quay đi', 'làm ngay', 'quá tuổi', 'trong khi', 'thế thì', 'ai ai', 'ăn quá', 'làm lấy', 'chớ kể', 'tại đó', 'quá mức', 'đâu cũng', 'dành dành', 'lấy vào', 'mỗi lúc', 'chứ lị', 'quan trọng', 'sì', 'nớ', 'cho hay', 'đành đạch', 'bất ngờ', 'khó nói', 'đang', 'amen', 'làm nên', 'cùng với', 'bắt đầu', 'đưa ra', 'thế à', 'chịu chưa', 'có điều', 'tạo cơ hội', 'có ăn', 'khác', 'hay làm', 'không phải không', 'nói qua', 'cả ăn', 'buổi mới', 'bấy nhiêu', 'cũng vậy thôi', 'qua ngày', 'chính là', 'tại vì', 'tự cao', 'chúng tôi', 'ráo cả', 'phương chi', 'nước xuống', 'nên chăng', 'ba ba', 'đáo để', 'rén bước', 'âu là', 'cao răng', 'bên có', 'bỏ không', 'chung quy', 'cùng cực', 'biết được', 'tháng', 'dễ đâu', 'thà rằng', 'xệp', 'nhận thấy', 'thấp xuống', 'đưa xuống', 'đưa tay', 'ngày ngày', 'có ngày', 'thì giờ', 'cả thảy', 'chết tiệt', 'bao giờ', 'bỏ quá', 'sẽ hay', 'vâng dạ', 'dễ như chơi', 'bất quá chỉ', 'á', 'oai oái', 'tự lượng', 'đáng lí', 'đạt', 'nếu', 'luôn luôn', 'buổi làm', 'nhà ngoài', 'lâu', 'ở vào', 'căn', 'không phải', 'khó nghe', 'chị bộ', 'a lô', 'hết nói', 'khỏi nói', 'từ nay', 'rích', 'trước kia', 'thật vậy', 'bài bác', 'giống người', 'giữ lấy', 'lấy cả', 'cao thấp', 'nhận làm', 'không tính', 'ra vào', 'vào vùng', 'dễ ăn', 'thửa', 'biết đâu', 'hoàn toàn', 'một cách', 'phỉ phui', 'đặt mình', 'khoảng', 'ngồi', 'ử', 'suýt', 'tăng giảm', 'thường số', 'lúc khác', 'lại nói', 'ắt là', 'ăn trên', 'quả', 'ở đó', 'mang nặng', 'lên cơn', 'điều', 'dở chừng', 'ra tay', 'hết của', 'đến cả', 'chưa dễ', 'thanh chuyển', 'xem ra', 'nhiên hậu', 'đến', 'công nhiên', 'ráo nước', 'của ngọt', 'lấy thêm', 'nghe thấy', 'hầu hết', 'dù rằng', 'á à', 'do', 'trả trước', 'cha', 'ngay', 'tột', 'vô hình trung', 'toé khói', 'chớ gì', 'đối với', 'mới rồi', 'bất giác', 'cả nghĩ', 'nói với', 'cu cậu', 'lấy lý do', 'mà thôi', 'rày', 'nước quả', 'người người', 'trở thành', 'hay nói', 'khi nào', 'không thể', 'một vài'}\n"
     ]
    }
   ],
   "source": [
    "print(stopwords)"
   ]
  },
  {
   "cell_type": "code",
   "execution_count": 31,
   "metadata": {},
   "outputs": [],
   "source": [
    "for word in stopwords:\n",
    "    df['content'] = df['content'].str.replace(word, '')"
   ]
  },
  {
   "cell_type": "code",
   "execution_count": 32,
   "metadata": {},
   "outputs": [
    {
     "data": {
      "text/plain": [
       "0    Melocalamus scandens l  loi thực vật  hoa   Hò...\n",
       "1    Paleauletobius silenus l  loi bọ cnh ng   Rhyn...\n",
       "2       Zoodes hirsutus l  loi bọ cnh ng   Cbycidae . \n",
       "3    Quốc kỳ Argena ( tiếng Tây Ban Nha : Bande de ...\n",
       "4    Dundahe l  thị trấn thống kê ( census town )  ...\n",
       "Name: content, dtype: object"
      ]
     },
     "execution_count": 32,
     "metadata": {},
     "output_type": "execute_result"
    }
   ],
   "source": [
    "df.content.head(5)"
   ]
  },
  {
   "cell_type": "code",
   "execution_count": 56,
   "metadata": {},
   "outputs": [],
   "source": [
    "def remove_stopwords_vietnamese(text):\n",
    "    tokens = ViTokenizer.tokenize(text)\n",
    "    stopwords = set(nltk.corpus.stopwords.words('vietnamese'))\n",
    "    filtered_tokens = [token for token in tokens.split() if token.lower() not in stopwords]\n",
    "    filtered_text = ' '.join(filtered_tokens)\n",
    "    return filtered_text"
   ]
  },
  {
   "cell_type": "code",
   "execution_count": 33,
   "metadata": {},
   "outputs": [
    {
     "data": {
      "text/plain": [
       "0      Melocalamus scandens l  loi thực vật  hoa   Hò...\n",
       "1      Paleauletobius silenus l  loi bọ cnh ng   Rhyn...\n",
       "2         Zoodes hirsutus l  loi bọ cnh ng   Cbycidae . \n",
       "3      Quốc kỳ Argena ( tiếng Tây Ban Nha : Bande de ...\n",
       "4      Dundahe l  thị trấn thống kê ( census town )  ...\n",
       "                             ...                        \n",
       "939    Ponlat-Tllebourg l  xã  tỉnh Haute-Garonne   O...\n",
       "940    Merimnetria homoxyla l  loi bm đêm   Gelechiid...\n",
       "941    Eschweile mexicana l  loi thực vật linhin   Le...\n",
       "942    Leptoperilissus persicus l  loi tò vò   Ichneu...\n",
       "943    Champasak ( tiếng L : ຈຳປາສັກ [cmpːsk] ) l  th...\n",
       "Name: content, Length: 944, dtype: object"
      ]
     },
     "execution_count": 33,
     "metadata": {},
     "output_type": "execute_result"
    }
   ],
   "source": [
    "df['content']"
   ]
  },
  {
   "cell_type": "code",
   "execution_count": 57,
   "metadata": {},
   "outputs": [],
   "source": [
    "# Apply the function to the 'content' column\n",
    "df['content'] = df['content'].apply(remove_stopwords_vietnamese)"
   ]
  },
  {
   "cell_type": "code",
   "execution_count": 64,
   "metadata": {},
   "outputs": [
    {
     "data": {
      "text/plain": [
       "\"Huyện Ustyansky ( tiếng Nga : ? райо ́ н ) huyện hành_chính tự_quản ( raion ) , Tỉnh Arkhangelsk , Nga . Huyện diện_tích 10522 km² , dân_số thời_điểm 1 1 2000 42000 . Trung_tâm huyện đóng Oktyabr ' skyy .\""
      ]
     },
     "execution_count": 64,
     "metadata": {},
     "output_type": "execute_result"
    }
   ],
   "source": [
    "df.content[17]"
   ]
  },
  {
   "cell_type": "code",
   "execution_count": 44,
   "metadata": {},
   "outputs": [],
   "source": [
    "from pyvi import ViTokenizer, ViPosTagger"
   ]
  },
  {
   "cell_type": "code",
   "execution_count": 48,
   "metadata": {},
   "outputs": [
    {
     "name": "stdout",
     "output_type": "stream",
     "text": [
      "Trường đại_học bách_khoa hà_nội\n"
     ]
    }
   ],
   "source": [
    "tokenized_text = ViTokenizer.tokenize(u\"Trường đại học bách khoa hà nội\")\n",
    "print(tokenized_text)"
   ]
  },
  {
   "cell_type": "code",
   "execution_count": null,
   "metadata": {},
   "outputs": [],
   "source": []
  }
 ],
 "metadata": {
  "kernelspec": {
   "display_name": "hieuhn09",
   "language": "python",
   "name": "python3"
  },
  "language_info": {
   "codemirror_mode": {
    "name": "ipython",
    "version": 3
   },
   "file_extension": ".py",
   "mimetype": "text/x-python",
   "name": "python",
   "nbconvert_exporter": "python",
   "pygments_lexer": "ipython3",
   "version": "3.10.6"
  }
 },
 "nbformat": 4,
 "nbformat_minor": 2
}
