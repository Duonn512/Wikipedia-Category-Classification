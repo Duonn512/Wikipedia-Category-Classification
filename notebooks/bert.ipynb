{
 "cells": [
  {
   "cell_type": "code",
   "execution_count": 1,
   "id": "47247297",
   "metadata": {
    "_cell_guid": "b1076dfc-b9ad-4769-8c92-a6c4dae69d19",
    "_uuid": "8f2839f25d086af736a60e9eeb907d3b93b6e0e5",
    "execution": {
     "iopub.execute_input": "2024-03-30T16:14:31.598808Z",
     "iopub.status.busy": "2024-03-30T16:14:31.598448Z",
     "iopub.status.idle": "2024-03-30T16:14:32.356679Z",
     "shell.execute_reply": "2024-03-30T16:14:32.355440Z"
    },
    "papermill": {
     "duration": 0.769318,
     "end_time": "2024-03-30T16:14:32.358863",
     "exception": false,
     "start_time": "2024-03-30T16:14:31.589545",
     "status": "completed"
    },
    "tags": []
   },
   "outputs": [
    {
     "name": "stdout",
     "output_type": "stream",
     "text": [
      "/kaggle/input/wiki-data2/all_wiki_data.csv\n",
      "/kaggle/input/wiki-data2/test_wiki_data.csv\n",
      "/kaggle/input/wiki-data2/train_wiki_data.csv\n"
     ]
    }
   ],
   "source": [
    "# This Python 3 environment comes with many helpful analytics libraries installed\n",
    "# It is defined by the kaggle/python Docker image: https://github.com/kaggle/docker-python\n",
    "# For example, here's several helpful packages to load\n",
    "\n",
    "import numpy as np # linear algebra\n",
    "import pandas as pd # data processing, CSV file I/O (e.g. pd.read_csv)\n",
    "\n",
    "# Input data files are available in the read-only \"../input/\" directory\n",
    "# For example, running this (by clicking run or pressing Shift+Enter) will list all files under the input directory\n",
    "\n",
    "import os\n",
    "for dirname, _, filenames in os.walk('/kaggle/input'):\n",
    "    for filename in filenames:\n",
    "        print(os.path.join(dirname, filename))\n",
    "\n",
    "# You can write up to 20GB to the current directory (/kaggle/working/) that gets preserved as output when you create a version using \"Save & Run All\" \n",
    "# You can also write temporary files to /kaggle/temp/, but they won't be saved outside of the current session"
   ]
  },
  {
   "cell_type": "code",
   "execution_count": 2,
   "id": "0a9eace3",
   "metadata": {
    "execution": {
     "iopub.execute_input": "2024-03-30T16:14:32.374893Z",
     "iopub.status.busy": "2024-03-30T16:14:32.374524Z",
     "iopub.status.idle": "2024-03-30T16:14:39.884333Z",
     "shell.execute_reply": "2024-03-30T16:14:39.883549Z"
    },
    "papermill": {
     "duration": 7.520261,
     "end_time": "2024-03-30T16:14:39.886594",
     "exception": false,
     "start_time": "2024-03-30T16:14:32.366333",
     "status": "completed"
    },
    "tags": []
   },
   "outputs": [],
   "source": [
    "import torch\n",
    "import torch.nn as nn\n",
    "from transformers import AutoModel, AutoTokenizer\n",
    "from torch.utils.data import DataLoader, Dataset\n",
    "from sklearn.metrics import accuracy_score\n",
    "import pandas as pd"
   ]
  },
  {
   "cell_type": "code",
   "execution_count": 3,
   "id": "07cea71b",
   "metadata": {
    "execution": {
     "iopub.execute_input": "2024-03-30T16:14:39.902996Z",
     "iopub.status.busy": "2024-03-30T16:14:39.902548Z",
     "iopub.status.idle": "2024-03-30T16:14:39.965812Z",
     "shell.execute_reply": "2024-03-30T16:14:39.964966Z"
    },
    "papermill": {
     "duration": 0.073586,
     "end_time": "2024-03-30T16:14:39.967768",
     "exception": false,
     "start_time": "2024-03-30T16:14:39.894182",
     "status": "completed"
    },
    "tags": []
   },
   "outputs": [
    {
     "name": "stdout",
     "output_type": "stream",
     "text": [
      "Device: cuda\n"
     ]
    }
   ],
   "source": [
    "device = torch.device(\"cuda\" if torch.cuda.is_available() else \"cpu\")\n",
    "print(\"Device:\", device)"
   ]
  },
  {
   "cell_type": "code",
   "execution_count": 4,
   "id": "7ae0427f",
   "metadata": {
    "execution": {
     "iopub.execute_input": "2024-03-30T16:14:39.983598Z",
     "iopub.status.busy": "2024-03-30T16:14:39.983299Z",
     "iopub.status.idle": "2024-03-30T16:14:40.037489Z",
     "shell.execute_reply": "2024-03-30T16:14:40.036676Z"
    },
    "papermill": {
     "duration": 0.064525,
     "end_time": "2024-03-30T16:14:40.039687",
     "exception": false,
     "start_time": "2024-03-30T16:14:39.975162",
     "status": "completed"
    },
    "tags": []
   },
   "outputs": [],
   "source": [
    "train_data = pd.read_csv('/kaggle/input/wiki-data2/train_wiki_data.csv',encoding='utf-8', delimiter=',')\n",
    "test_data = pd.read_csv('/kaggle/input/wiki-data2/test_wiki_data.csv',encoding='utf-8', delimiter=',')"
   ]
  },
  {
   "cell_type": "code",
   "execution_count": 5,
   "id": "33142fbf",
   "metadata": {
    "execution": {
     "iopub.execute_input": "2024-03-30T16:14:40.056184Z",
     "iopub.status.busy": "2024-03-30T16:14:40.055884Z",
     "iopub.status.idle": "2024-03-30T16:14:40.073116Z",
     "shell.execute_reply": "2024-03-30T16:14:40.072277Z"
    },
    "papermill": {
     "duration": 0.027584,
     "end_time": "2024-03-30T16:14:40.075027",
     "exception": false,
     "start_time": "2024-03-30T16:14:40.047443",
     "status": "completed"
    },
    "tags": []
   },
   "outputs": [
    {
     "data": {
      "text/plain": [
       "label\n",
       "0    1115\n",
       "1     345\n",
       "3     218\n",
       "2     146\n",
       "Name: count, dtype: int64"
      ]
     },
     "execution_count": 5,
     "metadata": {},
     "output_type": "execute_result"
    }
   ],
   "source": [
    "train_data['label'].value_counts()"
   ]
  },
  {
   "cell_type": "code",
   "execution_count": 6,
   "id": "6071e826",
   "metadata": {
    "execution": {
     "iopub.execute_input": "2024-03-30T16:14:40.091246Z",
     "iopub.status.busy": "2024-03-30T16:14:40.090972Z",
     "iopub.status.idle": "2024-03-30T16:14:40.829639Z",
     "shell.execute_reply": "2024-03-30T16:14:40.828700Z"
    },
    "papermill": {
     "duration": 0.749438,
     "end_time": "2024-03-30T16:14:40.831866",
     "exception": false,
     "start_time": "2024-03-30T16:14:40.082428",
     "status": "completed"
    },
    "tags": []
   },
   "outputs": [
    {
     "name": "stdout",
     "output_type": "stream",
     "text": [
      "[nltk_data] Downloading package stopwords to /usr/share/nltk_data...\n",
      "[nltk_data]   Package stopwords is already up-to-date!\n"
     ]
    }
   ],
   "source": [
    "import re\n",
    "import nltk\n",
    "from stop_words import get_stop_words\n",
    "\n",
    "nltk.download('stopwords')\n",
    "stop_words = get_stop_words('vi')\n",
    "\n",
    "def preprocess_text(text):\n",
    "    text = re.sub(r'\\[\\d+\\]', '', text)\n",
    "    text = re.sub(r'\\([^()]*\\)', '', text)\n",
    "    text = re.sub(r'\\xa0', ' ',text)\n",
    "#     words = text.split()\n",
    "#     filtered_words = [word for word in words if word.lower() not in stop_words]\n",
    "#     filtered_text = ' '.join(filtered_words)\n",
    "    return text"
   ]
  },
  {
   "cell_type": "code",
   "execution_count": 7,
   "id": "ecd5cd4a",
   "metadata": {
    "execution": {
     "iopub.execute_input": "2024-03-30T16:14:40.848295Z",
     "iopub.status.busy": "2024-03-30T16:14:40.847996Z",
     "iopub.status.idle": "2024-03-30T16:14:40.867368Z",
     "shell.execute_reply": "2024-03-30T16:14:40.866607Z"
    },
    "papermill": {
     "duration": 0.029539,
     "end_time": "2024-03-30T16:14:40.869234",
     "exception": false,
     "start_time": "2024-03-30T16:14:40.839695",
     "status": "completed"
    },
    "tags": []
   },
   "outputs": [],
   "source": [
    "train_data['content'] = train_data['content'].apply(preprocess_text)\n",
    "test_data['content'] = test_data['content'].apply(preprocess_text)"
   ]
  },
  {
   "cell_type": "code",
   "execution_count": 8,
   "id": "269214a7",
   "metadata": {
    "execution": {
     "iopub.execute_input": "2024-03-30T16:14:40.886273Z",
     "iopub.status.busy": "2024-03-30T16:14:40.885706Z",
     "iopub.status.idle": "2024-03-30T16:14:40.898851Z",
     "shell.execute_reply": "2024-03-30T16:14:40.898192Z"
    },
    "papermill": {
     "duration": 0.024177,
     "end_time": "2024-03-30T16:14:40.900752",
     "exception": false,
     "start_time": "2024-03-30T16:14:40.876575",
     "status": "completed"
    },
    "tags": []
   },
   "outputs": [],
   "source": [
    "num_samples_to_remove = 600\n",
    "indices_to_remove = train_data[train_data['label'] == 0].sample(n=num_samples_to_remove, random_state=42).index\n",
    "train_data = train_data.drop(indices_to_remove)"
   ]
  },
  {
   "cell_type": "code",
   "execution_count": 9,
   "id": "a5a27b22",
   "metadata": {
    "execution": {
     "iopub.execute_input": "2024-03-30T16:14:40.916463Z",
     "iopub.status.busy": "2024-03-30T16:14:40.916216Z",
     "iopub.status.idle": "2024-03-30T16:14:40.922832Z",
     "shell.execute_reply": "2024-03-30T16:14:40.922053Z"
    },
    "papermill": {
     "duration": 0.016497,
     "end_time": "2024-03-30T16:14:40.924643",
     "exception": false,
     "start_time": "2024-03-30T16:14:40.908146",
     "status": "completed"
    },
    "tags": []
   },
   "outputs": [
    {
     "data": {
      "text/plain": [
       "label\n",
       "0    515\n",
       "1    345\n",
       "3    218\n",
       "2    146\n",
       "Name: count, dtype: int64"
      ]
     },
     "execution_count": 9,
     "metadata": {},
     "output_type": "execute_result"
    }
   ],
   "source": [
    "train_data['label'].value_counts()"
   ]
  },
  {
   "cell_type": "code",
   "execution_count": 10,
   "id": "a44d2e9a",
   "metadata": {
    "execution": {
     "iopub.execute_input": "2024-03-30T16:14:40.940767Z",
     "iopub.status.busy": "2024-03-30T16:14:40.940481Z",
     "iopub.status.idle": "2024-03-30T16:14:40.949465Z",
     "shell.execute_reply": "2024-03-30T16:14:40.948542Z"
    },
    "papermill": {
     "duration": 0.019399,
     "end_time": "2024-03-30T16:14:40.951577",
     "exception": false,
     "start_time": "2024-03-30T16:14:40.932178",
     "status": "completed"
    },
    "tags": []
   },
   "outputs": [
    {
     "data": {
      "text/plain": [
       "label\n",
       "False    1224\n",
       "Name: count, dtype: int64"
      ]
     },
     "execution_count": 10,
     "metadata": {},
     "output_type": "execute_result"
    }
   ],
   "source": [
    "train_data['label'].isnull().value_counts()"
   ]
  },
  {
   "cell_type": "code",
   "execution_count": 11,
   "id": "405fef88",
   "metadata": {
    "execution": {
     "iopub.execute_input": "2024-03-30T16:14:40.969267Z",
     "iopub.status.busy": "2024-03-30T16:14:40.968981Z",
     "iopub.status.idle": "2024-03-30T16:14:40.973715Z",
     "shell.execute_reply": "2024-03-30T16:14:40.972869Z"
    },
    "papermill": {
     "duration": 0.015707,
     "end_time": "2024-03-30T16:14:40.975710",
     "exception": false,
     "start_time": "2024-03-30T16:14:40.960003",
     "status": "completed"
    },
    "tags": []
   },
   "outputs": [],
   "source": [
    "train_data = train_data.reset_index(drop=True)"
   ]
  },
  {
   "cell_type": "code",
   "execution_count": 12,
   "id": "a2125817",
   "metadata": {
    "execution": {
     "iopub.execute_input": "2024-03-30T16:14:40.994480Z",
     "iopub.status.busy": "2024-03-30T16:14:40.994223Z",
     "iopub.status.idle": "2024-03-30T16:14:41.008667Z",
     "shell.execute_reply": "2024-03-30T16:14:41.007758Z"
    },
    "papermill": {
     "duration": 0.026064,
     "end_time": "2024-03-30T16:14:41.010884",
     "exception": false,
     "start_time": "2024-03-30T16:14:40.984820",
     "status": "completed"
    },
    "tags": []
   },
   "outputs": [
    {
     "data": {
      "text/html": [
       "<div>\n",
       "<style scoped>\n",
       "    .dataframe tbody tr th:only-of-type {\n",
       "        vertical-align: middle;\n",
       "    }\n",
       "\n",
       "    .dataframe tbody tr th {\n",
       "        vertical-align: top;\n",
       "    }\n",
       "\n",
       "    .dataframe thead th {\n",
       "        text-align: right;\n",
       "    }\n",
       "</style>\n",
       "<table border=\"1\" class=\"dataframe\">\n",
       "  <thead>\n",
       "    <tr style=\"text-align: right;\">\n",
       "      <th></th>\n",
       "      <th>title</th>\n",
       "      <th>content</th>\n",
       "      <th>label</th>\n",
       "    </tr>\n",
       "  </thead>\n",
       "  <tbody>\n",
       "    <tr>\n",
       "      <th>0</th>\n",
       "      <td>Paleauletobius silenus</td>\n",
       "      <td>Paleauletobius silenus là một loài bọ cánh cứn...</td>\n",
       "      <td>0</td>\n",
       "    </tr>\n",
       "    <tr>\n",
       "      <th>1</th>\n",
       "      <td>Dundahera</td>\n",
       "      <td>Dundahera là một thị trấn thống kê  của quận G...</td>\n",
       "      <td>1</td>\n",
       "    </tr>\n",
       "    <tr>\n",
       "      <th>2</th>\n",
       "      <td>Nạn khan hiếm nhu yếu phẩm tại Venezuela</td>\n",
       "      <td>Nạn khan hiếm nhu yếu phẩm tại Venezuela  được...</td>\n",
       "      <td>1</td>\n",
       "    </tr>\n",
       "    <tr>\n",
       "      <th>3</th>\n",
       "      <td>Archidendron royenii</td>\n",
       "      <td>Archidendron royenii là một loài thực vật có h...</td>\n",
       "      <td>0</td>\n",
       "    </tr>\n",
       "    <tr>\n",
       "      <th>4</th>\n",
       "      <td>Laurens, Hérault</td>\n",
       "      <td>Laurens là một xã thuộc tỉnh Hérault trong vùn...</td>\n",
       "      <td>1</td>\n",
       "    </tr>\n",
       "    <tr>\n",
       "      <th>...</th>\n",
       "      <td>...</td>\n",
       "      <td>...</td>\n",
       "      <td>...</td>\n",
       "    </tr>\n",
       "    <tr>\n",
       "      <th>1219</th>\n",
       "      <td>Thể thao cá nhân</td>\n",
       "      <td>Thuật ngữ nhóm các môn thể thao cá nhân dùng đ...</td>\n",
       "      <td>3</td>\n",
       "    </tr>\n",
       "    <tr>\n",
       "      <th>1220</th>\n",
       "      <td>Ba môn phối hợp</td>\n",
       "      <td>Ba môn phối hợp  bao gồm chạy bộ , bơi và đua ...</td>\n",
       "      <td>3</td>\n",
       "    </tr>\n",
       "    <tr>\n",
       "      <th>1221</th>\n",
       "      <td>Trò chơi bài</td>\n",
       "      <td>Một trò chơi bài là bất kỳ trò chơi nào sử dụn...</td>\n",
       "      <td>3</td>\n",
       "    </tr>\n",
       "    <tr>\n",
       "      <th>1222</th>\n",
       "      <td>Thể thao trí tuệ</td>\n",
       "      <td>Thể thao trí tuệ là loại thể thao tập trung và...</td>\n",
       "      <td>3</td>\n",
       "    </tr>\n",
       "    <tr>\n",
       "      <th>1223</th>\n",
       "      <td>Bộ bài Tây</td>\n",
       "      <td>Bộ bài Tây  - bao gồm có 54 lá bài , trong đó ...</td>\n",
       "      <td>3</td>\n",
       "    </tr>\n",
       "  </tbody>\n",
       "</table>\n",
       "<p>1224 rows × 3 columns</p>\n",
       "</div>"
      ],
      "text/plain": [
       "                                         title  \\\n",
       "0                       Paleauletobius silenus   \n",
       "1                                    Dundahera   \n",
       "2     Nạn khan hiếm nhu yếu phẩm tại Venezuela   \n",
       "3                         Archidendron royenii   \n",
       "4                             Laurens, Hérault   \n",
       "...                                        ...   \n",
       "1219                          Thể thao cá nhân   \n",
       "1220                           Ba môn phối hợp   \n",
       "1221                              Trò chơi bài   \n",
       "1222                          Thể thao trí tuệ   \n",
       "1223                                Bộ bài Tây   \n",
       "\n",
       "                                                content  label  \n",
       "0     Paleauletobius silenus là một loài bọ cánh cứn...      0  \n",
       "1     Dundahera là một thị trấn thống kê  của quận G...      1  \n",
       "2     Nạn khan hiếm nhu yếu phẩm tại Venezuela  được...      1  \n",
       "3     Archidendron royenii là một loài thực vật có h...      0  \n",
       "4     Laurens là một xã thuộc tỉnh Hérault trong vùn...      1  \n",
       "...                                                 ...    ...  \n",
       "1219  Thuật ngữ nhóm các môn thể thao cá nhân dùng đ...      3  \n",
       "1220  Ba môn phối hợp  bao gồm chạy bộ , bơi và đua ...      3  \n",
       "1221  Một trò chơi bài là bất kỳ trò chơi nào sử dụn...      3  \n",
       "1222  Thể thao trí tuệ là loại thể thao tập trung và...      3  \n",
       "1223  Bộ bài Tây  - bao gồm có 54 lá bài , trong đó ...      3  \n",
       "\n",
       "[1224 rows x 3 columns]"
      ]
     },
     "execution_count": 12,
     "metadata": {},
     "output_type": "execute_result"
    }
   ],
   "source": [
    "train_data"
   ]
  },
  {
   "cell_type": "code",
   "execution_count": 13,
   "id": "506a430e",
   "metadata": {
    "execution": {
     "iopub.execute_input": "2024-03-30T16:14:41.029877Z",
     "iopub.status.busy": "2024-03-30T16:14:41.029584Z",
     "iopub.status.idle": "2024-03-30T16:14:41.040214Z",
     "shell.execute_reply": "2024-03-30T16:14:41.039269Z"
    },
    "papermill": {
     "duration": 0.022277,
     "end_time": "2024-03-30T16:14:41.042373",
     "exception": false,
     "start_time": "2024-03-30T16:14:41.020096",
     "status": "completed"
    },
    "tags": []
   },
   "outputs": [
    {
     "data": {
      "text/html": [
       "<div>\n",
       "<style scoped>\n",
       "    .dataframe tbody tr th:only-of-type {\n",
       "        vertical-align: middle;\n",
       "    }\n",
       "\n",
       "    .dataframe tbody tr th {\n",
       "        vertical-align: top;\n",
       "    }\n",
       "\n",
       "    .dataframe thead th {\n",
       "        text-align: right;\n",
       "    }\n",
       "</style>\n",
       "<table border=\"1\" class=\"dataframe\">\n",
       "  <thead>\n",
       "    <tr style=\"text-align: right;\">\n",
       "      <th></th>\n",
       "      <th>title</th>\n",
       "      <th>content</th>\n",
       "      <th>label</th>\n",
       "    </tr>\n",
       "  </thead>\n",
       "  <tbody>\n",
       "    <tr>\n",
       "      <th>0</th>\n",
       "      <td>Pholcus mengla</td>\n",
       "      <td>Pholcus mengla là một loài nhện trong họ Pholc...</td>\n",
       "      <td>0</td>\n",
       "    </tr>\n",
       "    <tr>\n",
       "      <th>1</th>\n",
       "      <td>Sideridis pseudoyu</td>\n",
       "      <td>Sideridis pseudoyu là một loài bướm đêm trong ...</td>\n",
       "      <td>0</td>\n",
       "    </tr>\n",
       "    <tr>\n",
       "      <th>2</th>\n",
       "      <td>Quasimus geminus</td>\n",
       "      <td>Quasimus geminus là một loài bọ cánh cứng tron...</td>\n",
       "      <td>0</td>\n",
       "    </tr>\n",
       "    <tr>\n",
       "      <th>3</th>\n",
       "      <td>Lepanthes saltatrix</td>\n",
       "      <td>Lepanthes saltatrix là một loài thực vật có ho...</td>\n",
       "      <td>0</td>\n",
       "    </tr>\n",
       "    <tr>\n",
       "      <th>4</th>\n",
       "      <td>Glenea elongatipennis</td>\n",
       "      <td>Glenea elongatipennis là một loài bọ cánh cứng...</td>\n",
       "      <td>0</td>\n",
       "    </tr>\n",
       "    <tr>\n",
       "      <th>...</th>\n",
       "      <td>...</td>\n",
       "      <td>...</td>\n",
       "      <td>...</td>\n",
       "    </tr>\n",
       "    <tr>\n",
       "      <th>395</th>\n",
       "      <td>Victor Hugo</td>\n",
       "      <td>Victor-Marie Hugo ( tiếng Pháp: [viktɔʁ maʁi y...</td>\n",
       "      <td>3</td>\n",
       "    </tr>\n",
       "    <tr>\n",
       "      <th>396</th>\n",
       "      <td>YouTuber</td>\n",
       "      <td>Một YouTuber là một nhân vật trực tuyến và/hoặ...</td>\n",
       "      <td>3</td>\n",
       "    </tr>\n",
       "    <tr>\n",
       "      <th>397</th>\n",
       "      <td>Danh sách đĩa đơn bán chạy nhất thế giới</td>\n",
       "      <td>Danh sách các đĩa đơn bán chạy nhất liệt kê cá...</td>\n",
       "      <td>3</td>\n",
       "    </tr>\n",
       "    <tr>\n",
       "      <th>398</th>\n",
       "      <td>Tabloid Junkie</td>\n",
       "      <td>\" Tabloid Junkie \" là ca khúc nhạc pop do nghệ...</td>\n",
       "      <td>3</td>\n",
       "    </tr>\n",
       "    <tr>\n",
       "      <th>399</th>\n",
       "      <td>Morenatsu</td>\n",
       "      <td>Morenatsu-漏れなつ。 là 1 Adult game của Nhật Bản ....</td>\n",
       "      <td>3</td>\n",
       "    </tr>\n",
       "  </tbody>\n",
       "</table>\n",
       "<p>400 rows × 3 columns</p>\n",
       "</div>"
      ],
      "text/plain": [
       "                                        title  \\\n",
       "0                              Pholcus mengla   \n",
       "1                          Sideridis pseudoyu   \n",
       "2                            Quasimus geminus   \n",
       "3                         Lepanthes saltatrix   \n",
       "4                       Glenea elongatipennis   \n",
       "..                                        ...   \n",
       "395                               Victor Hugo   \n",
       "396                                  YouTuber   \n",
       "397  Danh sách đĩa đơn bán chạy nhất thế giới   \n",
       "398                            Tabloid Junkie   \n",
       "399                                 Morenatsu   \n",
       "\n",
       "                                               content  label  \n",
       "0    Pholcus mengla là một loài nhện trong họ Pholc...      0  \n",
       "1    Sideridis pseudoyu là một loài bướm đêm trong ...      0  \n",
       "2    Quasimus geminus là một loài bọ cánh cứng tron...      0  \n",
       "3    Lepanthes saltatrix là một loài thực vật có ho...      0  \n",
       "4    Glenea elongatipennis là một loài bọ cánh cứng...      0  \n",
       "..                                                 ...    ...  \n",
       "395  Victor-Marie Hugo ( tiếng Pháp: [viktɔʁ maʁi y...      3  \n",
       "396  Một YouTuber là một nhân vật trực tuyến và/hoặ...      3  \n",
       "397  Danh sách các đĩa đơn bán chạy nhất liệt kê cá...      3  \n",
       "398  \" Tabloid Junkie \" là ca khúc nhạc pop do nghệ...      3  \n",
       "399  Morenatsu-漏れなつ。 là 1 Adult game của Nhật Bản ....      3  \n",
       "\n",
       "[400 rows x 3 columns]"
      ]
     },
     "execution_count": 13,
     "metadata": {},
     "output_type": "execute_result"
    }
   ],
   "source": [
    "test_data"
   ]
  },
  {
   "cell_type": "code",
   "execution_count": 14,
   "id": "1cefdd2f",
   "metadata": {
    "execution": {
     "iopub.execute_input": "2024-03-30T16:14:41.061744Z",
     "iopub.status.busy": "2024-03-30T16:14:41.061426Z",
     "iopub.status.idle": "2024-03-30T16:14:41.068779Z",
     "shell.execute_reply": "2024-03-30T16:14:41.067832Z"
    },
    "papermill": {
     "duration": 0.019475,
     "end_time": "2024-03-30T16:14:41.071416",
     "exception": false,
     "start_time": "2024-03-30T16:14:41.051941",
     "status": "completed"
    },
    "tags": []
   },
   "outputs": [
    {
     "data": {
      "text/plain": [
       "0      Pholcus mengla là một loài nhện trong họ Pholc...\n",
       "1      Sideridis pseudoyu là một loài bướm đêm trong ...\n",
       "2      Quasimus geminus là một loài bọ cánh cứng tron...\n",
       "3      Lepanthes saltatrix là một loài thực vật có ho...\n",
       "4      Glenea elongatipennis là một loài bọ cánh cứng...\n",
       "                             ...                        \n",
       "395    Victor-Marie Hugo ( tiếng Pháp: [viktɔʁ maʁi y...\n",
       "396    Một YouTuber là một nhân vật trực tuyến và/hoặ...\n",
       "397    Danh sách các đĩa đơn bán chạy nhất liệt kê cá...\n",
       "398    \" Tabloid Junkie \" là ca khúc nhạc pop do nghệ...\n",
       "399    Morenatsu-漏れなつ。 là 1 Adult game của Nhật Bản ....\n",
       "Name: content, Length: 400, dtype: object"
      ]
     },
     "execution_count": 14,
     "metadata": {},
     "output_type": "execute_result"
    }
   ],
   "source": [
    "test_data['content']"
   ]
  },
  {
   "cell_type": "code",
   "execution_count": 15,
   "id": "32045949",
   "metadata": {
    "execution": {
     "iopub.execute_input": "2024-03-30T16:14:41.091122Z",
     "iopub.status.busy": "2024-03-30T16:14:41.090860Z",
     "iopub.status.idle": "2024-03-30T16:14:41.095351Z",
     "shell.execute_reply": "2024-03-30T16:14:41.094539Z"
    },
    "papermill": {
     "duration": 0.016044,
     "end_time": "2024-03-30T16:14:41.097344",
     "exception": false,
     "start_time": "2024-03-30T16:14:41.081300",
     "status": "completed"
    },
    "tags": []
   },
   "outputs": [
    {
     "name": "stdout",
     "output_type": "stream",
     "text": [
      "1224\n",
      "1224\n"
     ]
    }
   ],
   "source": [
    "print(len(train_data[\"content\"]))\n",
    "print(len(train_data[\"label\"]))"
   ]
  },
  {
   "cell_type": "code",
   "execution_count": 16,
   "id": "8a2b7f0a",
   "metadata": {
    "execution": {
     "iopub.execute_input": "2024-03-30T16:14:41.116288Z",
     "iopub.status.busy": "2024-03-30T16:14:41.115612Z",
     "iopub.status.idle": "2024-03-30T16:14:41.121223Z",
     "shell.execute_reply": "2024-03-30T16:14:41.120305Z"
    },
    "papermill": {
     "duration": 0.017548,
     "end_time": "2024-03-30T16:14:41.123426",
     "exception": false,
     "start_time": "2024-03-30T16:14:41.105878",
     "status": "completed"
    },
    "tags": []
   },
   "outputs": [
    {
     "name": "stdout",
     "output_type": "stream",
     "text": [
      "0\n",
      "0\n"
     ]
    }
   ],
   "source": [
    "print(train_data[\"content\"].isnull().sum())\n",
    "print(train_data[\"label\"].isnull().sum())"
   ]
  },
  {
   "cell_type": "code",
   "execution_count": 17,
   "id": "e152904d",
   "metadata": {
    "execution": {
     "iopub.execute_input": "2024-03-30T16:14:41.142782Z",
     "iopub.status.busy": "2024-03-30T16:14:41.142463Z",
     "iopub.status.idle": "2024-03-30T16:14:41.146681Z",
     "shell.execute_reply": "2024-03-30T16:14:41.145804Z"
    },
    "papermill": {
     "duration": 0.016137,
     "end_time": "2024-03-30T16:14:41.148713",
     "exception": false,
     "start_time": "2024-03-30T16:14:41.132576",
     "status": "completed"
    },
    "tags": []
   },
   "outputs": [],
   "source": [
    "# Define training parameters\n",
    "MAX_LEN = 256\n",
    "BATCH_SIZE = 16\n",
    "EPOCHS = 10\n",
    "LEARNING_RATE = 0.001"
   ]
  },
  {
   "cell_type": "code",
   "execution_count": 18,
   "id": "8f44f135",
   "metadata": {
    "execution": {
     "iopub.execute_input": "2024-03-30T16:14:41.169103Z",
     "iopub.status.busy": "2024-03-30T16:14:41.168391Z",
     "iopub.status.idle": "2024-03-30T16:14:41.176391Z",
     "shell.execute_reply": "2024-03-30T16:14:41.175541Z"
    },
    "papermill": {
     "duration": 0.020322,
     "end_time": "2024-03-30T16:14:41.178403",
     "exception": false,
     "start_time": "2024-03-30T16:14:41.158081",
     "status": "completed"
    },
    "tags": []
   },
   "outputs": [],
   "source": [
    "# Define dataset class\n",
    "class CustomDataset(Dataset):\n",
    "    def __init__(self, dataframe, tokenizer, max_len):\n",
    "        self.data = dataframe\n",
    "        self.tokenizer = tokenizer\n",
    "        self.max_len = max_len\n",
    "        \n",
    "    def __len__(self):\n",
    "        return len(self.data)\n",
    "    \n",
    "    def __getitem__(self, index):\n",
    "        content = str(self.data.loc[index, 'content'])\n",
    "        label = self.data.loc[index, 'label']\n",
    "        \n",
    "        encoding = self.tokenizer.encode_plus(\n",
    "            content,\n",
    "            add_special_tokens=True,\n",
    "            max_length=self.max_len,\n",
    "            return_token_type_ids=False,\n",
    "            padding='max_length',\n",
    "            truncation=True,\n",
    "            return_attention_mask=True,\n",
    "            return_tensors='pt'\n",
    "        )\n",
    "        \n",
    "        return {\n",
    "            'content': content,\n",
    "            'input_ids': encoding['input_ids'].flatten(),\n",
    "            'attention_mask': encoding['attention_mask'].flatten(),\n",
    "            'label': torch.tensor(label, dtype=torch.long)\n",
    "        }\n"
   ]
  },
  {
   "cell_type": "code",
   "execution_count": 19,
   "id": "070ea012",
   "metadata": {
    "execution": {
     "iopub.execute_input": "2024-03-30T16:14:41.196759Z",
     "iopub.status.busy": "2024-03-30T16:14:41.196442Z",
     "iopub.status.idle": "2024-03-30T16:14:48.790038Z",
     "shell.execute_reply": "2024-03-30T16:14:48.789035Z"
    },
    "papermill": {
     "duration": 7.604977,
     "end_time": "2024-03-30T16:14:48.792121",
     "exception": false,
     "start_time": "2024-03-30T16:14:41.187144",
     "status": "completed"
    },
    "tags": []
   },
   "outputs": [
    {
     "data": {
      "application/vnd.jupyter.widget-view+json": {
       "model_id": "cc9b92f59a184c529409ada3b3724458",
       "version_major": 2,
       "version_minor": 0
      },
      "text/plain": [
       "config.json:   0%|          | 0.00/557 [00:00<?, ?B/s]"
      ]
     },
     "metadata": {},
     "output_type": "display_data"
    },
    {
     "data": {
      "application/vnd.jupyter.widget-view+json": {
       "model_id": "c785f24363e0452f8b62cc058b36ac5d",
       "version_major": 2,
       "version_minor": 0
      },
      "text/plain": [
       "vocab.txt:   0%|          | 0.00/895k [00:00<?, ?B/s]"
      ]
     },
     "metadata": {},
     "output_type": "display_data"
    },
    {
     "data": {
      "application/vnd.jupyter.widget-view+json": {
       "model_id": "8a14ac5679b34d36bba6d4001af1310d",
       "version_major": 2,
       "version_minor": 0
      },
      "text/plain": [
       "bpe.codes:   0%|          | 0.00/1.14M [00:00<?, ?B/s]"
      ]
     },
     "metadata": {},
     "output_type": "display_data"
    },
    {
     "data": {
      "application/vnd.jupyter.widget-view+json": {
       "model_id": "50f879f2a8b94ed38f2bc6a4753524b2",
       "version_major": 2,
       "version_minor": 0
      },
      "text/plain": [
       "tokenizer.json:   0%|          | 0.00/3.13M [00:00<?, ?B/s]"
      ]
     },
     "metadata": {},
     "output_type": "display_data"
    },
    {
     "data": {
      "application/vnd.jupyter.widget-view+json": {
       "model_id": "ffe039c5c44349fcb8b3e0ef64398354",
       "version_major": 2,
       "version_minor": 0
      },
      "text/plain": [
       "pytorch_model.bin:   0%|          | 0.00/543M [00:00<?, ?B/s]"
      ]
     },
     "metadata": {},
     "output_type": "display_data"
    },
    {
     "name": "stderr",
     "output_type": "stream",
     "text": [
      "/opt/conda/lib/python3.10/site-packages/torch/_utils.py:831: UserWarning: TypedStorage is deprecated. It will be removed in the future and UntypedStorage will be the only storage class. This should only matter to you if you are using storages directly.  To access UntypedStorage directly, use tensor.untyped_storage() instead of tensor.storage()\n",
      "  return self.fget.__get__(instance, owner)()\n"
     ]
    },
    {
     "data": {
      "text/plain": [
       "RobertaModel(\n",
       "  (embeddings): RobertaEmbeddings(\n",
       "    (word_embeddings): Embedding(64001, 768, padding_idx=1)\n",
       "    (position_embeddings): Embedding(258, 768, padding_idx=1)\n",
       "    (token_type_embeddings): Embedding(1, 768)\n",
       "    (LayerNorm): LayerNorm((768,), eps=1e-05, elementwise_affine=True)\n",
       "    (dropout): Dropout(p=0.1, inplace=False)\n",
       "  )\n",
       "  (encoder): RobertaEncoder(\n",
       "    (layer): ModuleList(\n",
       "      (0-11): 12 x RobertaLayer(\n",
       "        (attention): RobertaAttention(\n",
       "          (self): RobertaSelfAttention(\n",
       "            (query): Linear(in_features=768, out_features=768, bias=True)\n",
       "            (key): Linear(in_features=768, out_features=768, bias=True)\n",
       "            (value): Linear(in_features=768, out_features=768, bias=True)\n",
       "            (dropout): Dropout(p=0.1, inplace=False)\n",
       "          )\n",
       "          (output): RobertaSelfOutput(\n",
       "            (dense): Linear(in_features=768, out_features=768, bias=True)\n",
       "            (LayerNorm): LayerNorm((768,), eps=1e-05, elementwise_affine=True)\n",
       "            (dropout): Dropout(p=0.1, inplace=False)\n",
       "          )\n",
       "        )\n",
       "        (intermediate): RobertaIntermediate(\n",
       "          (dense): Linear(in_features=768, out_features=3072, bias=True)\n",
       "          (intermediate_act_fn): GELUActivation()\n",
       "        )\n",
       "        (output): RobertaOutput(\n",
       "          (dense): Linear(in_features=3072, out_features=768, bias=True)\n",
       "          (LayerNorm): LayerNorm((768,), eps=1e-05, elementwise_affine=True)\n",
       "          (dropout): Dropout(p=0.1, inplace=False)\n",
       "        )\n",
       "      )\n",
       "    )\n",
       "  )\n",
       "  (pooler): RobertaPooler(\n",
       "    (dense): Linear(in_features=768, out_features=768, bias=True)\n",
       "    (activation): Tanh()\n",
       "  )\n",
       ")"
      ]
     },
     "execution_count": 19,
     "metadata": {},
     "output_type": "execute_result"
    }
   ],
   "source": [
    "# Initialize tokenizer and model\n",
    "tokenizer = AutoTokenizer.from_pretrained(\"vinai/phobert-base\", use_fast=False)\n",
    "model = AutoModel.from_pretrained(\"vinai/phobert-base\")\n",
    "# Move model to GPU\n",
    "model.to(device)"
   ]
  },
  {
   "cell_type": "code",
   "execution_count": 20,
   "id": "7afd8a25",
   "metadata": {
    "execution": {
     "iopub.execute_input": "2024-03-30T16:14:48.813563Z",
     "iopub.status.busy": "2024-03-30T16:14:48.813092Z",
     "iopub.status.idle": "2024-03-30T16:14:48.819317Z",
     "shell.execute_reply": "2024-03-30T16:14:48.818431Z"
    },
    "papermill": {
     "duration": 0.018754,
     "end_time": "2024-03-30T16:14:48.821102",
     "exception": false,
     "start_time": "2024-03-30T16:14:48.802348",
     "status": "completed"
    },
    "tags": []
   },
   "outputs": [],
   "source": [
    "# Define additional layers for classification\n",
    "class Classifier(nn.Module):\n",
    "    def __init__(self, input_dim, hidden_dim, output_dim):\n",
    "        super(Classifier, self).__init__()\n",
    "        self.fc1 = nn.Linear(input_dim, hidden_dim)\n",
    "        self.fc2 = nn.Linear(hidden_dim, output_dim)\n",
    "        self.dropout = nn.Dropout(0.2)\n",
    "        \n",
    "    def forward(self, x):\n",
    "        x = self.dropout(torch.relu(self.fc1(x)))\n",
    "        x = self.fc2(x)\n",
    "        return x\n"
   ]
  },
  {
   "cell_type": "code",
   "execution_count": 21,
   "id": "5096c26c",
   "metadata": {
    "execution": {
     "iopub.execute_input": "2024-03-30T16:14:48.841373Z",
     "iopub.status.busy": "2024-03-30T16:14:48.841117Z",
     "iopub.status.idle": "2024-03-30T16:14:48.846162Z",
     "shell.execute_reply": "2024-03-30T16:14:48.845272Z"
    },
    "papermill": {
     "duration": 0.017396,
     "end_time": "2024-03-30T16:14:48.848097",
     "exception": false,
     "start_time": "2024-03-30T16:14:48.830701",
     "status": "completed"
    },
    "tags": []
   },
   "outputs": [],
   "source": [
    "# Prepare DataLoader\n",
    "train_dataset = CustomDataset(train_data, tokenizer, MAX_LEN)\n",
    "train_loader = DataLoader(train_dataset, batch_size=BATCH_SIZE, shuffle=True)\n",
    "\n",
    "test_dataset = CustomDataset(test_data, tokenizer, MAX_LEN)\n",
    "test_loader = DataLoader(test_dataset, batch_size=BATCH_SIZE, shuffle=False)\n"
   ]
  },
  {
   "cell_type": "code",
   "execution_count": 22,
   "id": "9f7cae3c",
   "metadata": {
    "execution": {
     "iopub.execute_input": "2024-03-30T16:14:48.868387Z",
     "iopub.status.busy": "2024-03-30T16:14:48.868120Z",
     "iopub.status.idle": "2024-03-30T16:14:48.879549Z",
     "shell.execute_reply": "2024-03-30T16:14:48.878706Z"
    },
    "papermill": {
     "duration": 0.023759,
     "end_time": "2024-03-30T16:14:48.881480",
     "exception": false,
     "start_time": "2024-03-30T16:14:48.857721",
     "status": "completed"
    },
    "tags": []
   },
   "outputs": [
    {
     "data": {
      "text/plain": [
       "Classifier(\n",
       "  (fc1): Linear(in_features=768, out_features=64, bias=True)\n",
       "  (fc2): Linear(in_features=64, out_features=4, bias=True)\n",
       "  (dropout): Dropout(p=0.2, inplace=False)\n",
       ")"
      ]
     },
     "execution_count": 22,
     "metadata": {},
     "output_type": "execute_result"
    }
   ],
   "source": [
    "# Initialize classifier\n",
    "num_labels = 4\n",
    "classifier = Classifier(input_dim=model.config.hidden_size, hidden_dim=64, output_dim=num_labels)\n",
    "\n",
    "# Move classifier to GPU\n",
    "classifier.to(device)"
   ]
  },
  {
   "cell_type": "code",
   "execution_count": 23,
   "id": "5c219103",
   "metadata": {
    "execution": {
     "iopub.execute_input": "2024-03-30T16:14:48.902105Z",
     "iopub.status.busy": "2024-03-30T16:14:48.901821Z",
     "iopub.status.idle": "2024-03-30T16:14:48.906329Z",
     "shell.execute_reply": "2024-03-30T16:14:48.905537Z"
    },
    "papermill": {
     "duration": 0.016926,
     "end_time": "2024-03-30T16:14:48.908251",
     "exception": false,
     "start_time": "2024-03-30T16:14:48.891325",
     "status": "completed"
    },
    "tags": []
   },
   "outputs": [],
   "source": [
    "# Define loss function and optimizer\n",
    "loss_fn = nn.CrossEntropyLoss()\n",
    "optimizer = torch.optim.Adam(classifier.parameters(), lr=LEARNING_RATE, weight_decay=0.01)"
   ]
  },
  {
   "cell_type": "code",
   "execution_count": 24,
   "id": "2c60d818",
   "metadata": {
    "execution": {
     "iopub.execute_input": "2024-03-30T16:14:48.929295Z",
     "iopub.status.busy": "2024-03-30T16:14:48.929033Z",
     "iopub.status.idle": "2024-03-30T16:17:00.764911Z",
     "shell.execute_reply": "2024-03-30T16:17:00.764001Z"
    },
    "papermill": {
     "duration": 131.84912,
     "end_time": "2024-03-30T16:17:00.767115",
     "exception": false,
     "start_time": "2024-03-30T16:14:48.917995",
     "status": "completed"
    },
    "tags": []
   },
   "outputs": [
    {
     "name": "stdout",
     "output_type": "stream",
     "text": [
      "Epoch 1/10, Train Loss: 0.8522, Val Loss: 0.6108\n",
      "Classification Report:\n",
      "              precision    recall  f1-score   support\n",
      "\n",
      "           0       0.95      0.95      0.95       120\n",
      "           1       0.93      0.75      0.83       120\n",
      "           2       0.86      0.45      0.59        80\n",
      "           3       0.54      0.95      0.69        80\n",
      "\n",
      "    accuracy                           0.79       400\n",
      "   macro avg       0.82      0.77      0.76       400\n",
      "weighted avg       0.84      0.79      0.79       400\n",
      "\n",
      "Percentage of wrong predictions for each label:\n",
      "{0: 5.0, 1: 25.0, 2: 55.00000000000001, 3: 5.0}\n",
      "Epoch 2/10, Train Loss: 0.4669, Val Loss: 0.4849\n",
      "Classification Report:\n",
      "              precision    recall  f1-score   support\n",
      "\n",
      "           0       0.94      0.94      0.94       120\n",
      "           1       0.91      0.77      0.83       120\n",
      "           2       0.83      0.66      0.74        80\n",
      "           3       0.60      0.86      0.71        80\n",
      "\n",
      "    accuracy                           0.82       400\n",
      "   macro avg       0.82      0.81      0.80       400\n",
      "weighted avg       0.84      0.82      0.82       400\n",
      "\n",
      "Percentage of wrong predictions for each label:\n",
      "{0: 5.833333333333333, 1: 23.333333333333332, 2: 33.75, 3: 13.750000000000002}\n",
      "Epoch 3/10, Train Loss: 0.3616, Val Loss: 0.4513\n",
      "Classification Report:\n",
      "              precision    recall  f1-score   support\n",
      "\n",
      "           0       0.94      0.96      0.95       120\n",
      "           1       0.78      0.85      0.82       120\n",
      "           2       0.88      0.65      0.75        80\n",
      "           3       0.66      0.74      0.70        80\n",
      "\n",
      "    accuracy                           0.82       400\n",
      "   macro avg       0.82      0.80      0.80       400\n",
      "weighted avg       0.83      0.82      0.82       400\n",
      "\n",
      "Percentage of wrong predictions for each label:\n",
      "{0: 4.166666666666666, 1: 15.0, 2: 35.0, 3: 26.25}\n",
      "Epoch 4/10, Train Loss: 0.3103, Val Loss: 0.4724\n",
      "Classification Report:\n",
      "              precision    recall  f1-score   support\n",
      "\n",
      "           0       0.95      0.95      0.95       120\n",
      "           1       0.93      0.78      0.85       120\n",
      "           2       0.90      0.55      0.68        80\n",
      "           3       0.57      0.93      0.70        80\n",
      "\n",
      "    accuracy                           0.81       400\n",
      "   macro avg       0.84      0.80      0.80       400\n",
      "weighted avg       0.86      0.81      0.82       400\n",
      "\n",
      "Percentage of wrong predictions for each label:\n",
      "{0: 5.0, 1: 21.666666666666668, 2: 45.0, 3: 7.5}\n",
      "Epoch 5/10, Train Loss: 0.2712, Val Loss: 0.4420\n",
      "Classification Report:\n",
      "              precision    recall  f1-score   support\n",
      "\n",
      "           0       0.85      0.98      0.91       120\n",
      "           1       0.84      0.84      0.84       120\n",
      "           2       0.90      0.59      0.71        80\n",
      "           3       0.70      0.78      0.73        80\n",
      "\n",
      "    accuracy                           0.82       400\n",
      "   macro avg       0.82      0.80      0.80       400\n",
      "weighted avg       0.83      0.82      0.82       400\n",
      "\n",
      "Percentage of wrong predictions for each label:\n",
      "{0: 1.6666666666666667, 1: 15.833333333333332, 2: 41.25, 3: 22.5}\n",
      "Epoch 6/10, Train Loss: 0.2563, Val Loss: 0.4026\n",
      "Classification Report:\n",
      "              precision    recall  f1-score   support\n",
      "\n",
      "           0       0.93      0.96      0.95       120\n",
      "           1       0.93      0.79      0.86       120\n",
      "           2       0.76      0.82      0.79        80\n",
      "           3       0.74      0.81      0.77        80\n",
      "\n",
      "    accuracy                           0.85       400\n",
      "   macro avg       0.84      0.85      0.84       400\n",
      "weighted avg       0.86      0.85      0.85       400\n",
      "\n",
      "Percentage of wrong predictions for each label:\n",
      "{0: 4.166666666666666, 1: 20.833333333333336, 2: 17.5, 3: 18.75}\n",
      "Epoch 7/10, Train Loss: 0.2339, Val Loss: 0.3834\n",
      "Classification Report:\n",
      "              precision    recall  f1-score   support\n",
      "\n",
      "           0       0.95      0.96      0.95       120\n",
      "           1       0.79      0.87      0.83       120\n",
      "           2       0.82      0.81      0.82        80\n",
      "           3       0.78      0.68      0.72        80\n",
      "\n",
      "    accuracy                           0.84       400\n",
      "   macro avg       0.84      0.83      0.83       400\n",
      "weighted avg       0.84      0.84      0.84       400\n",
      "\n",
      "Percentage of wrong predictions for each label:\n",
      "{0: 4.166666666666666, 1: 13.333333333333334, 2: 18.75, 3: 32.5}\n",
      "Epoch 8/10, Train Loss: 0.2141, Val Loss: 0.3767\n",
      "Classification Report:\n",
      "              precision    recall  f1-score   support\n",
      "\n",
      "           0       0.95      0.94      0.95       120\n",
      "           1       0.92      0.82      0.87       120\n",
      "           2       0.76      0.88      0.81        80\n",
      "           3       0.78      0.81      0.80        80\n",
      "\n",
      "    accuracy                           0.86       400\n",
      "   macro avg       0.85      0.86      0.86       400\n",
      "weighted avg       0.87      0.86      0.87       400\n",
      "\n",
      "Percentage of wrong predictions for each label:\n",
      "{0: 5.833333333333333, 1: 18.333333333333332, 2: 12.5, 3: 18.75}\n",
      "Epoch 9/10, Train Loss: 0.2100, Val Loss: 0.4031\n",
      "Classification Report:\n",
      "              precision    recall  f1-score   support\n",
      "\n",
      "           0       0.91      0.98      0.94       120\n",
      "           1       0.78      0.87      0.82       120\n",
      "           2       0.87      0.75      0.81        80\n",
      "           3       0.81      0.69      0.74        80\n",
      "\n",
      "    accuracy                           0.84       400\n",
      "   macro avg       0.84      0.82      0.83       400\n",
      "weighted avg       0.84      0.84      0.84       400\n",
      "\n",
      "Percentage of wrong predictions for each label:\n",
      "{0: 1.6666666666666667, 1: 13.333333333333334, 2: 25.0, 3: 31.25}\n",
      "Epoch 10/10, Train Loss: 0.1821, Val Loss: 0.3764\n",
      "Classification Report:\n",
      "              precision    recall  f1-score   support\n",
      "\n",
      "           0       0.94      0.96      0.95       120\n",
      "           1       0.87      0.84      0.86       120\n",
      "           2       0.84      0.79      0.81        80\n",
      "           3       0.74      0.80      0.77        80\n",
      "\n",
      "    accuracy                           0.86       400\n",
      "   macro avg       0.85      0.85      0.85       400\n",
      "weighted avg       0.86      0.86      0.86       400\n",
      "\n",
      "Percentage of wrong predictions for each label:\n",
      "{0: 4.166666666666666, 1: 15.833333333333332, 2: 21.25, 3: 20.0}\n"
     ]
    }
   ],
   "source": [
    "import torch\n",
    "from sklearn.metrics import classification_report, accuracy_score\n",
    "\n",
    "# Training loop\n",
    "for epoch in range(EPOCHS):\n",
    "    # Train\n",
    "    classifier.train()\n",
    "    train_loss = 0.0\n",
    "    for batch in train_loader:\n",
    "        input_ids = batch['input_ids'].to(device)\n",
    "        attention_mask = batch['attention_mask'].to(device)\n",
    "        labels = batch['label'].to(device)\n",
    "        \n",
    "        optimizer.zero_grad()\n",
    "        \n",
    "        with torch.no_grad():\n",
    "            outputs = model(input_ids, attention_mask=attention_mask)\n",
    "            last_hidden_states = outputs.last_hidden_state[:, 0, :]  # CLS token\n",
    "\n",
    "        logits = classifier(last_hidden_states)\n",
    "        loss = loss_fn(logits, labels)\n",
    "        \n",
    "        loss.backward()\n",
    "        optimizer.step()\n",
    "        \n",
    "        train_loss += loss.item() * input_ids.size(0)\n",
    "\n",
    "    # Evaluate\n",
    "    classifier.eval()\n",
    "    val_loss = 0.0\n",
    "    all_preds = []\n",
    "    all_labels = []\n",
    "    with torch.no_grad():\n",
    "        for batch in test_loader:\n",
    "            input_ids = batch['input_ids'].to(device)\n",
    "            attention_mask = batch['attention_mask'].to(device)\n",
    "            labels = batch['label'].to(device)\n",
    "            \n",
    "            outputs = model(input_ids, attention_mask=attention_mask)\n",
    "            last_hidden_states = outputs.last_hidden_state[:, 0, :]\n",
    "            \n",
    "            logits = classifier(last_hidden_states)\n",
    "            loss = loss_fn(logits, labels)\n",
    "            val_loss += loss.item() * input_ids.size(0)\n",
    "            \n",
    "            preds = torch.argmax(logits, dim=1).cpu().numpy()\n",
    "            all_preds.extend(preds)\n",
    "            all_labels.extend(labels.cpu().numpy())\n",
    "\n",
    "    # Calculate metrics\n",
    "    train_loss /= len(train_data)\n",
    "    val_loss /= len(test_data)\n",
    "    report = classification_report(all_labels, all_preds)\n",
    "\n",
    "    # Calculate percentage of wrong predictions for each label\n",
    "    wrong_percentage = {}\n",
    "    for label in range(num_labels):  # Assuming num_classes is defined somewhere\n",
    "        # Count the number of samples misclassified for this label\n",
    "        wrong_count = sum(1 for true_label, pred_label in zip(all_labels, all_preds) if true_label == label and pred_label != label)\n",
    "        # Calculate the percentage\n",
    "        wrong_percentage[label] = (wrong_count / all_labels.count(label)) * 100 if all_labels.count(label) > 0 else 0\n",
    "\n",
    "    print(f'Epoch {epoch + 1}/{EPOCHS}, Train Loss: {train_loss:.4f}, Val Loss: {val_loss:.4f}')\n",
    "    print(\"Classification Report:\")\n",
    "    print(report)\n",
    "    print(\"Percentage of wrong predictions for each label:\")\n",
    "    print(wrong_percentage)"
   ]
  },
  {
   "cell_type": "code",
   "execution_count": null,
   "id": "dd114822",
   "metadata": {
    "papermill": {
     "duration": 0.010619,
     "end_time": "2024-03-30T16:17:00.788838",
     "exception": false,
     "start_time": "2024-03-30T16:17:00.778219",
     "status": "completed"
    },
    "tags": []
   },
   "outputs": [],
   "source": []
  },
  {
   "cell_type": "code",
   "execution_count": null,
   "id": "cfbb5842",
   "metadata": {
    "papermill": {
     "duration": 0.010401,
     "end_time": "2024-03-30T16:17:00.809884",
     "exception": false,
     "start_time": "2024-03-30T16:17:00.799483",
     "status": "completed"
    },
    "tags": []
   },
   "outputs": [],
   "source": []
  }
 ],
 "metadata": {
  "kaggle": {
   "accelerator": "gpu",
   "dataSources": [
    {
     "datasetId": 4631246,
     "sourceId": 7948773,
     "sourceType": "datasetVersion"
    }
   ],
   "dockerImageVersionId": 30674,
   "isGpuEnabled": true,
   "isInternetEnabled": true,
   "language": "python",
   "sourceType": "notebook"
  },
  "kernelspec": {
   "display_name": "Python 3",
   "language": "python",
   "name": "python3"
  },
  "language_info": {
   "codemirror_mode": {
    "name": "ipython",
    "version": 3
   },
   "file_extension": ".py",
   "mimetype": "text/x-python",
   "name": "python",
   "nbconvert_exporter": "python",
   "pygments_lexer": "ipython3",
   "version": "3.10.13"
  },
  "papermill": {
   "default_parameters": {},
   "duration": 153.97234,
   "end_time": "2024-03-30T16:17:02.746065",
   "environment_variables": {},
   "exception": null,
   "input_path": "__notebook__.ipynb",
   "output_path": "__notebook__.ipynb",
   "parameters": {},
   "start_time": "2024-03-30T16:14:28.773725",
   "version": "2.5.0"
  },
  "widgets": {
   "application/vnd.jupyter.widget-state+json": {
    "state": {
     "02b86024b72c435a8dbe0afa0fa64901": {
      "model_module": "@jupyter-widgets/base",
      "model_module_version": "1.2.0",
      "model_name": "LayoutModel",
      "state": {
       "_model_module": "@jupyter-widgets/base",
       "_model_module_version": "1.2.0",
       "_model_name": "LayoutModel",
       "_view_count": null,
       "_view_module": "@jupyter-widgets/base",
       "_view_module_version": "1.2.0",
       "_view_name": "LayoutView",
       "align_content": null,
       "align_items": null,
       "align_self": null,
       "border": null,
       "bottom": null,
       "display": null,
       "flex": null,
       "flex_flow": null,
       "grid_area": null,
       "grid_auto_columns": null,
       "grid_auto_flow": null,
       "grid_auto_rows": null,
       "grid_column": null,
       "grid_gap": null,
       "grid_row": null,
       "grid_template_areas": null,
       "grid_template_columns": null,
       "grid_template_rows": null,
       "height": null,
       "justify_content": null,
       "justify_items": null,
       "left": null,
       "margin": null,
       "max_height": null,
       "max_width": null,
       "min_height": null,
       "min_width": null,
       "object_fit": null,
       "object_position": null,
       "order": null,
       "overflow": null,
       "overflow_x": null,
       "overflow_y": null,
       "padding": null,
       "right": null,
       "top": null,
       "visibility": null,
       "width": null
      }
     },
     "054911752c014a4da0386ec9d415c1e7": {
      "model_module": "@jupyter-widgets/base",
      "model_module_version": "1.2.0",
      "model_name": "LayoutModel",
      "state": {
       "_model_module": "@jupyter-widgets/base",
       "_model_module_version": "1.2.0",
       "_model_name": "LayoutModel",
       "_view_count": null,
       "_view_module": "@jupyter-widgets/base",
       "_view_module_version": "1.2.0",
       "_view_name": "LayoutView",
       "align_content": null,
       "align_items": null,
       "align_self": null,
       "border": null,
       "bottom": null,
       "display": null,
       "flex": null,
       "flex_flow": null,
       "grid_area": null,
       "grid_auto_columns": null,
       "grid_auto_flow": null,
       "grid_auto_rows": null,
       "grid_column": null,
       "grid_gap": null,
       "grid_row": null,
       "grid_template_areas": null,
       "grid_template_columns": null,
       "grid_template_rows": null,
       "height": null,
       "justify_content": null,
       "justify_items": null,
       "left": null,
       "margin": null,
       "max_height": null,
       "max_width": null,
       "min_height": null,
       "min_width": null,
       "object_fit": null,
       "object_position": null,
       "order": null,
       "overflow": null,
       "overflow_x": null,
       "overflow_y": null,
       "padding": null,
       "right": null,
       "top": null,
       "visibility": null,
       "width": null
      }
     },
     "0598e445507d49efb9a6c3e741a01f03": {
      "model_module": "@jupyter-widgets/base",
      "model_module_version": "1.2.0",
      "model_name": "LayoutModel",
      "state": {
       "_model_module": "@jupyter-widgets/base",
       "_model_module_version": "1.2.0",
       "_model_name": "LayoutModel",
       "_view_count": null,
       "_view_module": "@jupyter-widgets/base",
       "_view_module_version": "1.2.0",
       "_view_name": "LayoutView",
       "align_content": null,
       "align_items": null,
       "align_self": null,
       "border": null,
       "bottom": null,
       "display": null,
       "flex": null,
       "flex_flow": null,
       "grid_area": null,
       "grid_auto_columns": null,
       "grid_auto_flow": null,
       "grid_auto_rows": null,
       "grid_column": null,
       "grid_gap": null,
       "grid_row": null,
       "grid_template_areas": null,
       "grid_template_columns": null,
       "grid_template_rows": null,
       "height": null,
       "justify_content": null,
       "justify_items": null,
       "left": null,
       "margin": null,
       "max_height": null,
       "max_width": null,
       "min_height": null,
       "min_width": null,
       "object_fit": null,
       "object_position": null,
       "order": null,
       "overflow": null,
       "overflow_x": null,
       "overflow_y": null,
       "padding": null,
       "right": null,
       "top": null,
       "visibility": null,
       "width": null
      }
     },
     "061f4214578748da8eba9fbdee0f3d47": {
      "model_module": "@jupyter-widgets/controls",
      "model_module_version": "1.5.0",
      "model_name": "DescriptionStyleModel",
      "state": {
       "_model_module": "@jupyter-widgets/controls",
       "_model_module_version": "1.5.0",
       "_model_name": "DescriptionStyleModel",
       "_view_count": null,
       "_view_module": "@jupyter-widgets/base",
       "_view_module_version": "1.2.0",
       "_view_name": "StyleView",
       "description_width": ""
      }
     },
     "07952795c5044b1ca15454e4029b8648": {
      "model_module": "@jupyter-widgets/controls",
      "model_module_version": "1.5.0",
      "model_name": "FloatProgressModel",
      "state": {
       "_dom_classes": [],
       "_model_module": "@jupyter-widgets/controls",
       "_model_module_version": "1.5.0",
       "_model_name": "FloatProgressModel",
       "_view_count": null,
       "_view_module": "@jupyter-widgets/controls",
       "_view_module_version": "1.5.0",
       "_view_name": "ProgressView",
       "bar_style": "success",
       "description": "",
       "description_tooltip": null,
       "layout": "IPY_MODEL_16ab5d5156944ca9bc4ef202385f6390",
       "max": 3132320.0,
       "min": 0.0,
       "orientation": "horizontal",
       "style": "IPY_MODEL_2dab8bbe6bf142438cb4d7ebdcabf942",
       "value": 3132320.0
      }
     },
     "119591895bde458fa621cd4b2111be11": {
      "model_module": "@jupyter-widgets/base",
      "model_module_version": "1.2.0",
      "model_name": "LayoutModel",
      "state": {
       "_model_module": "@jupyter-widgets/base",
       "_model_module_version": "1.2.0",
       "_model_name": "LayoutModel",
       "_view_count": null,
       "_view_module": "@jupyter-widgets/base",
       "_view_module_version": "1.2.0",
       "_view_name": "LayoutView",
       "align_content": null,
       "align_items": null,
       "align_self": null,
       "border": null,
       "bottom": null,
       "display": null,
       "flex": null,
       "flex_flow": null,
       "grid_area": null,
       "grid_auto_columns": null,
       "grid_auto_flow": null,
       "grid_auto_rows": null,
       "grid_column": null,
       "grid_gap": null,
       "grid_row": null,
       "grid_template_areas": null,
       "grid_template_columns": null,
       "grid_template_rows": null,
       "height": null,
       "justify_content": null,
       "justify_items": null,
       "left": null,
       "margin": null,
       "max_height": null,
       "max_width": null,
       "min_height": null,
       "min_width": null,
       "object_fit": null,
       "object_position": null,
       "order": null,
       "overflow": null,
       "overflow_x": null,
       "overflow_y": null,
       "padding": null,
       "right": null,
       "top": null,
       "visibility": null,
       "width": null
      }
     },
     "1405c77430e2412ea7e8971d7cb7086d": {
      "model_module": "@jupyter-widgets/base",
      "model_module_version": "1.2.0",
      "model_name": "LayoutModel",
      "state": {
       "_model_module": "@jupyter-widgets/base",
       "_model_module_version": "1.2.0",
       "_model_name": "LayoutModel",
       "_view_count": null,
       "_view_module": "@jupyter-widgets/base",
       "_view_module_version": "1.2.0",
       "_view_name": "LayoutView",
       "align_content": null,
       "align_items": null,
       "align_self": null,
       "border": null,
       "bottom": null,
       "display": null,
       "flex": null,
       "flex_flow": null,
       "grid_area": null,
       "grid_auto_columns": null,
       "grid_auto_flow": null,
       "grid_auto_rows": null,
       "grid_column": null,
       "grid_gap": null,
       "grid_row": null,
       "grid_template_areas": null,
       "grid_template_columns": null,
       "grid_template_rows": null,
       "height": null,
       "justify_content": null,
       "justify_items": null,
       "left": null,
       "margin": null,
       "max_height": null,
       "max_width": null,
       "min_height": null,
       "min_width": null,
       "object_fit": null,
       "object_position": null,
       "order": null,
       "overflow": null,
       "overflow_x": null,
       "overflow_y": null,
       "padding": null,
       "right": null,
       "top": null,
       "visibility": null,
       "width": null
      }
     },
     "16ab5d5156944ca9bc4ef202385f6390": {
      "model_module": "@jupyter-widgets/base",
      "model_module_version": "1.2.0",
      "model_name": "LayoutModel",
      "state": {
       "_model_module": "@jupyter-widgets/base",
       "_model_module_version": "1.2.0",
       "_model_name": "LayoutModel",
       "_view_count": null,
       "_view_module": "@jupyter-widgets/base",
       "_view_module_version": "1.2.0",
       "_view_name": "LayoutView",
       "align_content": null,
       "align_items": null,
       "align_self": null,
       "border": null,
       "bottom": null,
       "display": null,
       "flex": null,
       "flex_flow": null,
       "grid_area": null,
       "grid_auto_columns": null,
       "grid_auto_flow": null,
       "grid_auto_rows": null,
       "grid_column": null,
       "grid_gap": null,
       "grid_row": null,
       "grid_template_areas": null,
       "grid_template_columns": null,
       "grid_template_rows": null,
       "height": null,
       "justify_content": null,
       "justify_items": null,
       "left": null,
       "margin": null,
       "max_height": null,
       "max_width": null,
       "min_height": null,
       "min_width": null,
       "object_fit": null,
       "object_position": null,
       "order": null,
       "overflow": null,
       "overflow_x": null,
       "overflow_y": null,
       "padding": null,
       "right": null,
       "top": null,
       "visibility": null,
       "width": null
      }
     },
     "1f3e3cb4877f4a98b3c1930ee189ed00": {
      "model_module": "@jupyter-widgets/controls",
      "model_module_version": "1.5.0",
      "model_name": "DescriptionStyleModel",
      "state": {
       "_model_module": "@jupyter-widgets/controls",
       "_model_module_version": "1.5.0",
       "_model_name": "DescriptionStyleModel",
       "_view_count": null,
       "_view_module": "@jupyter-widgets/base",
       "_view_module_version": "1.2.0",
       "_view_name": "StyleView",
       "description_width": ""
      }
     },
     "27ed50dfa6dc47548666ea7fa202b1a6": {
      "model_module": "@jupyter-widgets/controls",
      "model_module_version": "1.5.0",
      "model_name": "DescriptionStyleModel",
      "state": {
       "_model_module": "@jupyter-widgets/controls",
       "_model_module_version": "1.5.0",
       "_model_name": "DescriptionStyleModel",
       "_view_count": null,
       "_view_module": "@jupyter-widgets/base",
       "_view_module_version": "1.2.0",
       "_view_name": "StyleView",
       "description_width": ""
      }
     },
     "2c008250f3784cd9934a22a7141df45f": {
      "model_module": "@jupyter-widgets/controls",
      "model_module_version": "1.5.0",
      "model_name": "DescriptionStyleModel",
      "state": {
       "_model_module": "@jupyter-widgets/controls",
       "_model_module_version": "1.5.0",
       "_model_name": "DescriptionStyleModel",
       "_view_count": null,
       "_view_module": "@jupyter-widgets/base",
       "_view_module_version": "1.2.0",
       "_view_name": "StyleView",
       "description_width": ""
      }
     },
     "2dab8bbe6bf142438cb4d7ebdcabf942": {
      "model_module": "@jupyter-widgets/controls",
      "model_module_version": "1.5.0",
      "model_name": "ProgressStyleModel",
      "state": {
       "_model_module": "@jupyter-widgets/controls",
       "_model_module_version": "1.5.0",
       "_model_name": "ProgressStyleModel",
       "_view_count": null,
       "_view_module": "@jupyter-widgets/base",
       "_view_module_version": "1.2.0",
       "_view_name": "StyleView",
       "bar_color": null,
       "description_width": ""
      }
     },
     "3616348d4a05439697af90c2b06fff41": {
      "model_module": "@jupyter-widgets/controls",
      "model_module_version": "1.5.0",
      "model_name": "HTMLModel",
      "state": {
       "_dom_classes": [],
       "_model_module": "@jupyter-widgets/controls",
       "_model_module_version": "1.5.0",
       "_model_name": "HTMLModel",
       "_view_count": null,
       "_view_module": "@jupyter-widgets/controls",
       "_view_module_version": "1.5.0",
       "_view_name": "HTMLView",
       "description": "",
       "description_tooltip": null,
       "layout": "IPY_MODEL_7229337970d5471493b0161ab8ee40d8",
       "placeholder": "​",
       "style": "IPY_MODEL_27ed50dfa6dc47548666ea7fa202b1a6",
       "value": " 3.13M/3.13M [00:00&lt;00:00, 8.38MB/s]"
      }
     },
     "38b1fd59528e4017928e26c30c339a38": {
      "model_module": "@jupyter-widgets/controls",
      "model_module_version": "1.5.0",
      "model_name": "DescriptionStyleModel",
      "state": {
       "_model_module": "@jupyter-widgets/controls",
       "_model_module_version": "1.5.0",
       "_model_name": "DescriptionStyleModel",
       "_view_count": null,
       "_view_module": "@jupyter-widgets/base",
       "_view_module_version": "1.2.0",
       "_view_name": "StyleView",
       "description_width": ""
      }
     },
     "4c51f08a0829456ca2c9be41e26dd628": {
      "model_module": "@jupyter-widgets/controls",
      "model_module_version": "1.5.0",
      "model_name": "HTMLModel",
      "state": {
       "_dom_classes": [],
       "_model_module": "@jupyter-widgets/controls",
       "_model_module_version": "1.5.0",
       "_model_name": "HTMLModel",
       "_view_count": null,
       "_view_module": "@jupyter-widgets/controls",
       "_view_module_version": "1.5.0",
       "_view_name": "HTMLView",
       "description": "",
       "description_tooltip": null,
       "layout": "IPY_MODEL_e6c5b31e3a8548cfbf25c29076e43368",
       "placeholder": "​",
       "style": "IPY_MODEL_38b1fd59528e4017928e26c30c339a38",
       "value": "tokenizer.json: 100%"
      }
     },
     "50f879f2a8b94ed38f2bc6a4753524b2": {
      "model_module": "@jupyter-widgets/controls",
      "model_module_version": "1.5.0",
      "model_name": "HBoxModel",
      "state": {
       "_dom_classes": [],
       "_model_module": "@jupyter-widgets/controls",
       "_model_module_version": "1.5.0",
       "_model_name": "HBoxModel",
       "_view_count": null,
       "_view_module": "@jupyter-widgets/controls",
       "_view_module_version": "1.5.0",
       "_view_name": "HBoxView",
       "box_style": "",
       "children": [
        "IPY_MODEL_4c51f08a0829456ca2c9be41e26dd628",
        "IPY_MODEL_07952795c5044b1ca15454e4029b8648",
        "IPY_MODEL_3616348d4a05439697af90c2b06fff41"
       ],
       "layout": "IPY_MODEL_1405c77430e2412ea7e8971d7cb7086d"
      }
     },
     "559213c38f704a55b6b2c98027c5607b": {
      "model_module": "@jupyter-widgets/base",
      "model_module_version": "1.2.0",
      "model_name": "LayoutModel",
      "state": {
       "_model_module": "@jupyter-widgets/base",
       "_model_module_version": "1.2.0",
       "_model_name": "LayoutModel",
       "_view_count": null,
       "_view_module": "@jupyter-widgets/base",
       "_view_module_version": "1.2.0",
       "_view_name": "LayoutView",
       "align_content": null,
       "align_items": null,
       "align_self": null,
       "border": null,
       "bottom": null,
       "display": null,
       "flex": null,
       "flex_flow": null,
       "grid_area": null,
       "grid_auto_columns": null,
       "grid_auto_flow": null,
       "grid_auto_rows": null,
       "grid_column": null,
       "grid_gap": null,
       "grid_row": null,
       "grid_template_areas": null,
       "grid_template_columns": null,
       "grid_template_rows": null,
       "height": null,
       "justify_content": null,
       "justify_items": null,
       "left": null,
       "margin": null,
       "max_height": null,
       "max_width": null,
       "min_height": null,
       "min_width": null,
       "object_fit": null,
       "object_position": null,
       "order": null,
       "overflow": null,
       "overflow_x": null,
       "overflow_y": null,
       "padding": null,
       "right": null,
       "top": null,
       "visibility": null,
       "width": null
      }
     },
     "5ae61613bdcb463baa7e719e413c9325": {
      "model_module": "@jupyter-widgets/controls",
      "model_module_version": "1.5.0",
      "model_name": "HTMLModel",
      "state": {
       "_dom_classes": [],
       "_model_module": "@jupyter-widgets/controls",
       "_model_module_version": "1.5.0",
       "_model_name": "HTMLModel",
       "_view_count": null,
       "_view_module": "@jupyter-widgets/controls",
       "_view_module_version": "1.5.0",
       "_view_name": "HTMLView",
       "description": "",
       "description_tooltip": null,
       "layout": "IPY_MODEL_0598e445507d49efb9a6c3e741a01f03",
       "placeholder": "​",
       "style": "IPY_MODEL_7c2c98f906a8427880ca77696768ff30",
       "value": " 895k/895k [00:00&lt;00:00, 3.49MB/s]"
      }
     },
     "6241290c174148a38572f2868b6a942b": {
      "model_module": "@jupyter-widgets/base",
      "model_module_version": "1.2.0",
      "model_name": "LayoutModel",
      "state": {
       "_model_module": "@jupyter-widgets/base",
       "_model_module_version": "1.2.0",
       "_model_name": "LayoutModel",
       "_view_count": null,
       "_view_module": "@jupyter-widgets/base",
       "_view_module_version": "1.2.0",
       "_view_name": "LayoutView",
       "align_content": null,
       "align_items": null,
       "align_self": null,
       "border": null,
       "bottom": null,
       "display": null,
       "flex": null,
       "flex_flow": null,
       "grid_area": null,
       "grid_auto_columns": null,
       "grid_auto_flow": null,
       "grid_auto_rows": null,
       "grid_column": null,
       "grid_gap": null,
       "grid_row": null,
       "grid_template_areas": null,
       "grid_template_columns": null,
       "grid_template_rows": null,
       "height": null,
       "justify_content": null,
       "justify_items": null,
       "left": null,
       "margin": null,
       "max_height": null,
       "max_width": null,
       "min_height": null,
       "min_width": null,
       "object_fit": null,
       "object_position": null,
       "order": null,
       "overflow": null,
       "overflow_x": null,
       "overflow_y": null,
       "padding": null,
       "right": null,
       "top": null,
       "visibility": null,
       "width": null
      }
     },
     "63808292425c45ef8ec825faf58fea6a": {
      "model_module": "@jupyter-widgets/base",
      "model_module_version": "1.2.0",
      "model_name": "LayoutModel",
      "state": {
       "_model_module": "@jupyter-widgets/base",
       "_model_module_version": "1.2.0",
       "_model_name": "LayoutModel",
       "_view_count": null,
       "_view_module": "@jupyter-widgets/base",
       "_view_module_version": "1.2.0",
       "_view_name": "LayoutView",
       "align_content": null,
       "align_items": null,
       "align_self": null,
       "border": null,
       "bottom": null,
       "display": null,
       "flex": null,
       "flex_flow": null,
       "grid_area": null,
       "grid_auto_columns": null,
       "grid_auto_flow": null,
       "grid_auto_rows": null,
       "grid_column": null,
       "grid_gap": null,
       "grid_row": null,
       "grid_template_areas": null,
       "grid_template_columns": null,
       "grid_template_rows": null,
       "height": null,
       "justify_content": null,
       "justify_items": null,
       "left": null,
       "margin": null,
       "max_height": null,
       "max_width": null,
       "min_height": null,
       "min_width": null,
       "object_fit": null,
       "object_position": null,
       "order": null,
       "overflow": null,
       "overflow_x": null,
       "overflow_y": null,
       "padding": null,
       "right": null,
       "top": null,
       "visibility": null,
       "width": null
      }
     },
     "66aca598ce0340059d6b0fd893a551f5": {
      "model_module": "@jupyter-widgets/base",
      "model_module_version": "1.2.0",
      "model_name": "LayoutModel",
      "state": {
       "_model_module": "@jupyter-widgets/base",
       "_model_module_version": "1.2.0",
       "_model_name": "LayoutModel",
       "_view_count": null,
       "_view_module": "@jupyter-widgets/base",
       "_view_module_version": "1.2.0",
       "_view_name": "LayoutView",
       "align_content": null,
       "align_items": null,
       "align_self": null,
       "border": null,
       "bottom": null,
       "display": null,
       "flex": null,
       "flex_flow": null,
       "grid_area": null,
       "grid_auto_columns": null,
       "grid_auto_flow": null,
       "grid_auto_rows": null,
       "grid_column": null,
       "grid_gap": null,
       "grid_row": null,
       "grid_template_areas": null,
       "grid_template_columns": null,
       "grid_template_rows": null,
       "height": null,
       "justify_content": null,
       "justify_items": null,
       "left": null,
       "margin": null,
       "max_height": null,
       "max_width": null,
       "min_height": null,
       "min_width": null,
       "object_fit": null,
       "object_position": null,
       "order": null,
       "overflow": null,
       "overflow_x": null,
       "overflow_y": null,
       "padding": null,
       "right": null,
       "top": null,
       "visibility": null,
       "width": null
      }
     },
     "69414c61bf7349d783976804b0c0d486": {
      "model_module": "@jupyter-widgets/controls",
      "model_module_version": "1.5.0",
      "model_name": "ProgressStyleModel",
      "state": {
       "_model_module": "@jupyter-widgets/controls",
       "_model_module_version": "1.5.0",
       "_model_name": "ProgressStyleModel",
       "_view_count": null,
       "_view_module": "@jupyter-widgets/base",
       "_view_module_version": "1.2.0",
       "_view_name": "StyleView",
       "bar_color": null,
       "description_width": ""
      }
     },
     "6e0bfffc948144b3a216a27c063d9985": {
      "model_module": "@jupyter-widgets/controls",
      "model_module_version": "1.5.0",
      "model_name": "FloatProgressModel",
      "state": {
       "_dom_classes": [],
       "_model_module": "@jupyter-widgets/controls",
       "_model_module_version": "1.5.0",
       "_model_name": "FloatProgressModel",
       "_view_count": null,
       "_view_module": "@jupyter-widgets/controls",
       "_view_module_version": "1.5.0",
       "_view_name": "ProgressView",
       "bar_style": "success",
       "description": "",
       "description_tooltip": null,
       "layout": "IPY_MODEL_02b86024b72c435a8dbe0afa0fa64901",
       "max": 1135173.0,
       "min": 0.0,
       "orientation": "horizontal",
       "style": "IPY_MODEL_b5026f460f2847c2ab6e8c1a0172af12",
       "value": 1135173.0
      }
     },
     "70f107ac77a24705a3db739741834028": {
      "model_module": "@jupyter-widgets/base",
      "model_module_version": "1.2.0",
      "model_name": "LayoutModel",
      "state": {
       "_model_module": "@jupyter-widgets/base",
       "_model_module_version": "1.2.0",
       "_model_name": "LayoutModel",
       "_view_count": null,
       "_view_module": "@jupyter-widgets/base",
       "_view_module_version": "1.2.0",
       "_view_name": "LayoutView",
       "align_content": null,
       "align_items": null,
       "align_self": null,
       "border": null,
       "bottom": null,
       "display": null,
       "flex": null,
       "flex_flow": null,
       "grid_area": null,
       "grid_auto_columns": null,
       "grid_auto_flow": null,
       "grid_auto_rows": null,
       "grid_column": null,
       "grid_gap": null,
       "grid_row": null,
       "grid_template_areas": null,
       "grid_template_columns": null,
       "grid_template_rows": null,
       "height": null,
       "justify_content": null,
       "justify_items": null,
       "left": null,
       "margin": null,
       "max_height": null,
       "max_width": null,
       "min_height": null,
       "min_width": null,
       "object_fit": null,
       "object_position": null,
       "order": null,
       "overflow": null,
       "overflow_x": null,
       "overflow_y": null,
       "padding": null,
       "right": null,
       "top": null,
       "visibility": null,
       "width": null
      }
     },
     "70f5bc0c156a4f36ad5ceb71ebb7304d": {
      "model_module": "@jupyter-widgets/base",
      "model_module_version": "1.2.0",
      "model_name": "LayoutModel",
      "state": {
       "_model_module": "@jupyter-widgets/base",
       "_model_module_version": "1.2.0",
       "_model_name": "LayoutModel",
       "_view_count": null,
       "_view_module": "@jupyter-widgets/base",
       "_view_module_version": "1.2.0",
       "_view_name": "LayoutView",
       "align_content": null,
       "align_items": null,
       "align_self": null,
       "border": null,
       "bottom": null,
       "display": null,
       "flex": null,
       "flex_flow": null,
       "grid_area": null,
       "grid_auto_columns": null,
       "grid_auto_flow": null,
       "grid_auto_rows": null,
       "grid_column": null,
       "grid_gap": null,
       "grid_row": null,
       "grid_template_areas": null,
       "grid_template_columns": null,
       "grid_template_rows": null,
       "height": null,
       "justify_content": null,
       "justify_items": null,
       "left": null,
       "margin": null,
       "max_height": null,
       "max_width": null,
       "min_height": null,
       "min_width": null,
       "object_fit": null,
       "object_position": null,
       "order": null,
       "overflow": null,
       "overflow_x": null,
       "overflow_y": null,
       "padding": null,
       "right": null,
       "top": null,
       "visibility": null,
       "width": null
      }
     },
     "7229337970d5471493b0161ab8ee40d8": {
      "model_module": "@jupyter-widgets/base",
      "model_module_version": "1.2.0",
      "model_name": "LayoutModel",
      "state": {
       "_model_module": "@jupyter-widgets/base",
       "_model_module_version": "1.2.0",
       "_model_name": "LayoutModel",
       "_view_count": null,
       "_view_module": "@jupyter-widgets/base",
       "_view_module_version": "1.2.0",
       "_view_name": "LayoutView",
       "align_content": null,
       "align_items": null,
       "align_self": null,
       "border": null,
       "bottom": null,
       "display": null,
       "flex": null,
       "flex_flow": null,
       "grid_area": null,
       "grid_auto_columns": null,
       "grid_auto_flow": null,
       "grid_auto_rows": null,
       "grid_column": null,
       "grid_gap": null,
       "grid_row": null,
       "grid_template_areas": null,
       "grid_template_columns": null,
       "grid_template_rows": null,
       "height": null,
       "justify_content": null,
       "justify_items": null,
       "left": null,
       "margin": null,
       "max_height": null,
       "max_width": null,
       "min_height": null,
       "min_width": null,
       "object_fit": null,
       "object_position": null,
       "order": null,
       "overflow": null,
       "overflow_x": null,
       "overflow_y": null,
       "padding": null,
       "right": null,
       "top": null,
       "visibility": null,
       "width": null
      }
     },
     "7706151a130843229be17019bf4a6328": {
      "model_module": "@jupyter-widgets/controls",
      "model_module_version": "1.5.0",
      "model_name": "HTMLModel",
      "state": {
       "_dom_classes": [],
       "_model_module": "@jupyter-widgets/controls",
       "_model_module_version": "1.5.0",
       "_model_name": "HTMLModel",
       "_view_count": null,
       "_view_module": "@jupyter-widgets/controls",
       "_view_module_version": "1.5.0",
       "_view_name": "HTMLView",
       "description": "",
       "description_tooltip": null,
       "layout": "IPY_MODEL_70f107ac77a24705a3db739741834028",
       "placeholder": "​",
       "style": "IPY_MODEL_9366915feb804465916f7d76a108b412",
       "value": "bpe.codes: 100%"
      }
     },
     "7c2c98f906a8427880ca77696768ff30": {
      "model_module": "@jupyter-widgets/controls",
      "model_module_version": "1.5.0",
      "model_name": "DescriptionStyleModel",
      "state": {
       "_model_module": "@jupyter-widgets/controls",
       "_model_module_version": "1.5.0",
       "_model_name": "DescriptionStyleModel",
       "_view_count": null,
       "_view_module": "@jupyter-widgets/base",
       "_view_module_version": "1.2.0",
       "_view_name": "StyleView",
       "description_width": ""
      }
     },
     "7ea2f75c04b6461295818ef0466c7904": {
      "model_module": "@jupyter-widgets/controls",
      "model_module_version": "1.5.0",
      "model_name": "FloatProgressModel",
      "state": {
       "_dom_classes": [],
       "_model_module": "@jupyter-widgets/controls",
       "_model_module_version": "1.5.0",
       "_model_name": "FloatProgressModel",
       "_view_count": null,
       "_view_module": "@jupyter-widgets/controls",
       "_view_module_version": "1.5.0",
       "_view_name": "ProgressView",
       "bar_style": "success",
       "description": "",
       "description_tooltip": null,
       "layout": "IPY_MODEL_63808292425c45ef8ec825faf58fea6a",
       "max": 557.0,
       "min": 0.0,
       "orientation": "horizontal",
       "style": "IPY_MODEL_a9ff49677afb4b71bd53b5aad6c53355",
       "value": 557.0
      }
     },
     "7f64f2548fe4481aa2386c9ca571e6e9": {
      "model_module": "@jupyter-widgets/base",
      "model_module_version": "1.2.0",
      "model_name": "LayoutModel",
      "state": {
       "_model_module": "@jupyter-widgets/base",
       "_model_module_version": "1.2.0",
       "_model_name": "LayoutModel",
       "_view_count": null,
       "_view_module": "@jupyter-widgets/base",
       "_view_module_version": "1.2.0",
       "_view_name": "LayoutView",
       "align_content": null,
       "align_items": null,
       "align_self": null,
       "border": null,
       "bottom": null,
       "display": null,
       "flex": null,
       "flex_flow": null,
       "grid_area": null,
       "grid_auto_columns": null,
       "grid_auto_flow": null,
       "grid_auto_rows": null,
       "grid_column": null,
       "grid_gap": null,
       "grid_row": null,
       "grid_template_areas": null,
       "grid_template_columns": null,
       "grid_template_rows": null,
       "height": null,
       "justify_content": null,
       "justify_items": null,
       "left": null,
       "margin": null,
       "max_height": null,
       "max_width": null,
       "min_height": null,
       "min_width": null,
       "object_fit": null,
       "object_position": null,
       "order": null,
       "overflow": null,
       "overflow_x": null,
       "overflow_y": null,
       "padding": null,
       "right": null,
       "top": null,
       "visibility": null,
       "width": null
      }
     },
     "8a14ac5679b34d36bba6d4001af1310d": {
      "model_module": "@jupyter-widgets/controls",
      "model_module_version": "1.5.0",
      "model_name": "HBoxModel",
      "state": {
       "_dom_classes": [],
       "_model_module": "@jupyter-widgets/controls",
       "_model_module_version": "1.5.0",
       "_model_name": "HBoxModel",
       "_view_count": null,
       "_view_module": "@jupyter-widgets/controls",
       "_view_module_version": "1.5.0",
       "_view_name": "HBoxView",
       "box_style": "",
       "children": [
        "IPY_MODEL_7706151a130843229be17019bf4a6328",
        "IPY_MODEL_6e0bfffc948144b3a216a27c063d9985",
        "IPY_MODEL_c6f78a3068cc456684caf495d4cf019a"
       ],
       "layout": "IPY_MODEL_66aca598ce0340059d6b0fd893a551f5"
      }
     },
     "92234b10f8834b6ea41b8abbf5ca7737": {
      "model_module": "@jupyter-widgets/controls",
      "model_module_version": "1.5.0",
      "model_name": "DescriptionStyleModel",
      "state": {
       "_model_module": "@jupyter-widgets/controls",
       "_model_module_version": "1.5.0",
       "_model_name": "DescriptionStyleModel",
       "_view_count": null,
       "_view_module": "@jupyter-widgets/base",
       "_view_module_version": "1.2.0",
       "_view_name": "StyleView",
       "description_width": ""
      }
     },
     "9366915feb804465916f7d76a108b412": {
      "model_module": "@jupyter-widgets/controls",
      "model_module_version": "1.5.0",
      "model_name": "DescriptionStyleModel",
      "state": {
       "_model_module": "@jupyter-widgets/controls",
       "_model_module_version": "1.5.0",
       "_model_name": "DescriptionStyleModel",
       "_view_count": null,
       "_view_module": "@jupyter-widgets/base",
       "_view_module_version": "1.2.0",
       "_view_name": "StyleView",
       "description_width": ""
      }
     },
     "94cb6b0e0c2f4e6dae63b29b89612ec6": {
      "model_module": "@jupyter-widgets/controls",
      "model_module_version": "1.5.0",
      "model_name": "HTMLModel",
      "state": {
       "_dom_classes": [],
       "_model_module": "@jupyter-widgets/controls",
       "_model_module_version": "1.5.0",
       "_model_name": "HTMLModel",
       "_view_count": null,
       "_view_module": "@jupyter-widgets/controls",
       "_view_module_version": "1.5.0",
       "_view_name": "HTMLView",
       "description": "",
       "description_tooltip": null,
       "layout": "IPY_MODEL_f1164fadc33346ecbd6f09f56ec776d0",
       "placeholder": "​",
       "style": "IPY_MODEL_92234b10f8834b6ea41b8abbf5ca7737",
       "value": "pytorch_model.bin: 100%"
      }
     },
     "964f9aafeea04f81b7af76f5ac88cb04": {
      "model_module": "@jupyter-widgets/controls",
      "model_module_version": "1.5.0",
      "model_name": "DescriptionStyleModel",
      "state": {
       "_model_module": "@jupyter-widgets/controls",
       "_model_module_version": "1.5.0",
       "_model_name": "DescriptionStyleModel",
       "_view_count": null,
       "_view_module": "@jupyter-widgets/base",
       "_view_module_version": "1.2.0",
       "_view_name": "StyleView",
       "description_width": ""
      }
     },
     "a7c77c430faa466c9d0da2047f20da03": {
      "model_module": "@jupyter-widgets/base",
      "model_module_version": "1.2.0",
      "model_name": "LayoutModel",
      "state": {
       "_model_module": "@jupyter-widgets/base",
       "_model_module_version": "1.2.0",
       "_model_name": "LayoutModel",
       "_view_count": null,
       "_view_module": "@jupyter-widgets/base",
       "_view_module_version": "1.2.0",
       "_view_name": "LayoutView",
       "align_content": null,
       "align_items": null,
       "align_self": null,
       "border": null,
       "bottom": null,
       "display": null,
       "flex": null,
       "flex_flow": null,
       "grid_area": null,
       "grid_auto_columns": null,
       "grid_auto_flow": null,
       "grid_auto_rows": null,
       "grid_column": null,
       "grid_gap": null,
       "grid_row": null,
       "grid_template_areas": null,
       "grid_template_columns": null,
       "grid_template_rows": null,
       "height": null,
       "justify_content": null,
       "justify_items": null,
       "left": null,
       "margin": null,
       "max_height": null,
       "max_width": null,
       "min_height": null,
       "min_width": null,
       "object_fit": null,
       "object_position": null,
       "order": null,
       "overflow": null,
       "overflow_x": null,
       "overflow_y": null,
       "padding": null,
       "right": null,
       "top": null,
       "visibility": null,
       "width": null
      }
     },
     "a9ff49677afb4b71bd53b5aad6c53355": {
      "model_module": "@jupyter-widgets/controls",
      "model_module_version": "1.5.0",
      "model_name": "ProgressStyleModel",
      "state": {
       "_model_module": "@jupyter-widgets/controls",
       "_model_module_version": "1.5.0",
       "_model_name": "ProgressStyleModel",
       "_view_count": null,
       "_view_module": "@jupyter-widgets/base",
       "_view_module_version": "1.2.0",
       "_view_name": "StyleView",
       "bar_color": null,
       "description_width": ""
      }
     },
     "b5026f460f2847c2ab6e8c1a0172af12": {
      "model_module": "@jupyter-widgets/controls",
      "model_module_version": "1.5.0",
      "model_name": "ProgressStyleModel",
      "state": {
       "_model_module": "@jupyter-widgets/controls",
       "_model_module_version": "1.5.0",
       "_model_name": "ProgressStyleModel",
       "_view_count": null,
       "_view_module": "@jupyter-widgets/base",
       "_view_module_version": "1.2.0",
       "_view_name": "StyleView",
       "bar_color": null,
       "description_width": ""
      }
     },
     "b62888a263a947fda67b70613e5d4662": {
      "model_module": "@jupyter-widgets/base",
      "model_module_version": "1.2.0",
      "model_name": "LayoutModel",
      "state": {
       "_model_module": "@jupyter-widgets/base",
       "_model_module_version": "1.2.0",
       "_model_name": "LayoutModel",
       "_view_count": null,
       "_view_module": "@jupyter-widgets/base",
       "_view_module_version": "1.2.0",
       "_view_name": "LayoutView",
       "align_content": null,
       "align_items": null,
       "align_self": null,
       "border": null,
       "bottom": null,
       "display": null,
       "flex": null,
       "flex_flow": null,
       "grid_area": null,
       "grid_auto_columns": null,
       "grid_auto_flow": null,
       "grid_auto_rows": null,
       "grid_column": null,
       "grid_gap": null,
       "grid_row": null,
       "grid_template_areas": null,
       "grid_template_columns": null,
       "grid_template_rows": null,
       "height": null,
       "justify_content": null,
       "justify_items": null,
       "left": null,
       "margin": null,
       "max_height": null,
       "max_width": null,
       "min_height": null,
       "min_width": null,
       "object_fit": null,
       "object_position": null,
       "order": null,
       "overflow": null,
       "overflow_x": null,
       "overflow_y": null,
       "padding": null,
       "right": null,
       "top": null,
       "visibility": null,
       "width": null
      }
     },
     "bb059e8375d2494d8f84024feef2a469": {
      "model_module": "@jupyter-widgets/base",
      "model_module_version": "1.2.0",
      "model_name": "LayoutModel",
      "state": {
       "_model_module": "@jupyter-widgets/base",
       "_model_module_version": "1.2.0",
       "_model_name": "LayoutModel",
       "_view_count": null,
       "_view_module": "@jupyter-widgets/base",
       "_view_module_version": "1.2.0",
       "_view_name": "LayoutView",
       "align_content": null,
       "align_items": null,
       "align_self": null,
       "border": null,
       "bottom": null,
       "display": null,
       "flex": null,
       "flex_flow": null,
       "grid_area": null,
       "grid_auto_columns": null,
       "grid_auto_flow": null,
       "grid_auto_rows": null,
       "grid_column": null,
       "grid_gap": null,
       "grid_row": null,
       "grid_template_areas": null,
       "grid_template_columns": null,
       "grid_template_rows": null,
       "height": null,
       "justify_content": null,
       "justify_items": null,
       "left": null,
       "margin": null,
       "max_height": null,
       "max_width": null,
       "min_height": null,
       "min_width": null,
       "object_fit": null,
       "object_position": null,
       "order": null,
       "overflow": null,
       "overflow_x": null,
       "overflow_y": null,
       "padding": null,
       "right": null,
       "top": null,
       "visibility": null,
       "width": null
      }
     },
     "bf514e12e76e4af4990b6b9cbf626d44": {
      "model_module": "@jupyter-widgets/controls",
      "model_module_version": "1.5.0",
      "model_name": "HTMLModel",
      "state": {
       "_dom_classes": [],
       "_model_module": "@jupyter-widgets/controls",
       "_model_module_version": "1.5.0",
       "_model_name": "HTMLModel",
       "_view_count": null,
       "_view_module": "@jupyter-widgets/controls",
       "_view_module_version": "1.5.0",
       "_view_name": "HTMLView",
       "description": "",
       "description_tooltip": null,
       "layout": "IPY_MODEL_119591895bde458fa621cd4b2111be11",
       "placeholder": "​",
       "style": "IPY_MODEL_1f3e3cb4877f4a98b3c1930ee189ed00",
       "value": " 543M/543M [00:02&lt;00:00, 298MB/s]"
      }
     },
     "c6f78a3068cc456684caf495d4cf019a": {
      "model_module": "@jupyter-widgets/controls",
      "model_module_version": "1.5.0",
      "model_name": "HTMLModel",
      "state": {
       "_dom_classes": [],
       "_model_module": "@jupyter-widgets/controls",
       "_model_module_version": "1.5.0",
       "_model_name": "HTMLModel",
       "_view_count": null,
       "_view_module": "@jupyter-widgets/controls",
       "_view_module_version": "1.5.0",
       "_view_name": "HTMLView",
       "description": "",
       "description_tooltip": null,
       "layout": "IPY_MODEL_bb059e8375d2494d8f84024feef2a469",
       "placeholder": "​",
       "style": "IPY_MODEL_2c008250f3784cd9934a22a7141df45f",
       "value": " 1.14M/1.14M [00:00&lt;00:00, 3.57MB/s]"
      }
     },
     "c785f24363e0452f8b62cc058b36ac5d": {
      "model_module": "@jupyter-widgets/controls",
      "model_module_version": "1.5.0",
      "model_name": "HBoxModel",
      "state": {
       "_dom_classes": [],
       "_model_module": "@jupyter-widgets/controls",
       "_model_module_version": "1.5.0",
       "_model_name": "HBoxModel",
       "_view_count": null,
       "_view_module": "@jupyter-widgets/controls",
       "_view_module_version": "1.5.0",
       "_view_name": "HBoxView",
       "box_style": "",
       "children": [
        "IPY_MODEL_e68ad6434aad4d34bb9b7c271db7aca4",
        "IPY_MODEL_e5f13bb9520b4eae9b4454105dc92efd",
        "IPY_MODEL_5ae61613bdcb463baa7e719e413c9325"
       ],
       "layout": "IPY_MODEL_7f64f2548fe4481aa2386c9ca571e6e9"
      }
     },
     "cc9b92f59a184c529409ada3b3724458": {
      "model_module": "@jupyter-widgets/controls",
      "model_module_version": "1.5.0",
      "model_name": "HBoxModel",
      "state": {
       "_dom_classes": [],
       "_model_module": "@jupyter-widgets/controls",
       "_model_module_version": "1.5.0",
       "_model_name": "HBoxModel",
       "_view_count": null,
       "_view_module": "@jupyter-widgets/controls",
       "_view_module_version": "1.5.0",
       "_view_name": "HBoxView",
       "box_style": "",
       "children": [
        "IPY_MODEL_edeae468bec0436ea59a1beb8cd0ceda",
        "IPY_MODEL_7ea2f75c04b6461295818ef0466c7904",
        "IPY_MODEL_fa501ad9e5a4480184640792ee77fb85"
       ],
       "layout": "IPY_MODEL_054911752c014a4da0386ec9d415c1e7"
      }
     },
     "d54b2ef9a8f14227807d4ce51ef4e192": {
      "model_module": "@jupyter-widgets/controls",
      "model_module_version": "1.5.0",
      "model_name": "DescriptionStyleModel",
      "state": {
       "_model_module": "@jupyter-widgets/controls",
       "_model_module_version": "1.5.0",
       "_model_name": "DescriptionStyleModel",
       "_view_count": null,
       "_view_module": "@jupyter-widgets/base",
       "_view_module_version": "1.2.0",
       "_view_name": "StyleView",
       "description_width": ""
      }
     },
     "d8de0ecd80de4c5c8eddd2da82d17f3f": {
      "model_module": "@jupyter-widgets/controls",
      "model_module_version": "1.5.0",
      "model_name": "ProgressStyleModel",
      "state": {
       "_model_module": "@jupyter-widgets/controls",
       "_model_module_version": "1.5.0",
       "_model_name": "ProgressStyleModel",
       "_view_count": null,
       "_view_module": "@jupyter-widgets/base",
       "_view_module_version": "1.2.0",
       "_view_name": "StyleView",
       "bar_color": null,
       "description_width": ""
      }
     },
     "dc9816871db445c2af529b5c6fbd3162": {
      "model_module": "@jupyter-widgets/controls",
      "model_module_version": "1.5.0",
      "model_name": "FloatProgressModel",
      "state": {
       "_dom_classes": [],
       "_model_module": "@jupyter-widgets/controls",
       "_model_module_version": "1.5.0",
       "_model_name": "FloatProgressModel",
       "_view_count": null,
       "_view_module": "@jupyter-widgets/controls",
       "_view_module_version": "1.5.0",
       "_view_name": "ProgressView",
       "bar_style": "success",
       "description": "",
       "description_tooltip": null,
       "layout": "IPY_MODEL_6241290c174148a38572f2868b6a942b",
       "max": 542923308.0,
       "min": 0.0,
       "orientation": "horizontal",
       "style": "IPY_MODEL_69414c61bf7349d783976804b0c0d486",
       "value": 542923308.0
      }
     },
     "e5f13bb9520b4eae9b4454105dc92efd": {
      "model_module": "@jupyter-widgets/controls",
      "model_module_version": "1.5.0",
      "model_name": "FloatProgressModel",
      "state": {
       "_dom_classes": [],
       "_model_module": "@jupyter-widgets/controls",
       "_model_module_version": "1.5.0",
       "_model_name": "FloatProgressModel",
       "_view_count": null,
       "_view_module": "@jupyter-widgets/controls",
       "_view_module_version": "1.5.0",
       "_view_name": "ProgressView",
       "bar_style": "success",
       "description": "",
       "description_tooltip": null,
       "layout": "IPY_MODEL_a7c77c430faa466c9d0da2047f20da03",
       "max": 895321.0,
       "min": 0.0,
       "orientation": "horizontal",
       "style": "IPY_MODEL_d8de0ecd80de4c5c8eddd2da82d17f3f",
       "value": 895321.0
      }
     },
     "e68ad6434aad4d34bb9b7c271db7aca4": {
      "model_module": "@jupyter-widgets/controls",
      "model_module_version": "1.5.0",
      "model_name": "HTMLModel",
      "state": {
       "_dom_classes": [],
       "_model_module": "@jupyter-widgets/controls",
       "_model_module_version": "1.5.0",
       "_model_name": "HTMLModel",
       "_view_count": null,
       "_view_module": "@jupyter-widgets/controls",
       "_view_module_version": "1.5.0",
       "_view_name": "HTMLView",
       "description": "",
       "description_tooltip": null,
       "layout": "IPY_MODEL_559213c38f704a55b6b2c98027c5607b",
       "placeholder": "​",
       "style": "IPY_MODEL_061f4214578748da8eba9fbdee0f3d47",
       "value": "vocab.txt: 100%"
      }
     },
     "e6c5b31e3a8548cfbf25c29076e43368": {
      "model_module": "@jupyter-widgets/base",
      "model_module_version": "1.2.0",
      "model_name": "LayoutModel",
      "state": {
       "_model_module": "@jupyter-widgets/base",
       "_model_module_version": "1.2.0",
       "_model_name": "LayoutModel",
       "_view_count": null,
       "_view_module": "@jupyter-widgets/base",
       "_view_module_version": "1.2.0",
       "_view_name": "LayoutView",
       "align_content": null,
       "align_items": null,
       "align_self": null,
       "border": null,
       "bottom": null,
       "display": null,
       "flex": null,
       "flex_flow": null,
       "grid_area": null,
       "grid_auto_columns": null,
       "grid_auto_flow": null,
       "grid_auto_rows": null,
       "grid_column": null,
       "grid_gap": null,
       "grid_row": null,
       "grid_template_areas": null,
       "grid_template_columns": null,
       "grid_template_rows": null,
       "height": null,
       "justify_content": null,
       "justify_items": null,
       "left": null,
       "margin": null,
       "max_height": null,
       "max_width": null,
       "min_height": null,
       "min_width": null,
       "object_fit": null,
       "object_position": null,
       "order": null,
       "overflow": null,
       "overflow_x": null,
       "overflow_y": null,
       "padding": null,
       "right": null,
       "top": null,
       "visibility": null,
       "width": null
      }
     },
     "e71ea950e3ef4449b3f268685f6e920e": {
      "model_module": "@jupyter-widgets/base",
      "model_module_version": "1.2.0",
      "model_name": "LayoutModel",
      "state": {
       "_model_module": "@jupyter-widgets/base",
       "_model_module_version": "1.2.0",
       "_model_name": "LayoutModel",
       "_view_count": null,
       "_view_module": "@jupyter-widgets/base",
       "_view_module_version": "1.2.0",
       "_view_name": "LayoutView",
       "align_content": null,
       "align_items": null,
       "align_self": null,
       "border": null,
       "bottom": null,
       "display": null,
       "flex": null,
       "flex_flow": null,
       "grid_area": null,
       "grid_auto_columns": null,
       "grid_auto_flow": null,
       "grid_auto_rows": null,
       "grid_column": null,
       "grid_gap": null,
       "grid_row": null,
       "grid_template_areas": null,
       "grid_template_columns": null,
       "grid_template_rows": null,
       "height": null,
       "justify_content": null,
       "justify_items": null,
       "left": null,
       "margin": null,
       "max_height": null,
       "max_width": null,
       "min_height": null,
       "min_width": null,
       "object_fit": null,
       "object_position": null,
       "order": null,
       "overflow": null,
       "overflow_x": null,
       "overflow_y": null,
       "padding": null,
       "right": null,
       "top": null,
       "visibility": null,
       "width": null
      }
     },
     "edeae468bec0436ea59a1beb8cd0ceda": {
      "model_module": "@jupyter-widgets/controls",
      "model_module_version": "1.5.0",
      "model_name": "HTMLModel",
      "state": {
       "_dom_classes": [],
       "_model_module": "@jupyter-widgets/controls",
       "_model_module_version": "1.5.0",
       "_model_name": "HTMLModel",
       "_view_count": null,
       "_view_module": "@jupyter-widgets/controls",
       "_view_module_version": "1.5.0",
       "_view_name": "HTMLView",
       "description": "",
       "description_tooltip": null,
       "layout": "IPY_MODEL_70f5bc0c156a4f36ad5ceb71ebb7304d",
       "placeholder": "​",
       "style": "IPY_MODEL_d54b2ef9a8f14227807d4ce51ef4e192",
       "value": "config.json: 100%"
      }
     },
     "f1164fadc33346ecbd6f09f56ec776d0": {
      "model_module": "@jupyter-widgets/base",
      "model_module_version": "1.2.0",
      "model_name": "LayoutModel",
      "state": {
       "_model_module": "@jupyter-widgets/base",
       "_model_module_version": "1.2.0",
       "_model_name": "LayoutModel",
       "_view_count": null,
       "_view_module": "@jupyter-widgets/base",
       "_view_module_version": "1.2.0",
       "_view_name": "LayoutView",
       "align_content": null,
       "align_items": null,
       "align_self": null,
       "border": null,
       "bottom": null,
       "display": null,
       "flex": null,
       "flex_flow": null,
       "grid_area": null,
       "grid_auto_columns": null,
       "grid_auto_flow": null,
       "grid_auto_rows": null,
       "grid_column": null,
       "grid_gap": null,
       "grid_row": null,
       "grid_template_areas": null,
       "grid_template_columns": null,
       "grid_template_rows": null,
       "height": null,
       "justify_content": null,
       "justify_items": null,
       "left": null,
       "margin": null,
       "max_height": null,
       "max_width": null,
       "min_height": null,
       "min_width": null,
       "object_fit": null,
       "object_position": null,
       "order": null,
       "overflow": null,
       "overflow_x": null,
       "overflow_y": null,
       "padding": null,
       "right": null,
       "top": null,
       "visibility": null,
       "width": null
      }
     },
     "fa501ad9e5a4480184640792ee77fb85": {
      "model_module": "@jupyter-widgets/controls",
      "model_module_version": "1.5.0",
      "model_name": "HTMLModel",
      "state": {
       "_dom_classes": [],
       "_model_module": "@jupyter-widgets/controls",
       "_model_module_version": "1.5.0",
       "_model_name": "HTMLModel",
       "_view_count": null,
       "_view_module": "@jupyter-widgets/controls",
       "_view_module_version": "1.5.0",
       "_view_name": "HTMLView",
       "description": "",
       "description_tooltip": null,
       "layout": "IPY_MODEL_e71ea950e3ef4449b3f268685f6e920e",
       "placeholder": "​",
       "style": "IPY_MODEL_964f9aafeea04f81b7af76f5ac88cb04",
       "value": " 557/557 [00:00&lt;00:00, 47.8kB/s]"
      }
     },
     "ffe039c5c44349fcb8b3e0ef64398354": {
      "model_module": "@jupyter-widgets/controls",
      "model_module_version": "1.5.0",
      "model_name": "HBoxModel",
      "state": {
       "_dom_classes": [],
       "_model_module": "@jupyter-widgets/controls",
       "_model_module_version": "1.5.0",
       "_model_name": "HBoxModel",
       "_view_count": null,
       "_view_module": "@jupyter-widgets/controls",
       "_view_module_version": "1.5.0",
       "_view_name": "HBoxView",
       "box_style": "",
       "children": [
        "IPY_MODEL_94cb6b0e0c2f4e6dae63b29b89612ec6",
        "IPY_MODEL_dc9816871db445c2af529b5c6fbd3162",
        "IPY_MODEL_bf514e12e76e4af4990b6b9cbf626d44"
       ],
       "layout": "IPY_MODEL_b62888a263a947fda67b70613e5d4662"
      }
     }
    },
    "version_major": 2,
    "version_minor": 0
   }
  }
 },
 "nbformat": 4,
 "nbformat_minor": 5
}
