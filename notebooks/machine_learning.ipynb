{
 "cells": [
  {
   "cell_type": "code",
   "execution_count": 1,
   "id": "39368ab0",
   "metadata": {
    "_cell_guid": "b1076dfc-b9ad-4769-8c92-a6c4dae69d19",
    "_uuid": "8f2839f25d086af736a60e9eeb907d3b93b6e0e5",
    "execution": {
     "iopub.execute_input": "2024-03-25T05:16:47.844532Z",
     "iopub.status.busy": "2024-03-25T05:16:47.843603Z",
     "iopub.status.idle": "2024-03-25T05:16:48.881914Z",
     "shell.execute_reply": "2024-03-25T05:16:48.880316Z"
    },
    "papermill": {
     "duration": 1.05156,
     "end_time": "2024-03-25T05:16:48.884916",
     "exception": false,
     "start_time": "2024-03-25T05:16:47.833356",
     "status": "completed"
    },
    "tags": []
   },
   "outputs": [
    {
     "name": "stdout",
     "output_type": "stream",
     "text": [
      "/kaggle/input/wiki-data2/all.csv\n",
      "/kaggle/input/wiki-data2/train.csv\n",
      "/kaggle/input/wiki-data2/test.csv\n"
     ]
    }
   ],
   "source": [
    "# This Python 3 environment comes with many helpful analytics libraries installed\n",
    "# It is defined by the kaggle/python Docker image: https://github.com/kaggle/docker-python\n",
    "# For example, here's several helpful packages to load\n",
    "\n",
    "import numpy as np # linear algebra\n",
    "import pandas as pd # data processing, CSV file I/O (e.g. pd.read_csv)\n",
    "\n",
    "# Input data files are available in the read-only \"../input/\" directory\n",
    "# For example, running this (by clicking run or pressing Shift+Enter) will list all files under the input directory\n",
    "\n",
    "import os\n",
    "for dirname, _, filenames in os.walk('/kaggle/input'):\n",
    "    for filename in filenames:\n",
    "        print(os.path.join(dirname, filename))\n",
    "\n",
    "# You can write up to 20GB to the current directory (/kaggle/working/) that gets preserved as output when you create a version using \"Save & Run All\" \n",
    "# You can also write temporary files to /kaggle/temp/, but they won't be saved outside of the current session"
   ]
  },
  {
   "cell_type": "code",
   "execution_count": 2,
   "id": "78d8f397",
   "metadata": {
    "execution": {
     "iopub.execute_input": "2024-03-25T05:16:48.900058Z",
     "iopub.status.busy": "2024-03-25T05:16:48.899361Z",
     "iopub.status.idle": "2024-03-25T05:17:03.085790Z",
     "shell.execute_reply": "2024-03-25T05:17:03.084413Z"
    },
    "papermill": {
     "duration": 14.197475,
     "end_time": "2024-03-25T05:17:03.088932",
     "exception": false,
     "start_time": "2024-03-25T05:16:48.891457",
     "status": "completed"
    },
    "tags": []
   },
   "outputs": [
    {
     "name": "stdout",
     "output_type": "stream",
     "text": [
      "Requirement already satisfied: nltk in /opt/conda/lib/python3.10/site-packages (3.2.4)\r\n",
      "Requirement already satisfied: stop-words in /opt/conda/lib/python3.10/site-packages (2018.7.23)\r\n",
      "Requirement already satisfied: six in /opt/conda/lib/python3.10/site-packages (from nltk) (1.16.0)\r\n"
     ]
    }
   ],
   "source": [
    "!pip install nltk stop-words"
   ]
  },
  {
   "cell_type": "code",
   "execution_count": 3,
   "id": "b3be760d",
   "metadata": {
    "execution": {
     "iopub.execute_input": "2024-03-25T05:17:03.103968Z",
     "iopub.status.busy": "2024-03-25T05:17:03.103495Z",
     "iopub.status.idle": "2024-03-25T05:17:06.964538Z",
     "shell.execute_reply": "2024-03-25T05:17:06.963278Z"
    },
    "papermill": {
     "duration": 3.872274,
     "end_time": "2024-03-25T05:17:06.967592",
     "exception": false,
     "start_time": "2024-03-25T05:17:03.095318",
     "status": "completed"
    },
    "tags": []
   },
   "outputs": [],
   "source": [
    "import torch\n",
    "import torch.nn as nn\n",
    "import re"
   ]
  },
  {
   "cell_type": "code",
   "execution_count": 4,
   "id": "fc3021b7",
   "metadata": {
    "execution": {
     "iopub.execute_input": "2024-03-25T05:17:06.982923Z",
     "iopub.status.busy": "2024-03-25T05:17:06.982220Z",
     "iopub.status.idle": "2024-03-25T05:17:07.042852Z",
     "shell.execute_reply": "2024-03-25T05:17:07.041745Z"
    },
    "papermill": {
     "duration": 0.071477,
     "end_time": "2024-03-25T05:17:07.045561",
     "exception": false,
     "start_time": "2024-03-25T05:17:06.974084",
     "status": "completed"
    },
    "tags": []
   },
   "outputs": [],
   "source": [
    "df_train = pd.read_csv('/kaggle/input/wiki-data2/train.csv')\n",
    "df_test = pd.read_csv('/kaggle/input/wiki-data2/test.csv')"
   ]
  },
  {
   "cell_type": "code",
   "execution_count": 5,
   "id": "eba6d096",
   "metadata": {
    "execution": {
     "iopub.execute_input": "2024-03-25T05:17:07.060013Z",
     "iopub.status.busy": "2024-03-25T05:17:07.059535Z",
     "iopub.status.idle": "2024-03-25T05:17:07.087703Z",
     "shell.execute_reply": "2024-03-25T05:17:07.086607Z"
    },
    "papermill": {
     "duration": 0.039743,
     "end_time": "2024-03-25T05:17:07.091614",
     "exception": false,
     "start_time": "2024-03-25T05:17:07.051871",
     "status": "completed"
    },
    "tags": []
   },
   "outputs": [
    {
     "data": {
      "text/html": [
       "<div>\n",
       "<style scoped>\n",
       "    .dataframe tbody tr th:only-of-type {\n",
       "        vertical-align: middle;\n",
       "    }\n",
       "\n",
       "    .dataframe tbody tr th {\n",
       "        vertical-align: top;\n",
       "    }\n",
       "\n",
       "    .dataframe thead th {\n",
       "        text-align: right;\n",
       "    }\n",
       "</style>\n",
       "<table border=\"1\" class=\"dataframe\">\n",
       "  <thead>\n",
       "    <tr style=\"text-align: right;\">\n",
       "      <th></th>\n",
       "      <th>Unnamed: 0</th>\n",
       "      <th>title</th>\n",
       "      <th>content</th>\n",
       "      <th>label</th>\n",
       "    </tr>\n",
       "  </thead>\n",
       "  <tbody>\n",
       "    <tr>\n",
       "      <th>0</th>\n",
       "      <td>0</td>\n",
       "      <td>Melocalamus scandens</td>\n",
       "      <td>Melocalamus scandens là một loài thực vật có h...</td>\n",
       "      <td>0</td>\n",
       "    </tr>\n",
       "    <tr>\n",
       "      <th>1</th>\n",
       "      <td>1</td>\n",
       "      <td>Paleauletobius silenus</td>\n",
       "      <td>Paleauletobius silenus là một loài bọ cánh cứn...</td>\n",
       "      <td>0</td>\n",
       "    </tr>\n",
       "    <tr>\n",
       "      <th>2</th>\n",
       "      <td>2</td>\n",
       "      <td>Zoodes hirsutus</td>\n",
       "      <td>Zoodes hirsutus là một loài bọ cánh cứng trong...</td>\n",
       "      <td>0</td>\n",
       "    </tr>\n",
       "    <tr>\n",
       "      <th>3</th>\n",
       "      <td>3</td>\n",
       "      <td>Quốc kỳ Argentina</td>\n",
       "      <td>Quốc kỳ Argentina ( tiếng Tây Ban Nha : Bander...</td>\n",
       "      <td>3</td>\n",
       "    </tr>\n",
       "    <tr>\n",
       "      <th>4</th>\n",
       "      <td>4</td>\n",
       "      <td>Dundahera</td>\n",
       "      <td>Dundahera là một thị trấn thống kê ( census to...</td>\n",
       "      <td>1</td>\n",
       "    </tr>\n",
       "    <tr>\n",
       "      <th>...</th>\n",
       "      <td>...</td>\n",
       "      <td>...</td>\n",
       "      <td>...</td>\n",
       "      <td>...</td>\n",
       "    </tr>\n",
       "    <tr>\n",
       "      <th>1720</th>\n",
       "      <td>2090</td>\n",
       "      <td>Volodymyr Oleksandrovych Zelensky</td>\n",
       "      <td>Volodymyr Oleksandrovych Zelensky ( tiếng Ukra...</td>\n",
       "      <td>3</td>\n",
       "    </tr>\n",
       "    <tr>\n",
       "      <th>1721</th>\n",
       "      <td>2091</td>\n",
       "      <td>Barack Obama</td>\n",
       "      <td>Barack Hussein Obama II ( / b ə ˈ r ɑː k h uː ...</td>\n",
       "      <td>3</td>\n",
       "    </tr>\n",
       "    <tr>\n",
       "      <th>1722</th>\n",
       "      <td>2092</td>\n",
       "      <td>Hillary Clinton</td>\n",
       "      <td>Hillary Diane Rodham Clinton ( phát âm tiếng A...</td>\n",
       "      <td>3</td>\n",
       "    </tr>\n",
       "    <tr>\n",
       "      <th>1723</th>\n",
       "      <td>2093</td>\n",
       "      <td>The New York Times</td>\n",
       "      <td>The New York Times (tên tiếng Việt: Thời báo N...</td>\n",
       "      <td>3</td>\n",
       "    </tr>\n",
       "    <tr>\n",
       "      <th>1724</th>\n",
       "      <td>2094</td>\n",
       "      <td>Giải Pulitzer</td>\n",
       "      <td>Giải Pulitzer là một giải thưởng của Mỹ , trao...</td>\n",
       "      <td>3</td>\n",
       "    </tr>\n",
       "  </tbody>\n",
       "</table>\n",
       "<p>1725 rows × 4 columns</p>\n",
       "</div>"
      ],
      "text/plain": [
       "      Unnamed: 0                              title  \\\n",
       "0              0               Melocalamus scandens   \n",
       "1              1             Paleauletobius silenus   \n",
       "2              2                    Zoodes hirsutus   \n",
       "3              3                  Quốc kỳ Argentina   \n",
       "4              4                          Dundahera   \n",
       "...          ...                                ...   \n",
       "1720        2090  Volodymyr Oleksandrovych Zelensky   \n",
       "1721        2091                       Barack Obama   \n",
       "1722        2092                    Hillary Clinton   \n",
       "1723        2093                 The New York Times   \n",
       "1724        2094                      Giải Pulitzer   \n",
       "\n",
       "                                                content  label  \n",
       "0     Melocalamus scandens là một loài thực vật có h...      0  \n",
       "1     Paleauletobius silenus là một loài bọ cánh cứn...      0  \n",
       "2     Zoodes hirsutus là một loài bọ cánh cứng trong...      0  \n",
       "3     Quốc kỳ Argentina ( tiếng Tây Ban Nha : Bander...      3  \n",
       "4     Dundahera là một thị trấn thống kê ( census to...      1  \n",
       "...                                                 ...    ...  \n",
       "1720  Volodymyr Oleksandrovych Zelensky ( tiếng Ukra...      3  \n",
       "1721  Barack Hussein Obama II ( / b ə ˈ r ɑː k h uː ...      3  \n",
       "1722  Hillary Diane Rodham Clinton ( phát âm tiếng A...      3  \n",
       "1723  The New York Times (tên tiếng Việt: Thời báo N...      3  \n",
       "1724  Giải Pulitzer là một giải thưởng của Mỹ , trao...      3  \n",
       "\n",
       "[1725 rows x 4 columns]"
      ]
     },
     "execution_count": 5,
     "metadata": {},
     "output_type": "execute_result"
    }
   ],
   "source": [
    "df_train"
   ]
  },
  {
   "cell_type": "code",
   "execution_count": 6,
   "id": "a3b634c5",
   "metadata": {
    "execution": {
     "iopub.execute_input": "2024-03-25T05:17:07.106806Z",
     "iopub.status.busy": "2024-03-25T05:17:07.106349Z",
     "iopub.status.idle": "2024-03-25T05:17:07.122061Z",
     "shell.execute_reply": "2024-03-25T05:17:07.120637Z"
    },
    "papermill": {
     "duration": 0.026048,
     "end_time": "2024-03-25T05:17:07.124444",
     "exception": false,
     "start_time": "2024-03-25T05:17:07.098396",
     "status": "completed"
    },
    "tags": []
   },
   "outputs": [
    {
     "data": {
      "text/plain": [
       "label\n",
       "0    1115\n",
       "1     365\n",
       "3     139\n",
       "2      78\n",
       "4      28\n",
       "Name: count, dtype: int64"
      ]
     },
     "execution_count": 6,
     "metadata": {},
     "output_type": "execute_result"
    }
   ],
   "source": [
    "df_train['label'].value_counts()"
   ]
  },
  {
   "cell_type": "code",
   "execution_count": 7,
   "id": "4099de69",
   "metadata": {
    "execution": {
     "iopub.execute_input": "2024-03-25T05:17:07.139815Z",
     "iopub.status.busy": "2024-03-25T05:17:07.139323Z",
     "iopub.status.idle": "2024-03-25T05:17:07.151680Z",
     "shell.execute_reply": "2024-03-25T05:17:07.150417Z"
    },
    "papermill": {
     "duration": 0.023613,
     "end_time": "2024-03-25T05:17:07.154716",
     "exception": false,
     "start_time": "2024-03-25T05:17:07.131103",
     "status": "completed"
    },
    "tags": []
   },
   "outputs": [],
   "source": [
    "num_samples_to_remove = 600\n",
    "indices_to_remove = df_train[df_train['label'] == 0].sample(n=num_samples_to_remove, random_state=42).index\n",
    "df_filtered = df_train.drop(indices_to_remove)"
   ]
  },
  {
   "cell_type": "code",
   "execution_count": 8,
   "id": "bd586539",
   "metadata": {
    "execution": {
     "iopub.execute_input": "2024-03-25T05:17:07.170739Z",
     "iopub.status.busy": "2024-03-25T05:17:07.170273Z",
     "iopub.status.idle": "2024-03-25T05:17:07.179459Z",
     "shell.execute_reply": "2024-03-25T05:17:07.178382Z"
    },
    "papermill": {
     "duration": 0.019964,
     "end_time": "2024-03-25T05:17:07.181786",
     "exception": false,
     "start_time": "2024-03-25T05:17:07.161822",
     "status": "completed"
    },
    "tags": []
   },
   "outputs": [
    {
     "data": {
      "text/plain": [
       "label\n",
       "0    515\n",
       "1    365\n",
       "3    139\n",
       "2     78\n",
       "4     28\n",
       "Name: count, dtype: int64"
      ]
     },
     "execution_count": 8,
     "metadata": {},
     "output_type": "execute_result"
    }
   ],
   "source": [
    "df_filtered['label'].value_counts()"
   ]
  },
  {
   "cell_type": "code",
   "execution_count": 9,
   "id": "c114cfc6",
   "metadata": {
    "execution": {
     "iopub.execute_input": "2024-03-25T05:17:07.198073Z",
     "iopub.status.busy": "2024-03-25T05:17:07.197248Z",
     "iopub.status.idle": "2024-03-25T05:17:07.206936Z",
     "shell.execute_reply": "2024-03-25T05:17:07.205871Z"
    },
    "papermill": {
     "duration": 0.020653,
     "end_time": "2024-03-25T05:17:07.209339",
     "exception": false,
     "start_time": "2024-03-25T05:17:07.188686",
     "status": "completed"
    },
    "tags": []
   },
   "outputs": [
    {
     "data": {
      "text/plain": [
       "1       Paleauletobius silenus là một loài bọ cánh cứn...\n",
       "3       Quốc kỳ Argentina ( tiếng Tây Ban Nha : Bander...\n",
       "4       Dundahera là một thị trấn thống kê ( census to...\n",
       "5       Nạn khan hiếm nhu yếu phẩm tại Venezuela ( tiế...\n",
       "7       Archidendron royenii là một loài thực vật có h...\n",
       "                              ...                        \n",
       "1720    Volodymyr Oleksandrovych Zelensky ( tiếng Ukra...\n",
       "1721    Barack Hussein Obama II ( / b ə ˈ r ɑː k h uː ...\n",
       "1722    Hillary Diane Rodham Clinton ( phát âm tiếng A...\n",
       "1723    The New York Times (tên tiếng Việt: Thời báo N...\n",
       "1724    Giải Pulitzer là một giải thưởng của Mỹ , trao...\n",
       "Name: content, Length: 1125, dtype: object"
      ]
     },
     "execution_count": 9,
     "metadata": {},
     "output_type": "execute_result"
    }
   ],
   "source": [
    "df_filtered['content']"
   ]
  },
  {
   "cell_type": "code",
   "execution_count": 10,
   "id": "71ccd0ab",
   "metadata": {
    "execution": {
     "iopub.execute_input": "2024-03-25T05:17:07.226291Z",
     "iopub.status.busy": "2024-03-25T05:17:07.225751Z",
     "iopub.status.idle": "2024-03-25T05:17:07.234336Z",
     "shell.execute_reply": "2024-03-25T05:17:07.233129Z"
    },
    "papermill": {
     "duration": 0.020121,
     "end_time": "2024-03-25T05:17:07.236827",
     "exception": false,
     "start_time": "2024-03-25T05:17:07.216706",
     "status": "completed"
    },
    "tags": []
   },
   "outputs": [
    {
     "data": {
      "text/plain": [
       "'Paleauletobius silenus là một loài bọ cánh cứng trong họ Rhynchitidae . Loài này được Heer miêu tả khoa học năm 1847. '"
      ]
     },
     "execution_count": 10,
     "metadata": {},
     "output_type": "execute_result"
    }
   ],
   "source": [
    "a  = re.sub(r'\\[\\d+\\]', '',df_filtered['content'].iloc[0])\n",
    "a"
   ]
  },
  {
   "cell_type": "code",
   "execution_count": 11,
   "id": "209c2385",
   "metadata": {
    "execution": {
     "iopub.execute_input": "2024-03-25T05:17:07.253012Z",
     "iopub.status.busy": "2024-03-25T05:17:07.252584Z",
     "iopub.status.idle": "2024-03-25T05:17:07.268300Z",
     "shell.execute_reply": "2024-03-25T05:17:07.266935Z"
    },
    "papermill": {
     "duration": 0.026826,
     "end_time": "2024-03-25T05:17:07.270682",
     "exception": false,
     "start_time": "2024-03-25T05:17:07.243856",
     "status": "completed"
    },
    "tags": []
   },
   "outputs": [
    {
     "data": {
      "text/html": [
       "<div>\n",
       "<style scoped>\n",
       "    .dataframe tbody tr th:only-of-type {\n",
       "        vertical-align: middle;\n",
       "    }\n",
       "\n",
       "    .dataframe tbody tr th {\n",
       "        vertical-align: top;\n",
       "    }\n",
       "\n",
       "    .dataframe thead th {\n",
       "        text-align: right;\n",
       "    }\n",
       "</style>\n",
       "<table border=\"1\" class=\"dataframe\">\n",
       "  <thead>\n",
       "    <tr style=\"text-align: right;\">\n",
       "      <th></th>\n",
       "      <th>Unnamed: 0</th>\n",
       "      <th>title</th>\n",
       "      <th>content</th>\n",
       "      <th>label</th>\n",
       "    </tr>\n",
       "  </thead>\n",
       "  <tbody>\n",
       "    <tr>\n",
       "      <th>1</th>\n",
       "      <td>1</td>\n",
       "      <td>Paleauletobius silenus</td>\n",
       "      <td>Paleauletobius silenus là một loài bọ cánh cứn...</td>\n",
       "      <td>0</td>\n",
       "    </tr>\n",
       "    <tr>\n",
       "      <th>3</th>\n",
       "      <td>3</td>\n",
       "      <td>Quốc kỳ Argentina</td>\n",
       "      <td>Quốc kỳ Argentina ( tiếng Tây Ban Nha : Bander...</td>\n",
       "      <td>3</td>\n",
       "    </tr>\n",
       "    <tr>\n",
       "      <th>4</th>\n",
       "      <td>4</td>\n",
       "      <td>Dundahera</td>\n",
       "      <td>Dundahera là một thị trấn thống kê ( census to...</td>\n",
       "      <td>1</td>\n",
       "    </tr>\n",
       "    <tr>\n",
       "      <th>5</th>\n",
       "      <td>5</td>\n",
       "      <td>Nạn khan hiếm nhu yếu phẩm tại Venezuela</td>\n",
       "      <td>Nạn khan hiếm nhu yếu phẩm tại Venezuela ( tiế...</td>\n",
       "      <td>1</td>\n",
       "    </tr>\n",
       "    <tr>\n",
       "      <th>7</th>\n",
       "      <td>7</td>\n",
       "      <td>Archidendron royenii</td>\n",
       "      <td>Archidendron royenii là một loài thực vật có h...</td>\n",
       "      <td>0</td>\n",
       "    </tr>\n",
       "    <tr>\n",
       "      <th>...</th>\n",
       "      <td>...</td>\n",
       "      <td>...</td>\n",
       "      <td>...</td>\n",
       "      <td>...</td>\n",
       "    </tr>\n",
       "    <tr>\n",
       "      <th>1720</th>\n",
       "      <td>2090</td>\n",
       "      <td>Volodymyr Oleksandrovych Zelensky</td>\n",
       "      <td>Volodymyr Oleksandrovych Zelensky ( tiếng Ukra...</td>\n",
       "      <td>3</td>\n",
       "    </tr>\n",
       "    <tr>\n",
       "      <th>1721</th>\n",
       "      <td>2091</td>\n",
       "      <td>Barack Obama</td>\n",
       "      <td>Barack Hussein Obama II ( / b ə ˈ r ɑː k h uː ...</td>\n",
       "      <td>3</td>\n",
       "    </tr>\n",
       "    <tr>\n",
       "      <th>1722</th>\n",
       "      <td>2092</td>\n",
       "      <td>Hillary Clinton</td>\n",
       "      <td>Hillary Diane Rodham Clinton ( phát âm tiếng A...</td>\n",
       "      <td>3</td>\n",
       "    </tr>\n",
       "    <tr>\n",
       "      <th>1723</th>\n",
       "      <td>2093</td>\n",
       "      <td>The New York Times</td>\n",
       "      <td>The New York Times (tên tiếng Việt: Thời báo N...</td>\n",
       "      <td>3</td>\n",
       "    </tr>\n",
       "    <tr>\n",
       "      <th>1724</th>\n",
       "      <td>2094</td>\n",
       "      <td>Giải Pulitzer</td>\n",
       "      <td>Giải Pulitzer là một giải thưởng của Mỹ , trao...</td>\n",
       "      <td>3</td>\n",
       "    </tr>\n",
       "  </tbody>\n",
       "</table>\n",
       "<p>1125 rows × 4 columns</p>\n",
       "</div>"
      ],
      "text/plain": [
       "      Unnamed: 0                                     title  \\\n",
       "1              1                    Paleauletobius silenus   \n",
       "3              3                         Quốc kỳ Argentina   \n",
       "4              4                                 Dundahera   \n",
       "5              5  Nạn khan hiếm nhu yếu phẩm tại Venezuela   \n",
       "7              7                      Archidendron royenii   \n",
       "...          ...                                       ...   \n",
       "1720        2090         Volodymyr Oleksandrovych Zelensky   \n",
       "1721        2091                              Barack Obama   \n",
       "1722        2092                           Hillary Clinton   \n",
       "1723        2093                        The New York Times   \n",
       "1724        2094                             Giải Pulitzer   \n",
       "\n",
       "                                                content  label  \n",
       "1     Paleauletobius silenus là một loài bọ cánh cứn...      0  \n",
       "3     Quốc kỳ Argentina ( tiếng Tây Ban Nha : Bander...      3  \n",
       "4     Dundahera là một thị trấn thống kê ( census to...      1  \n",
       "5     Nạn khan hiếm nhu yếu phẩm tại Venezuela ( tiế...      1  \n",
       "7     Archidendron royenii là một loài thực vật có h...      0  \n",
       "...                                                 ...    ...  \n",
       "1720  Volodymyr Oleksandrovych Zelensky ( tiếng Ukra...      3  \n",
       "1721  Barack Hussein Obama II ( / b ə ˈ r ɑː k h uː ...      3  \n",
       "1722  Hillary Diane Rodham Clinton ( phát âm tiếng A...      3  \n",
       "1723  The New York Times (tên tiếng Việt: Thời báo N...      3  \n",
       "1724  Giải Pulitzer là một giải thưởng của Mỹ , trao...      3  \n",
       "\n",
       "[1125 rows x 4 columns]"
      ]
     },
     "execution_count": 11,
     "metadata": {},
     "output_type": "execute_result"
    }
   ],
   "source": [
    "df_filtered[df_filtered['content'].apply(lambda x: isinstance(x, str))]"
   ]
  },
  {
   "cell_type": "code",
   "execution_count": 12,
   "id": "42f4236b",
   "metadata": {
    "execution": {
     "iopub.execute_input": "2024-03-25T05:17:07.289033Z",
     "iopub.status.busy": "2024-03-25T05:17:07.288075Z",
     "iopub.status.idle": "2024-03-25T05:17:09.946068Z",
     "shell.execute_reply": "2024-03-25T05:17:09.944695Z"
    },
    "papermill": {
     "duration": 2.669443,
     "end_time": "2024-03-25T05:17:09.948709",
     "exception": false,
     "start_time": "2024-03-25T05:17:07.279266",
     "status": "completed"
    },
    "tags": []
   },
   "outputs": [
    {
     "name": "stdout",
     "output_type": "stream",
     "text": [
      "[nltk_data] Downloading package stopwords to /usr/share/nltk_data...\n",
      "[nltk_data]   Package stopwords is already up-to-date!\n"
     ]
    }
   ],
   "source": [
    "import re\n",
    "import nltk\n",
    "from stop_words import get_stop_words\n",
    "\n",
    "nltk.download('stopwords')\n",
    "stop_words = get_stop_words('vi')\n",
    "\n",
    "def preprocess_text(text):\n",
    "    text = re.sub(r'\\[\\d+\\]', '', text)\n",
    "    text = re.sub(r'\\([^()]*\\)', '', text)\n",
    "#     words = text.split()\n",
    "#     filtered_words = [word for word in words if word.lower() not in stop_words]\n",
    "#     filtered_text = ' '.join(filtered_words)\n",
    "    return text\n"
   ]
  },
  {
   "cell_type": "code",
   "execution_count": 13,
   "id": "46fc5f16",
   "metadata": {
    "execution": {
     "iopub.execute_input": "2024-03-25T05:17:09.965825Z",
     "iopub.status.busy": "2024-03-25T05:17:09.965348Z",
     "iopub.status.idle": "2024-03-25T05:17:09.979390Z",
     "shell.execute_reply": "2024-03-25T05:17:09.978374Z"
    },
    "papermill": {
     "duration": 0.025639,
     "end_time": "2024-03-25T05:17:09.981908",
     "exception": false,
     "start_time": "2024-03-25T05:17:09.956269",
     "status": "completed"
    },
    "tags": []
   },
   "outputs": [],
   "source": [
    "df_filtered['content'] = df_filtered['content'].apply(preprocess_text)\n",
    "df_test['content'] = df_test['content'].apply(preprocess_text)"
   ]
  },
  {
   "cell_type": "code",
   "execution_count": 14,
   "id": "cdb42a98",
   "metadata": {
    "execution": {
     "iopub.execute_input": "2024-03-25T05:17:09.999608Z",
     "iopub.status.busy": "2024-03-25T05:17:09.998865Z",
     "iopub.status.idle": "2024-03-25T05:17:10.014823Z",
     "shell.execute_reply": "2024-03-25T05:17:10.013338Z"
    },
    "papermill": {
     "duration": 0.027926,
     "end_time": "2024-03-25T05:17:10.017457",
     "exception": false,
     "start_time": "2024-03-25T05:17:09.989531",
     "status": "completed"
    },
    "tags": []
   },
   "outputs": [
    {
     "data": {
      "text/html": [
       "<div>\n",
       "<style scoped>\n",
       "    .dataframe tbody tr th:only-of-type {\n",
       "        vertical-align: middle;\n",
       "    }\n",
       "\n",
       "    .dataframe tbody tr th {\n",
       "        vertical-align: top;\n",
       "    }\n",
       "\n",
       "    .dataframe thead th {\n",
       "        text-align: right;\n",
       "    }\n",
       "</style>\n",
       "<table border=\"1\" class=\"dataframe\">\n",
       "  <thead>\n",
       "    <tr style=\"text-align: right;\">\n",
       "      <th></th>\n",
       "      <th>Unnamed: 0</th>\n",
       "      <th>title</th>\n",
       "      <th>content</th>\n",
       "      <th>label</th>\n",
       "    </tr>\n",
       "  </thead>\n",
       "  <tbody>\n",
       "    <tr>\n",
       "      <th>0</th>\n",
       "      <td>1460</td>\n",
       "      <td>Jerzy Dudek</td>\n",
       "      <td>Jerzy Henryk Dudek  là một cầu thủ bóng đá chu...</td>\n",
       "      <td>1</td>\n",
       "    </tr>\n",
       "    <tr>\n",
       "      <th>1</th>\n",
       "      <td>1983</td>\n",
       "      <td>Vật liệu composite</td>\n",
       "      <td>Vật liệu composite , còn gọi là Vật liệu tổ hợ...</td>\n",
       "      <td>2</td>\n",
       "    </tr>\n",
       "    <tr>\n",
       "      <th>2</th>\n",
       "      <td>1759</td>\n",
       "      <td>Eleutherodactylus guentheri</td>\n",
       "      <td>Eleutherodactylus guentheri là một loài ếch tr...</td>\n",
       "      <td>0</td>\n",
       "    </tr>\n",
       "    <tr>\n",
       "      <th>3</th>\n",
       "      <td>800</td>\n",
       "      <td>Xã Winsted, Quận McLeod, Minnesota</td>\n",
       "      <td>Xã Winsted  là một xã thuộc quận McLeod , tiểu...</td>\n",
       "      <td>1</td>\n",
       "    </tr>\n",
       "    <tr>\n",
       "      <th>4</th>\n",
       "      <td>440</td>\n",
       "      <td>Hampea micrantha</td>\n",
       "      <td>Hampea micrantha là một loài thực vật có hoa t...</td>\n",
       "      <td>0</td>\n",
       "    </tr>\n",
       "  </tbody>\n",
       "</table>\n",
       "</div>"
      ],
      "text/plain": [
       "   Unnamed: 0                               title  \\\n",
       "0        1460                         Jerzy Dudek   \n",
       "1        1983                  Vật liệu composite   \n",
       "2        1759         Eleutherodactylus guentheri   \n",
       "3         800  Xã Winsted, Quận McLeod, Minnesota   \n",
       "4         440                    Hampea micrantha   \n",
       "\n",
       "                                             content  label  \n",
       "0  Jerzy Henryk Dudek  là một cầu thủ bóng đá chu...      1  \n",
       "1  Vật liệu composite , còn gọi là Vật liệu tổ hợ...      2  \n",
       "2  Eleutherodactylus guentheri là một loài ếch tr...      0  \n",
       "3  Xã Winsted  là một xã thuộc quận McLeod , tiểu...      1  \n",
       "4  Hampea micrantha là một loài thực vật có hoa t...      0  "
      ]
     },
     "execution_count": 14,
     "metadata": {},
     "output_type": "execute_result"
    }
   ],
   "source": [
    "df_filtered = df_filtered.sample(frac=1).reset_index(drop=True)\n",
    "df_filtered.head()"
   ]
  },
  {
   "cell_type": "code",
   "execution_count": 15,
   "id": "ee8724eb",
   "metadata": {
    "execution": {
     "iopub.execute_input": "2024-03-25T05:17:10.035857Z",
     "iopub.status.busy": "2024-03-25T05:17:10.034888Z",
     "iopub.status.idle": "2024-03-25T05:17:10.049469Z",
     "shell.execute_reply": "2024-03-25T05:17:10.048177Z"
    },
    "papermill": {
     "duration": 0.026765,
     "end_time": "2024-03-25T05:17:10.051966",
     "exception": false,
     "start_time": "2024-03-25T05:17:10.025201",
     "status": "completed"
    },
    "tags": []
   },
   "outputs": [
    {
     "data": {
      "text/html": [
       "<div>\n",
       "<style scoped>\n",
       "    .dataframe tbody tr th:only-of-type {\n",
       "        vertical-align: middle;\n",
       "    }\n",
       "\n",
       "    .dataframe tbody tr th {\n",
       "        vertical-align: top;\n",
       "    }\n",
       "\n",
       "    .dataframe thead th {\n",
       "        text-align: right;\n",
       "    }\n",
       "</style>\n",
       "<table border=\"1\" class=\"dataframe\">\n",
       "  <thead>\n",
       "    <tr style=\"text-align: right;\">\n",
       "      <th></th>\n",
       "      <th>Unnamed: 0</th>\n",
       "      <th>title</th>\n",
       "      <th>content</th>\n",
       "      <th>label</th>\n",
       "    </tr>\n",
       "  </thead>\n",
       "  <tbody>\n",
       "    <tr>\n",
       "      <th>0</th>\n",
       "      <td>1460</td>\n",
       "      <td>Jerzy Dudek</td>\n",
       "      <td>Jerzy Henryk Dudek  là một cầu thủ bóng đá chu...</td>\n",
       "      <td>1</td>\n",
       "    </tr>\n",
       "    <tr>\n",
       "      <th>1</th>\n",
       "      <td>1983</td>\n",
       "      <td>Vật liệu composite</td>\n",
       "      <td>Vật liệu composite , còn gọi là Vật liệu tổ hợ...</td>\n",
       "      <td>2</td>\n",
       "    </tr>\n",
       "    <tr>\n",
       "      <th>2</th>\n",
       "      <td>1759</td>\n",
       "      <td>Eleutherodactylus guentheri</td>\n",
       "      <td>Eleutherodactylus guentheri là một loài ếch tr...</td>\n",
       "      <td>0</td>\n",
       "    </tr>\n",
       "    <tr>\n",
       "      <th>3</th>\n",
       "      <td>800</td>\n",
       "      <td>Xã Winsted, Quận McLeod, Minnesota</td>\n",
       "      <td>Xã Winsted  là một xã thuộc quận McLeod , tiểu...</td>\n",
       "      <td>1</td>\n",
       "    </tr>\n",
       "    <tr>\n",
       "      <th>4</th>\n",
       "      <td>440</td>\n",
       "      <td>Hampea micrantha</td>\n",
       "      <td>Hampea micrantha là một loài thực vật có hoa t...</td>\n",
       "      <td>0</td>\n",
       "    </tr>\n",
       "    <tr>\n",
       "      <th>...</th>\n",
       "      <td>...</td>\n",
       "      <td>...</td>\n",
       "      <td>...</td>\n",
       "      <td>...</td>\n",
       "    </tr>\n",
       "    <tr>\n",
       "      <th>1120</th>\n",
       "      <td>2044</td>\n",
       "      <td>Tất lưới</td>\n",
       "      <td>Trong ngành may mặc, tất lưới  là một loại tất...</td>\n",
       "      <td>3</td>\n",
       "    </tr>\n",
       "    <tr>\n",
       "      <th>1121</th>\n",
       "      <td>892</td>\n",
       "      <td>Phật giáo Nam truyền</td>\n",
       "      <td>Phật giáo Nam truyền hay Phật giáo Nam tông , ...</td>\n",
       "      <td>3</td>\n",
       "    </tr>\n",
       "    <tr>\n",
       "      <th>1122</th>\n",
       "      <td>1091</td>\n",
       "      <td>Abbottstown, Pennsylvania</td>\n",
       "      <td>Abbottstown là một thị trấn thuộc quận Adams ,...</td>\n",
       "      <td>1</td>\n",
       "    </tr>\n",
       "    <tr>\n",
       "      <th>1123</th>\n",
       "      <td>1637</td>\n",
       "      <td>Yên Thế (phường)</td>\n",
       "      <td>Yên Thế là một phường thuộc thành phố Pleiku ,...</td>\n",
       "      <td>1</td>\n",
       "    </tr>\n",
       "    <tr>\n",
       "      <th>1124</th>\n",
       "      <td>82</td>\n",
       "      <td>Aconitum pendulum</td>\n",
       "      <td>Aconitum pendulum là một loài thực vật có hoa ...</td>\n",
       "      <td>0</td>\n",
       "    </tr>\n",
       "  </tbody>\n",
       "</table>\n",
       "<p>1125 rows × 4 columns</p>\n",
       "</div>"
      ],
      "text/plain": [
       "      Unnamed: 0                               title  \\\n",
       "0           1460                         Jerzy Dudek   \n",
       "1           1983                  Vật liệu composite   \n",
       "2           1759         Eleutherodactylus guentheri   \n",
       "3            800  Xã Winsted, Quận McLeod, Minnesota   \n",
       "4            440                    Hampea micrantha   \n",
       "...          ...                                 ...   \n",
       "1120        2044                            Tất lưới   \n",
       "1121         892                Phật giáo Nam truyền   \n",
       "1122        1091           Abbottstown, Pennsylvania   \n",
       "1123        1637                    Yên Thế (phường)   \n",
       "1124          82                   Aconitum pendulum   \n",
       "\n",
       "                                                content  label  \n",
       "0     Jerzy Henryk Dudek  là một cầu thủ bóng đá chu...      1  \n",
       "1     Vật liệu composite , còn gọi là Vật liệu tổ hợ...      2  \n",
       "2     Eleutherodactylus guentheri là một loài ếch tr...      0  \n",
       "3     Xã Winsted  là một xã thuộc quận McLeod , tiểu...      1  \n",
       "4     Hampea micrantha là một loài thực vật có hoa t...      0  \n",
       "...                                                 ...    ...  \n",
       "1120  Trong ngành may mặc, tất lưới  là một loại tất...      3  \n",
       "1121  Phật giáo Nam truyền hay Phật giáo Nam tông , ...      3  \n",
       "1122  Abbottstown là một thị trấn thuộc quận Adams ,...      1  \n",
       "1123  Yên Thế là một phường thuộc thành phố Pleiku ,...      1  \n",
       "1124  Aconitum pendulum là một loài thực vật có hoa ...      0  \n",
       "\n",
       "[1125 rows x 4 columns]"
      ]
     },
     "execution_count": 15,
     "metadata": {},
     "output_type": "execute_result"
    }
   ],
   "source": [
    "df_filtered"
   ]
  },
  {
   "cell_type": "code",
   "execution_count": 16,
   "id": "e7c0394c",
   "metadata": {
    "execution": {
     "iopub.execute_input": "2024-03-25T05:17:10.071269Z",
     "iopub.status.busy": "2024-03-25T05:17:10.070004Z",
     "iopub.status.idle": "2024-03-25T05:17:10.259661Z",
     "shell.execute_reply": "2024-03-25T05:17:10.258445Z"
    },
    "papermill": {
     "duration": 0.20224,
     "end_time": "2024-03-25T05:17:10.262920",
     "exception": false,
     "start_time": "2024-03-25T05:17:10.060680",
     "status": "completed"
    },
    "tags": []
   },
   "outputs": [],
   "source": [
    "from sklearn.model_selection import GridSearchCV\n",
    "from sklearn.svm import SVC\n",
    "from sklearn.ensemble import RandomForestClassifier, GradientBoostingClassifier\n",
    "from sklearn.neighbors import KNeighborsClassifier\n",
    "from sklearn.datasets import make_classification\n",
    "from sklearn.metrics import classification_report\n",
    "from sklearn.model_selection import train_test_split\n",
    "from sklearn.feature_extraction.text import TfidfVectorizer\n",
    "from sklearn.model_selection import train_test_split\n",
    "from sklearn.feature_extraction.text import CountVectorizer"
   ]
  },
  {
   "cell_type": "code",
   "execution_count": 17,
   "id": "798d8217",
   "metadata": {
    "execution": {
     "iopub.execute_input": "2024-03-25T05:17:10.281121Z",
     "iopub.status.busy": "2024-03-25T05:17:10.280626Z",
     "iopub.status.idle": "2024-03-25T05:17:10.382830Z",
     "shell.execute_reply": "2024-03-25T05:17:10.381556Z"
    },
    "papermill": {
     "duration": 0.114804,
     "end_time": "2024-03-25T05:17:10.385794",
     "exception": false,
     "start_time": "2024-03-25T05:17:10.270990",
     "status": "completed"
    },
    "tags": []
   },
   "outputs": [],
   "source": [
    "tfidf_vectorizer = TfidfVectorizer()\n",
    "X_train = tfidf_vectorizer.fit_transform(df_filtered['content'])\n",
    "X_test = tfidf_vectorizer.transform(df_test['content'])"
   ]
  },
  {
   "cell_type": "code",
   "execution_count": 18,
   "id": "f516cf38",
   "metadata": {
    "execution": {
     "iopub.execute_input": "2024-03-25T05:17:10.404098Z",
     "iopub.status.busy": "2024-03-25T05:17:10.403324Z",
     "iopub.status.idle": "2024-03-25T05:17:10.409187Z",
     "shell.execute_reply": "2024-03-25T05:17:10.407794Z"
    },
    "papermill": {
     "duration": 0.018131,
     "end_time": "2024-03-25T05:17:10.411899",
     "exception": false,
     "start_time": "2024-03-25T05:17:10.393768",
     "status": "completed"
    },
    "tags": []
   },
   "outputs": [],
   "source": [
    "y_train = df_filtered['label']\n",
    "y_test = df_test['label']"
   ]
  },
  {
   "cell_type": "code",
   "execution_count": 19,
   "id": "96b2fe35",
   "metadata": {
    "execution": {
     "iopub.execute_input": "2024-03-25T05:17:10.429927Z",
     "iopub.status.busy": "2024-03-25T05:17:10.429484Z",
     "iopub.status.idle": "2024-03-25T05:17:10.434851Z",
     "shell.execute_reply": "2024-03-25T05:17:10.433715Z"
    },
    "papermill": {
     "duration": 0.017434,
     "end_time": "2024-03-25T05:17:10.437286",
     "exception": false,
     "start_time": "2024-03-25T05:17:10.419852",
     "status": "completed"
    },
    "tags": []
   },
   "outputs": [],
   "source": [
    "# define model\n",
    "models = {\n",
    "    'SVM': SVC(),\n",
    "    'Random Forest': RandomForestClassifier(),\n",
    "    'Gradient Boosting': GradientBoostingClassifier(),\n",
    "    'KNN': KNeighborsClassifier()\n",
    "}"
   ]
  },
  {
   "cell_type": "code",
   "execution_count": 20,
   "id": "82b4e894",
   "metadata": {
    "execution": {
     "iopub.execute_input": "2024-03-25T05:17:10.455213Z",
     "iopub.status.busy": "2024-03-25T05:17:10.454755Z",
     "iopub.status.idle": "2024-03-25T05:17:10.461085Z",
     "shell.execute_reply": "2024-03-25T05:17:10.459972Z"
    },
    "papermill": {
     "duration": 0.017946,
     "end_time": "2024-03-25T05:17:10.463226",
     "exception": false,
     "start_time": "2024-03-25T05:17:10.445280",
     "status": "completed"
    },
    "tags": []
   },
   "outputs": [],
   "source": [
    "# define params\n",
    "params = {\n",
    "    'SVM': {'C': [0.1, 1, 10], 'gamma': [0.1, 0.01, 0.001], 'kernel': ['linear', 'rbf', 'poly']},\n",
    "    'Random Forest': {'n_estimators': [100, 200, 300], 'max_depth': [None, 10, 20]},\n",
    "    'Gradient Boosting': {'n_estimators': [50, 100], 'learning_rate': [0.1, 0.01, 0.001]},\n",
    "    'KNN': {'n_neighbors': [3, 5, 7]}\n",
    "}"
   ]
  },
  {
   "cell_type": "code",
   "execution_count": 21,
   "id": "fd54d501",
   "metadata": {
    "execution": {
     "iopub.execute_input": "2024-03-25T05:17:10.481285Z",
     "iopub.status.busy": "2024-03-25T05:17:10.480125Z",
     "iopub.status.idle": "2024-03-25T05:22:34.219399Z",
     "shell.execute_reply": "2024-03-25T05:22:34.217478Z"
    },
    "papermill": {
     "duration": 323.752312,
     "end_time": "2024-03-25T05:22:34.223200",
     "exception": false,
     "start_time": "2024-03-25T05:17:10.470888",
     "status": "completed"
    },
    "tags": []
   },
   "outputs": [
    {
     "name": "stdout",
     "output_type": "stream",
     "text": [
      "Training SVM...\n",
      "Best parameters found for SVM:\n",
      "{'C': 10, 'gamma': 0.1, 'kernel': 'rbf'}\n",
      "Classification report for SVM:\n",
      "              precision    recall  f1-score   support\n",
      "\n",
      "           0       0.93      0.97      0.95       120\n",
      "           1       0.72      0.86      0.79       100\n",
      "           2       0.80      0.80      0.80        50\n",
      "           3       0.80      0.74      0.77        80\n",
      "           4       1.00      0.05      0.10        20\n",
      "\n",
      "    accuracy                           0.82       370\n",
      "   macro avg       0.85      0.68      0.68       370\n",
      "weighted avg       0.83      0.82      0.80       370\n",
      "\n",
      "Training Random Forest...\n",
      "Best parameters found for Random Forest:\n",
      "{'max_depth': None, 'n_estimators': 300}\n",
      "Classification report for Random Forest:\n",
      "              precision    recall  f1-score   support\n",
      "\n",
      "           0       0.92      0.95      0.93       120\n",
      "           1       0.59      0.86      0.70       100\n",
      "           2       0.81      0.50      0.62        50\n",
      "           3       0.68      0.59      0.63        80\n",
      "           4       1.00      0.05      0.10        20\n",
      "\n",
      "    accuracy                           0.74       370\n",
      "   macro avg       0.80      0.59      0.60       370\n",
      "weighted avg       0.77      0.74      0.72       370\n",
      "\n",
      "Training Gradient Boosting...\n",
      "Best parameters found for Gradient Boosting:\n",
      "{'learning_rate': 0.1, 'n_estimators': 50}\n",
      "Classification report for Gradient Boosting:\n",
      "              precision    recall  f1-score   support\n",
      "\n",
      "           0       0.88      0.93      0.90       120\n",
      "           1       0.62      0.84      0.71       100\n",
      "           2       0.67      0.62      0.65        50\n",
      "           3       0.76      0.55      0.64        80\n",
      "           4       0.33      0.05      0.09        20\n",
      "\n",
      "    accuracy                           0.74       370\n",
      "   macro avg       0.65      0.60      0.60       370\n",
      "weighted avg       0.73      0.74      0.72       370\n",
      "\n",
      "Training KNN...\n",
      "Best parameters found for KNN:\n",
      "{'n_neighbors': 7}\n",
      "Classification report for KNN:\n",
      "              precision    recall  f1-score   support\n",
      "\n",
      "           0       0.86      0.97      0.91       120\n",
      "           1       0.69      0.87      0.77       100\n",
      "           2       0.77      0.72      0.74        50\n",
      "           3       0.75      0.57      0.65        80\n",
      "           4       0.00      0.00      0.00        20\n",
      "\n",
      "    accuracy                           0.77       370\n",
      "   macro avg       0.61      0.63      0.62       370\n",
      "weighted avg       0.73      0.77      0.75       370\n",
      "\n"
     ]
    },
    {
     "name": "stderr",
     "output_type": "stream",
     "text": [
      "/opt/conda/lib/python3.10/site-packages/sklearn/metrics/_classification.py:1344: UndefinedMetricWarning: Precision and F-score are ill-defined and being set to 0.0 in labels with no predicted samples. Use `zero_division` parameter to control this behavior.\n",
      "  _warn_prf(average, modifier, msg_start, len(result))\n",
      "/opt/conda/lib/python3.10/site-packages/sklearn/metrics/_classification.py:1344: UndefinedMetricWarning: Precision and F-score are ill-defined and being set to 0.0 in labels with no predicted samples. Use `zero_division` parameter to control this behavior.\n",
      "  _warn_prf(average, modifier, msg_start, len(result))\n",
      "/opt/conda/lib/python3.10/site-packages/sklearn/metrics/_classification.py:1344: UndefinedMetricWarning: Precision and F-score are ill-defined and being set to 0.0 in labels with no predicted samples. Use `zero_division` parameter to control this behavior.\n",
      "  _warn_prf(average, modifier, msg_start, len(result))\n"
     ]
    }
   ],
   "source": [
    "# Thực hiện Grid Search cho từng mô hình\n",
    "for model_name, model in models.items():\n",
    "    print(f\"Training {model_name}...\")\n",
    "    grid_search = GridSearchCV(model, params[model_name], cv=5, scoring='accuracy')\n",
    "    grid_search.fit(X_train, y_train)\n",
    "    \n",
    "    print(f\"Best parameters found for {model_name}:\")\n",
    "    print(grid_search.best_params_)\n",
    "    \n",
    "    # Đánh giá trên tập test\n",
    "    y_pred = grid_search.predict(X_test)\n",
    "    print(f\"Classification report for {model_name}:\")\n",
    "    print(classification_report(y_test, y_pred))"
   ]
  },
  {
   "cell_type": "code",
   "execution_count": null,
   "id": "e12c8781",
   "metadata": {
    "papermill": {
     "duration": 0.008261,
     "end_time": "2024-03-25T05:22:34.240064",
     "exception": false,
     "start_time": "2024-03-25T05:22:34.231803",
     "status": "completed"
    },
    "tags": []
   },
   "outputs": [],
   "source": []
  },
  {
   "cell_type": "code",
   "execution_count": null,
   "id": "e885d745",
   "metadata": {
    "papermill": {
     "duration": 0.008048,
     "end_time": "2024-03-25T05:22:34.256584",
     "exception": false,
     "start_time": "2024-03-25T05:22:34.248536",
     "status": "completed"
    },
    "tags": []
   },
   "outputs": [],
   "source": []
  }
 ],
 "metadata": {
  "kaggle": {
   "accelerator": "none",
   "dataSources": [
    {
     "datasetId": 4631246,
     "sourceId": 7924226,
     "sourceType": "datasetVersion"
    }
   ],
   "dockerImageVersionId": 30673,
   "isGpuEnabled": false,
   "isInternetEnabled": true,
   "language": "python",
   "sourceType": "notebook"
  },
  "kernelspec": {
   "display_name": "Python 3",
   "language": "python",
   "name": "python3"
  },
  "language_info": {
   "codemirror_mode": {
    "name": "ipython",
    "version": 3
   },
   "file_extension": ".py",
   "mimetype": "text/x-python",
   "name": "python",
   "nbconvert_exporter": "python",
   "pygments_lexer": "ipython3",
   "version": "3.10.13"
  },
  "papermill": {
   "default_parameters": {},
   "duration": 351.23002,
   "end_time": "2024-03-25T05:22:35.993993",
   "environment_variables": {},
   "exception": null,
   "input_path": "__notebook__.ipynb",
   "output_path": "__notebook__.ipynb",
   "parameters": {},
   "start_time": "2024-03-25T05:16:44.763973",
   "version": "2.5.0"
  }
 },
 "nbformat": 4,
 "nbformat_minor": 5
}
