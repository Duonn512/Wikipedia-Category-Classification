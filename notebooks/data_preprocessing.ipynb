{
 "cells": [
  {
   "cell_type": "code",
   "execution_count": 22,
   "metadata": {},
   "outputs": [],
   "source": [
    "# import libraries\n",
    "import pandas as pd \n",
    "import numpy as np\n",
    "import re\n",
    "from underthesea import word_tokenize\n",
    "import string\n",
    "from underthesea import word_tokenize"
   ]
  },
  {
   "cell_type": "code",
   "execution_count": 27,
   "metadata": {},
   "outputs": [
    {
     "data": {
      "text/html": [
       "<div>\n",
       "<style scoped>\n",
       "    .dataframe tbody tr th:only-of-type {\n",
       "        vertical-align: middle;\n",
       "    }\n",
       "\n",
       "    .dataframe tbody tr th {\n",
       "        vertical-align: top;\n",
       "    }\n",
       "\n",
       "    .dataframe thead th {\n",
       "        text-align: right;\n",
       "    }\n",
       "</style>\n",
       "<table border=\"1\" class=\"dataframe\">\n",
       "  <thead>\n",
       "    <tr style=\"text-align: right;\">\n",
       "      <th></th>\n",
       "      <th>title</th>\n",
       "      <th>content</th>\n",
       "      <th>label</th>\n",
       "    </tr>\n",
       "  </thead>\n",
       "  <tbody>\n",
       "    <tr>\n",
       "      <th>0</th>\n",
       "      <td>Melocalamus scandens</td>\n",
       "      <td>Melocalamus scandens là một loài thực vật có h...</td>\n",
       "      <td>0</td>\n",
       "    </tr>\n",
       "    <tr>\n",
       "      <th>1</th>\n",
       "      <td>Paleauletobius silenus</td>\n",
       "      <td>Paleauletobius silenus là một loài bọ cánh cứn...</td>\n",
       "      <td>0</td>\n",
       "    </tr>\n",
       "    <tr>\n",
       "      <th>2</th>\n",
       "      <td>Zoodes hirsutus</td>\n",
       "      <td>Zoodes hirsutus là một loài bọ cánh cứng trong...</td>\n",
       "      <td>0</td>\n",
       "    </tr>\n",
       "    <tr>\n",
       "      <th>3</th>\n",
       "      <td>Quốc kỳ Argentina</td>\n",
       "      <td>Quốc kỳ Argentina ( tiếng Tây Ban Nha : Bander...</td>\n",
       "      <td>3</td>\n",
       "    </tr>\n",
       "    <tr>\n",
       "      <th>4</th>\n",
       "      <td>Dundahera</td>\n",
       "      <td>Dundahera là một thị trấn thống kê ( census to...</td>\n",
       "      <td>1</td>\n",
       "    </tr>\n",
       "  </tbody>\n",
       "</table>\n",
       "</div>"
      ],
      "text/plain": [
       "                    title                                            content  \\\n",
       "0    Melocalamus scandens  Melocalamus scandens là một loài thực vật có h...   \n",
       "1  Paleauletobius silenus  Paleauletobius silenus là một loài bọ cánh cứn...   \n",
       "2         Zoodes hirsutus  Zoodes hirsutus là một loài bọ cánh cứng trong...   \n",
       "3       Quốc kỳ Argentina  Quốc kỳ Argentina ( tiếng Tây Ban Nha : Bander...   \n",
       "4               Dundahera  Dundahera là một thị trấn thống kê ( census to...   \n",
       "\n",
       "   label  \n",
       "0      0  \n",
       "1      0  \n",
       "2      0  \n",
       "3      3  \n",
       "4      1  "
      ]
     },
     "execution_count": 27,
     "metadata": {},
     "output_type": "execute_result"
    }
   ],
   "source": [
    "# Load the data\n",
    "df = pd.read_csv('../data/all_wiki_data.csv')\n",
    "df.head(5)"
   ]
  },
  {
   "cell_type": "code",
   "execution_count": 28,
   "metadata": {},
   "outputs": [
    {
     "name": "stdout",
     "output_type": "stream",
     "text": [
      "Melocalamus scandens là một loài thực vật có hoa trong họ Hòa thảo . Loài này được Hsueh & C.M.Hui mô tả khoa học đầu tiên năm 1992. [1]\n"
     ]
    }
   ],
   "source": [
    "print(df.head(5).content[0])"
   ]
  },
  {
   "cell_type": "code",
   "execution_count": 29,
   "metadata": {},
   "outputs": [
    {
     "name": "stdout",
     "output_type": "stream",
     "text": [
      "Melocalamus scandens là một loài thực vật có hoa trong họ Hòa thảo . Loài này được Hsueh & C.M.Hui mô tả khoa học đầu tiên năm 1992. \n"
     ]
    }
   ],
   "source": [
    "def remove_footnotes(text):\n",
    "    \"\"\"\n",
    "    Removes footnotes from the given text.\n",
    "\n",
    "    Parameters:\n",
    "    text (str): The text from which footnotes need to be removed.\n",
    "\n",
    "    Returns:\n",
    "    str: The text with footnotes removed.\n",
    "    \"\"\"\n",
    "    return re.sub(r'\\[\\d+\\]', '', text)\n",
    "\n",
    "df['content'] = df['content'].apply(remove_footnotes)\n",
    "print(df.head(5).content[0])\n",
    "    "
   ]
  },
  {
   "cell_type": "code",
   "execution_count": 30,
   "metadata": {},
   "outputs": [
    {
     "name": "stdout",
     "output_type": "stream",
     "text": [
      "{'bởi sao', 'chưa kể', 'ngõ hầu', 'nhỏ người', 'thực tế', 'đại để', 'đến tuổi', 'phù hợp', 'bao nhiêu', 'khó khăn', 'tắp', 'dùng hết', 'cổ lai', 'hỗ trợ', 'ngoài ra', 'đưa tới', 'cách', 'nên chăng', 'bằng được', 'con con', 'sự việc', 'chị', 'xềnh xệch', 'thẩy', 'bằng ấy', 'những như', 'cũng vậy thôi', 'đã lâu', 'duy có', 'dễ sợ', 'chắc vào', 'gặp', 'giá trị', 'từng cái', 'nước cùng', 'phải cách', 'trước nhất', 'xa gần', 'bỏ mất', 'chính bản', 'ví bằng', 'nghe như', 'xem số', 'đúng ra', 'ngay khi', 'tăng thêm', 'cụ thể', 'cơn', 'tuốt luốt', 'bản ý', 'như trước', 'làm tại', 'quay số', 'nọ', 'tuy thế', 'ừ ừ', 'ít nhất', 'chính điểm', 'có họ', 'hết cả', 'bỗng thấy', 'lớn', 'ra tay', 'chăng nữa', 'nhờ đó', 'thì giờ', 'bất đồ', 'bằng cứ', 'sang sáng', 'trong đó', 'bộ thuộc', 'thế mà', 'tính từ', 'dạ dài', 'úi dào', 'bán dạ', 'nói khó', 'thế', 'thay đổi', 'không điều kiện', 'đâu', 'ngay từ', 'bị vì', 'ráo nước', 'tìm việc', 'ráo trọi', 'tít mù', 'có được', 'phụt', 'về sau', 'lần nào', 'ít nữa', 'tại đây', 'ra ngôi', 'mọi lúc', 'thái quá', 'vâng dạ', 'đang', 'không cần', 'cứ việc', 'nhận thấy', 'phía dưới', 'đang thì', 'khoảng', 'mở nước', 'bấy chầy', 'cho về', 'cao', 'cũng nên', 'trước đó', 'nơi nơi', 'cả nghe', 'rồi', 'toẹt', 'lần sang', 'toà', 'à', 'giống như', 'cóc khô', 'quá tuổi', 'vung tán tàn', 'trước hết', 'khỏi', 'chùn chũn', 'hơn trước', 'nói', 'từ điều', 'cơ hội', 'từng thời gian', 'nhất tâm', 'xăm xăm', 'nấy', 'nói trước', 'cật sức', 'tha hồ', 'tăng', 'phải lại', 'thật thà', 'lên mạnh', 'cực lực', 'hay làm', 'ngay tức thì', 'cao thấp', 'làm bằng', 'tất thảy', 'nhất loạt', 'nhất mực', 'nghe ra', 'chính giữa', 'lại đây', 'phần lớn', 'ăn quá', 'mọi người', 'ông ổng', 'thanh điểm', 'nhà', 'trước sau', 'dưới nước', 'vâng vâng', 'cùng', 'thanh không', 'thật tốt', 'trời đất ơi', 'ba ngày', 'gần xa', 'hết chuyện', 'hay hay', 'chăn chắn', 'anh', 'có chứ', 'phải chi', 'bán cấp', 'cho chắc', 'ăn chắc', 'ô kê', 'giá trị thực tế', 'qua tay', 'dù sao', 'lượng', 'ào vào', 'ví dù', 'mà lại', 'thảo hèn', 'bằng nấy', 'riêng từng', 'ba cùng', 'của ngọt', 'thoắt', 'sau hết', 'biết mình', 'theo như', 'gần', 'thích', 'từng', 'đã không', 'ngoài này', 'hơn cả', 'tốt ngày', 'được tin', 'thà', 'mở', 'tới thì', 'chuyển', 'nhận được', 'mọi', 'giảm thấp', 'dễ thấy', 'có đáng', 'cái', 'vừa mới', 'tháng năm', 'mới đây', 'ơ hay', 'cấp', 'lấy lại', 'từng giờ', 'nếu', 'ngọn nguồn', 'quá lời', 'của', 'biết thế', 'phải giờ', 'ngoải', 'tấn tới', 'tới gần', 'ngộ nhỡ', 'người hỏi', 'ơ kìa', 'chia sẻ', 'biết được', 'nhung nhăng', 'đáng lẽ', 'thế à', 'cây nước', 'thực hiện', 'phỏng', 'từng nhà', 'đây này', 'khoảng không', 'ngay bây giờ', 'khi', 'trước tuổi', 'hết nói', 'bấy giờ', 'để mà', 'tránh xa', 'tất tần tật', 'đến nay', 'rút cục', 'qua lại', 'âu là', 'đến thế', 'bất nhược', 'vừa rồi', 'nhờ nhờ', 'cu cậu', 'cấp trực tiếp', 'hiện tại', 'cho tới', 'phần sau', 'tối ư', 'dài lời', 'quay đi', 'đưa xuống', 'bỏ bà', 'chứ ai', 'có', 'vô vàn', 'nền', 'phải khi', 'thật lực', 'thêm chuyện', 'ở nhờ', 'hoặc', 'ngay khi đến', 'vấn đề quan trọng', 'hay nói', 'có cơ', 'cái đã', 'giữ', 'mang mang', 'con', 'ơ', 'tuy có', 'bất giác', 'ngày càng', 'lấy giống', 'lấy làm', 'chưa từng', 'tránh', 'sáng ngày', 'bằng nhau', 'vào lúc', 'điều gì', 'nhờ chuyển', 'như trên', 'còn có', 'chẳng lẽ', 'dạ bán', 'dùng đến', 'chỉ', 'như thường', 'đây rồi', 'đến khi', 'năm', 'thoạt nhiên', 'tính căn', 'ra vào', 'tại tôi', 'chợt', 'lâu nay', 'chúng', 'ngày cấp', 'ở như', 'trên', 'nghe thấy', 'ừ nhé', 'bước tới', 'nhất nhất', 'ơi là', 'tuy đã', 'chao ôi', 'vì sao', 'làm lòng', 'với', 'xa xa', 'ngày', 'ở trên', 'lấy số', 'rích', 'dù', 'từ ấy', 'rày', 'số cụ thể', 'đồng thời', 'sau đó', 'từ từ', 'buổi ngày', 'thuộc cách', 'ngồi', 'chậc', 'mất', 'là phải', 'nếu không', 'ngày ấy', 'cụ thể là', 'cả thảy', 'ờ ờ', 'tốc tả', 'ạ', 'chưa có', 'tại lòng', 'vài nhà', 'tin thêm', 'bỏ quá', 'người nhận', 'thêm', 'lần này', 'song le', 'lớn nhỏ', 'đến xem', 'sất', 'thỏm', 'thực ra', 'bài bỏ', 'nghĩ', 'chung chung', 'thửa', 'trước đây', 'trong ngoài', 'quá trình', 'điểm đầu tiên', 'phải tay', 'lấy có', 'bán', 'tăng chúng', 'đủ điểm', 'chứ gì', 'chết nỗi', 'ngoài xa', 'chí chết', 'lần lần', 'lời', 'ào ào', 'bông', 'chắc dạ', 'số cho biết', 'tránh khỏi', 'bỗng không', 'mình', 'sì sì', 'quả vậy', 'không tính', 'mọi khi', 'như nhau', 'xem lại', 'nếu thế', 'thường thường', 'trả của', 'bỏ mình', 'bắt đầu', 'than ôi', 'ớ', 'lâu', 'cái gì', 'chung ái', 'sao đang', 'xăm xúi', 'nhân dịp', 'bác', 'nước xuống', 'quá tay', 'tìm', 'cấp số', 'bên', 'cho đến nỗi', 'căn cắt', 'nhằm để', 'nào đâu', 'phía trong', 'ái chà', 'có ngày', 'như là', 'bỗng dưng', 'ấy', 'lời nói', 'tăng thế', 'phăn phắt', 'giữ ý', 'cách không', 'cơ chừng', 'ử', 'sau cuối', 'ủa', 'ba', 'là', 'vì', 'chưa dễ', 'con tính', 'cùng tột', 'mợ', 'ví thử', 'nhất thì', 'bỗng nhưng', 'bên bị', 'đến gần', 'đâu có', 'bởi ai', 'chăng chắc', 'chơi họ', 'theo bước', 'tiện thể', 'nào hay', 'đủ dùng', 'hiện nay', 'khác khác', 'có khi', 'từ tại', 'giống', 'đủ số', 'ối giời', 'không chỉ', 'ý da', 'luôn cả', 'người khác', 'dưới', 'đến đâu', 'so', 'nó', 'họ xa', 'lấy vào', 'bỏ', 'vô luận', 'làm tôi', 'không bao giờ', 'dữ', 'xoét', 'đặt ra', 'dù rằng', 'xệp', 'thường khi', 'có ai', 'chắc chắn', 'cả người', 'phè', 'lượng cả', 'chịu ăn', 'xa', 'trước khi', 'vào', 'bằng vào', 'có nhiều', 'lên cơn', 'đây đó', 'quá tin', 'a ha', 'kể từ', 'vị trí', 'từ', 'đến cùng', 'thốc', 'trong ấy', 'ngay lúc', 'thế nào', 'không kể', 'nghe không', 'nhất', 'quả thế', 'nữa rồi', 'thì là', 'ra lại', 'nhằm khi', 'làm dần dần', 'đến hay', 'nghe tin', 'chung qui', 'còn', 'do đó', 'vừa qua', 'ăn chịu', 'tốt mối', 'tự ý', 'tông tốc', 'ắt phải', 'vậy là', 'vung tàn tán', 'gì gì', 'thay đổi tình trạng', 'đầu tiên', 'cậu', 'biết mấy', 'đều bước', 'thậm cấp', 'tiếp đó', 'tìm ra', 'ạ ơi', 'bởi vậy', 'bức', 'có thể', 'mà không', 'chỉ tên', 'chu cha', 'lúc trước', 'này', 'tại đâu', 'nhược bằng', 'tù tì', 'thấp cơ', 'trệt', 'cần gì', 'giờ', 'trước kia', 'tin vào', 'bên có', 'được nước', 'bộ', 'làm nên', 'phỉ phui', 'vượt khỏi', 'cha', 'từ tính', 'trên dưới', 'bỏ việc', 'quan tâm', 'bất quá chỉ', 'là nhiều', 'một', 'đủ nơi', 'rón rén', 'biết đâu đấy', 'chớ', 'cảm ơn', 'thường tại', 'đã vậy', 'cứ như', 'sang tay', 'mang lại', 'trả lại', 'còn thời gian', 'không dùng', 'bập bà bập bõm', 'đại loại', 'phía', 'thực hiện đúng', 'phỏng tính', 'con dạ', 'khó biết', 'nức nở', 'thì thôi', 'cơ chỉ', 'suýt nữa', 'nghiễm nhiên', 'tà tà', 'cuốn', 'thế thì', 'chung cho', 'thích ý', 'cái đó', 'khó làm', 'sau đây', 'cùng chung', 'bất kể', 'cơ dẫn', 'ăn', 'ô hô', 'đáng kể', 'làm thế nào', 'theo', 'cứ điểm', 'giờ lâu', 'xuất kỳ bất ý', 'liên quan', 'biết đâu chừng', 'xuống', 'bước đi', 'bất quá', 'ắt thật', 'dễ như chơi', 'ý chừng', 'đáng lí', 'bấy lâu nay', 'phải biết', 'quả là', 'trước nay', 'tại sao', 'lấy lý do', 'qua đi', 'lên xuống', 'đâu đó', 'một vài', 'nói thêm', 'tên họ', 'tránh ra', 'khách', 'sẽ biết', 'thật là', 'thấy tháng', 'gần đây', 'tính', 'sa sả', 'so với', 'ồ', 'trả', 'ngay lập tức', 'nào cũng', 'bớ', 'thế thôi', 'là cùng', 'mất còn', 'họ gần', 'phải không', 'cả đến', 'sở dĩ', 'cơ hồ', 'bị chú', 'sau cùng', 'nguồn', 'chuyển tự', 'bằng như', 'tức tốc', 'ông từ', 'vậy', 'ờ', 'nên', 'bỗng đâu', 'hơn', 'mới', 'tìm bạn', 'chui cha', 'chắc hẳn', 'cô ấy', 'bài', 'ngoài', 'quá', 'đại nhân', 'ngồi sau', 'ra sao', 'buổi làm', 'ăn chung', 'làm tin', 'tắp tắp', 'mà vẫn', 'ở đây', 'xem', 'thường tính', 'có chuyện', 'đặt để', 'ra ý', 'chợt nghe', 'lại thôi', 'biết', 'bộ điều', 'nặng về', 'như thế', 'cao lâu', 'biết chắc', 'cho thấy', 'thời gian sử dụng', 'cụ thể như', 'không có gì', 'phứt', 'ngồi không', 'xăm xắm', 'có nhà', 'đặt mức', 'lại giống', 'sắp', 'kể tới', 'tăng cấp', 'tạo điều kiện', 'bập bõm', 'dễ ăn', 'lúc', 'vài tên', 'cả thể', 'dù gì', 'phía trên', 'tính người', 'những muốn', 'vô kể', 'như vậy', 'thêm vào', 'ông tạo', 'chú', 'lần sau', 'tấn', 'chốc chốc', 'tấm các', 'cho tin', 'một khi', 'mới rồi', 'gặp phải', 'tốt', 'nhận họ', 'trực tiếp', 'tại đó', 'thêm giờ', 'bây bẩy', 'rất', 'quả', 'gần hết', 'chị ấy', 'cần số', 'nên người', 'mỗi', 'cá nhân', 'nhà làm', 'phỏng theo', 'tên chính', 'thế đó', 'cách đều', 'xoẳn', 'chỉ có', 'từ căn', 'vào đến', 'căn cái', 'nhận việc', 'nhất luật', 'anh ấy', 'đặt mình', 'tạo', 'nặng căn', 'nhà khó', 'vượt quá', 'tắp lự', 'khỏi nói', 'phía trước', 'dùng', 'xa cách', 'trước', 'qua ngày', 'quá ư', 'đến cùng cực', 'ngày này', 'đầy phè', 'do vậy', 'rõ là', 'tốt bộ', 'đều đều', 'thà là', 'biết bao nhiêu', 'nhớ ra', 'vâng chịu', 'răng', 'tênh', 'chưa cần', 'ra điều', 'nhìn theo', 'nghĩ ra', 'mà cả', 'các cậu', 'lời chú', 'nhất định', 'ráo', 'thật', 'trước tiên', 'thỉnh thoảng', 'úi', 'cây', 'tiếp tục', 'bất luận', 'đến lời', 'thường', 'không được', 'nhận', 'nếu có', 'mang', 'cũng thế', 'trên bộ', 'dần dần', 'từ thế', 'bởi vì', 'đưa về', 'đến giờ', 'ba ngôi', 'tuyệt nhiên', 'chủn', 'quá bán', 'nhân tiện', 'vốn dĩ', 'thật quả', 'vài điều', 'ra bài', 'xảy ra', 'trong số', 'chọn ra', 'phải lời', 'nữa khi', 'vả lại', 'về phần', 'nghe trực tiếp', 'dành', 'quay', 'nữa là', 'nhớ lấy', 'khác nhau', 'bởi thế cho nên', 'thế thường', 'ừ ào', 'mức', 'trực tiếp làm', 'xử lý', 'thứ đến', 'ít hơn', 'nhà ngoài', 'bây nhiêu', 'bây giờ', 'nên chi', 'tới', 'đưa tin', 'ngày đến', 'biết việc', 'để cho', 'amen', 'nhiệt liệt', 'muốn', 'vì chưng', 'không ngoài', 'chung', 'tuổi tôi', 'thanh tính', 'vùng nước', 'như ai', 'phỏng nước', 'cô tăng', 'cần cấp', 'nói riêng', 'để lòng', 'ngôi thứ', 'nghe đâu', 'sự thế', 'như', 'mạnh', 'rõ', 'không gì', 'trong vùng', 'nhất quyết', 'hỏi lại', 'rất lâu', 'bao nả', 'nghĩ đến', 'thời gian tính', 'nhà tôi', 'hơn là', 'khó mở', 'biết trước', 'thực sự', 'hơn nữa', 'không cứ', 'thốt nói', 'sẽ', 'hỏi', 'gần như', 'đưa em', 'chị bộ', 'lấy xuống', 'hay biết', 'cùng cực', 'bội phần', 'ắt', 'cao thế', 'để', 'thích tự', 'càng hay', 'điểm chính', 'chứ không', 'ít ra', 'cả', 'lấy', 'cao răng', 'lúc đến', 'thình lình', 'tớ', 'bỗng chốc', 'lên cao', 'tránh tình trạng', 'chùn chùn', 'vấn đề', 'ngươi', 'nhóm', 'phía bên', 'đánh giá', 'lên số', 'tột', 'đâu như', 'nhỉ', 'đâu cũng', 'đành đạch', 'lại làm', 'bản bộ', 'dẫu rằng', 'nói thật', 'điểm', 'bấy', 'tự tạo', 'nếu cần', 'nếu vậy', 'chỉn', 'người', 'giống nhau', 'mà', 'úi chà', 'chúng ta', 'cuối điểm', 'rồi đây', 'còn về', 'yêu cầu', 'ở năm', 'tỏ ra', 'nhớ bập bõm', 'ăn hết', 'thường hay', 'bất tử', 'những khi', 'làm gì', 'nói nhỏ', 'tự vì', 'thuộc bài', 'số thiếu', 'thốt thôi', 'đạt', 'bỗng', 'đại phàm', 'tấm bản', 'em em', 'chú dẫn', 'lấy ráo', 'bất cứ', 'người nghe', 'nói với', 'mỗi ngày', 'đến nỗi', 'làm ngay', 'khó tránh', 'như chơi', 'nhé', 'nói ý', 'phần', 'ngày qua', 'toé khói', 'nhìn chung', 'chẳng những', 'không bán', 'giữa lúc', 'ngày ngày', 'thím', 'nào', 'hãy còn', 'nói ra', 'chịu tốt', 'ngồi trệt', 'nhà việc', 'nào là', 'thường xuất hiện', 'hết', 'tức thì', 'sau sau', 'hết của', 'chuẩn bị', 'không nhận', 'oai oái', 'vượt', 'biết đâu', 'nhưng mà', 'như thể', 'ăn làm', 'nếu được', 'gây', 'rứa', 'dù dì', 'chứ lị', 'ăn riêng', 'thế sự', 'vậy mà', 'khoảng cách', 'sang', 'ráo cả', 'xa tắp', 'ừ thì', 'gây giống', 'nước lên', 'tăm tắp', 'dễ khiến', 'có đâu', 'chọn bên', 'qua thì', 'thế thế', 'lượng số', 'cho ăn', 'nghỉm', 'ra lời', 'sau chót', 'ra chơi', 'hay đâu', 'hết rồi', 'cả nhà', 'khi khác', 'bỗng nhiên', 'sốt sột', 'bước', 'nhất sinh', 'rồi nữa', 'qua chuyện', 'những là', 'nhận làm', 'nào phải', 'ra đây', 'thuộc lại', 'hỏi xin', 'thấp thỏm', 'xa xả', 'của tin', 'mở ra', 'lý do', 'nghe đâu như', 'bay biến', 'vẫn', 'ồ ồ', 'chú mày', 'làm riêng', 'lúc nào', 'xem ra', 'chành chạnh', 'ái dà', 'thục mạng', 'lâu các', 'nước đến', 'vả chăng', 'quay bước', 'thứ', 'để được', 'chắc người', 'á à', 'lại cái', 'tên tự', 'là thế nào', 'cảm thấy', 'từ đó', 'đủ', 'nước bài', 'luôn', 'thực vậy', 'ôi thôi', 'việc', 'họ', 'đáng số', 'vài ba', 'cho đến', 'thật chắc', 'chắc ăn', 'tôi con', 'ngọn', 'lại bộ', 'chớ gì', 'phía bạn', 'tuy', 'thời gian', 'chưa', 'thường số', 'chắc', 'thì phải', 'lúc đó', 'cho hay', 'phần nào', 'gây ra', 'đến cả', 'lần', 'về không', 'nghe nhìn', 'hầu hết', 'nhất tề', 'với lại', 'do', 'đặt làm', 'à ơi', 'sao bằng', 'lại nói', 'thành ra', 'xuất hiện', 'sao bản', 'gây cho', 'cho biết', 'chăng', 'điểm gặp', 'nhanh lên', 'tạo ra', 'bởi', 'ăn tay', 'vùng lên', 'tăng giảm', 'coi mòi', 'lần trước', 'làm mất', 'chưa dùng', 'xa tanh', 'nói phải', 'dạ', 'nói đủ', 'lại người', 'thiếu', 'loại từ', 'cùng với', 'bằng không', 'bèn', 'những ai', 'dẫu mà', 'vẫn thế', 'chỉ chính', 'nói toẹt', 'xin gặp', 'áng', 'nhìn thấy', 'đúng ngày', 'thật vậy', 'vâng', 'đặc biệt', 'bỏ xa', 'ắt là', 'giữa', 'dẫu sao', 'bỏ nhỏ', 'hay tin', 'từ nay', 'thi thoảng', 'vèo vèo', 'ra bộ', 'dễ dùng', 'cật lực', 'cho', 'chẳng nữa', 'thiếu điểm', 'lấy thêm', 'có chăng là', 'thấp', 'cuối', 'sớm ngày', 'như tuồng', 'tuốt tuột', 'tên cái', 'bản riêng', 'tuy rằng', 'ơi', 'vở', 'bởi đâu', 'như thế nào', 'các', 'hay nhỉ', 'bất kì', 'lấy ra', 'hết ráo', 'bắt đầu từ', 'tập trung', 'tạo ý', 'mọi thứ', 'phắt', 'đưa đến', 'đúng với', 'sự', 'tới mức', 'hay sao', 'pho', 'chúng ông', 'không', 'vậy thì', 'gần ngày', 'chẳng phải', 'xin vâng', 'rén', 'quan trọng', 'lâu lâu', 'không cùng', 'do vì', 'ngay tức khắc', 'khi không', 'xoành xoạch', 'thà rằng', 'tại vì', 'sử dụng', 'có dễ', 'thiếu gì', 'khó', 'sao', 'nóc', 'tay', 'tha hồ chơi', 'nhìn', 'cứ', 'thuần ái', 'người người', 'dì', 'sẽ hay', 'nói đến', 'quá giờ', 'ngay lúc này', 'đều', 'nhưng', 'cho được', 'chớ như', 'riu ríu', 'đến thì', 'vài nơi', 'nói xa', 'lúc ấy', 'nếu như', 'mang về', 'vào gặp', 'gì đó', 'vừa vừa', 'dùng cho', 'vèo', 'xoẹt', 'ít lâu', 'ầu ơ', 'ông nhỏ', 'khác', 'nghe được', 'sì', 'với nhau', 'thế nên', 'rồi thì', 'tột cùng', 'chúng tôi', 'tất cả', 'ba họ', 'ngày nào', 'chú mình', 'cô', 'ba bản', 'chớ chi', 'từ khi', 'hãy', 'không đầy', 'ăn về', 'ổng', 'qua lần', 'hơn hết', 'thanh thanh', 'vâng ý', 'tuần tự', 'phỏng như', 'đầy năm', 'nhận ra', 'đã hay', 'nào đó', 'chịu lời', 'chớ kể', 'quá nhiều', 'nói rõ', 'ít có', 'riêng', 'đưa tay', 'cao sang', 'rén bước', 'đến bao giờ', 'trệu trạo', 'xa nhà', 'khẳng định', 'loại', 'hoàn toàn', 'ở được', 'quan trọng vấn đề', 'giữ lấy', 'không những', 'lâu ngày', 'ai nấy', 'giảm', 'ngày xưa', 'phót', 'câu hỏi', 'trong này', 'nơi', 'dào', 'gần đến', 'xuể', 'ối dào', 'như ý', 'chưa bao giờ', 'thậm chí', 'phương chi', 'nước nặng', 'gồm', 'sáng', 'ít quá', 'đưa ra', 'bấy chừ', 'ba tăng', 'bất chợt', 'chú khách', 'tỏ vẻ', 'đâu nào', 'đã', 'đến nơi', 'làm tắp lự', 'ít thấy', 'á', 'giờ đi', 'trển', 'đã thế', 'tính cách', 'trừ phi', 'chầm chập', 'lúc khác', 'này nọ', 'làm lấy', 'một cách', 'thấy', 'để lại', 'có thế', 'lấy được', 'mọi giờ', 'nhờ có', 'dễ', 'khác thường', 'nói chung', 'ôi chao', 'vung thiên địa', 'chiếc', 'cả tin', 'chớ không', 'chứ còn', 'nhất đán', 'điều', 'đưa vào', 'bao giờ', 'biết bao', 'lại ăn', 'không ai', 'tất cả bao nhiêu', 'văng tê', 'ấy là', 'thốt nhiên', 'gần bên', 'tìm cách', 'quá thì', 'ngày tháng', 'sau này', 'tay quay', 'nhằm vào', 'thuộc từ', 'lại', 'vì vậy', 'bỏ lại', 'tình trạng', 'lúc đi', 'ăn ngồi', 'căn', 'nhón nhén', 'alô', 'không có', 'thuộc', 'tự lượng', 'kể cả', 'nói qua', 'đúng', 'nhìn lại', 'ngăn ngắt', 'thôi việc', 'dạ con', 'đơn vị', 'lấy thế', 'dần dà', 'bằng người', 'qua', 'chứ lại', 'nước ăn', 'chung cuộc', 'cả năm', 'làm', 'tin', 'gì', 'cũng như', 'khá', 'lớn lên', 'khó nghĩ', 'việc gì', 'có ăn', 'quận', 'cho rằng', 'không còn', 'thế ra', 'tiếp theo', 'cơ cùng', 'sang năm', 'lòng', 'nặng mình', 'veo', 'luôn tay', 'không để', 'suýt', 'không khỏi', 'ngay cả', 'ren rén', 'làm đúng', 'thôi', 'nhanh', 'về nước', 'bệt', 'mối', 'mang nặng', 'thậm', 'đã là', 'xiết bao', 'nhiên hậu', 'phóc', 'choa', 'dài', 'số phần', 'thanh ba', 'cao ráo', 'có ý', 'mỗi lúc', 'về', 'ở đó', 'khi trước', 'rồi ra', 'ngọt', 'bước khỏi', 'tạo cơ hội', 'phía sau', 'con nhà', 'thuần', 'tuốt tuồn tuột', 'cả nghĩ', 'ừ', 'vài', 'đó', 'đánh đùng', 'từng ấy', 'vì thế', 'đầy tuổi', 'bên cạnh', 'cả ngày', 'thế chuẩn bị', 'lần tìm', 'ý', 'ba ba', 'khác gì', 'vậy nên', 'chứ không phải', 'chính là', 'được cái', 'chết tiệt', 'năm tháng', 'đáng lý', 'hoặc là', 'gây thêm', 'tìm hiểu', 'ớ này', 'ở vào', 'như quả', 'cuộc', 'từ giờ', 'những', 'nên tránh', 'ăn trên', 'nên làm', 'nếu mà', 'bất thình lình', 'buổi mới', 'cùng nhau', 'riệt', 'đâu đây', 'thấp xuống', 'trỏng', 'thích cứ', 'vô hình trung', 'lấy cả', 'một số', 'bản thân', 'ngôi', 'phải cái', 'lên đến', 'làm vì', 'khá tốt', 'nhớ', 'rồi tay', 'và', 'dài ra', 'rằng là', 'bằng', 'buổi', 'thế là', 'ít biết', 'thì ra', 'lại nữa', 'ngày rày', 'bấy nhiêu', 'lượng từ', 'tuổi', 'lòng không', 'nghĩ xa', 'còn như', 'thoạt nghe', 'ắt hẳn', 'thanh', 'nói lên', 'xon xón', 'thanh chuyển', 'có phải', 'khó nghe', 'béng', 'tanh', 'đây', 'cùng ăn', 'đầy', 'đưa chuyện', 'ào', 'ăn sáng', 'cho nên', 'luôn luôn', 'mỗi lần', 'bao lâu', 'vì rằng', 'giảm chính', 'vào khoảng', 'nhằm lúc', 'thường thôi', 'bài bác', 'chơi', 'xin', 'khiến', 'rồi sao', 'hỏi xem', 'lúc sáng', 'ối giời ơi', 'bỏ cuộc', 'chuyển đạt', 'giờ đây', 'rõ thật', 'càng càng', 'tựu trung', 'tháng tháng', 'chưa chắc', 'phốc', 'nghen', 'nói bông', 'nhất là', 'cái ấy', 'vừa lúc', 'dùng làm', 'một lúc', 'ngày nọ', 'phải người', 'không bao lâu', 'chịu chưa', 'từ loại', 'thậm từ', 'mà thôi', 'lại còn', 'oái', 'dở chừng', 'đâu phải', 'chợt nhìn', 'trong lúc', 'cho tới khi', 'bạn', 'bị', 'nữa', 'cả ăn', 'đến điều', 'phần nhiều', 'vừa khi', 'vừa', 'dành dành', 'tuy nhiên', 'nghĩ lại', 'nói lại', 'ái', 'khác nào', 'quá bộ', 'chuyện', 'rằng', 'nghĩ tới', 'rồi sau', 'một cơn', 'tênh tênh', 'chính thị', 'dễ thường', 'tự ăn', 'kể', 'thật ra', 'là vì', 'vào vùng', 'như sau', 'bển', 'cuối cùng', 'có số', 'không phải', 'bỏ mẹ', 'đủ điều', 'bán thế', 'từng đơn vị', 'phải', 'trở thành', 'ra gì', 'phè phè', 'ứ hự', 'cần', 'bằng nào', 'lên', 'ít khi', 'thật sự', 'làm như', 'có điều kiện', 'làm lại', 'nhỡ ra', 'tọt', 'hay', 'tò te', 'tự khi', 'bà ấy', 'làm ra', 'dễ ngươi', 'tuy vậy', 'mới hay', 'sáng thế', 'trả trước', 'đang tay', 'điều kiện', 'còn nữa', 'ít nhiều', 'quay lại', 'được lời', 'nghe nói', 'tha hồ ăn', 'mỗi một', 'có tháng', 'bấy lâu', 'có người', 'áng như', 'thếch', 'như không', 'số', 'bởi chưng', 'nhớ lại', 'hết ý', 'tính phỏng', 'đúng tuổi', 'ở lại', 'dễ gì', 'cùng tuổi', 'trong khi', 'thoạt', 'sớm', 'thương ôi', 'cho rồi', 'để giống', 'coi bộ', 'ăn người', 'đặt trước', 'thích thuộc', 'đáo để', 'qua khỏi', 'em', 'lúc lâu', 'cũng được', 'tanh tanh', 'có chăng', 'nhận biết', 'nước', 'thốc tháo', 'bởi nhưng', 'gặp khó khăn', 'a lô', 'lấy để', 'làm được', 'buổi sớm', 'không biết', 'để đến nỗi', 'vụt', 'ý hoặc', 'chọn', 'ai ai', 'giống người', 'khi nào', 'đảm bảo', 'chưa tính', 'khi nên', 'ngày giờ', 'ngồi bệt', 'thời điểm', 'đều nhau', 'chứ như', 'bất kỳ', 'à này', 'ngôi nhà', 'nhờ', 'thộc', 'duy chỉ', 'bởi tại', 'trong mình', 'tạo nên', 'là là', 'tự', 'cao số', 'ai đó', 'số là', 'có vẻ', 'rốt cục', 'cho đang', 'về tay', 'dạ khách', 'lấy sau', 'nhiều', 'để phần', 'cái họ', 'làm cho', 'sáng rõ', 'quá mức', 'nghe rõ', 'tự tính', 'cha chả', 'cũng vậy', 'tháng', 'chung cục', 'ô kìa', 'nghe lại', 'ít thôi', 'ư', 'hay là', 'làm theo', 'không phải không', 'để không', 'khó thấy', 'ít', 'đến ngày', 'bởi thế', 'nước quả', 'vùng', 'tại', 'nhận nhau', 'trếu tráo', 'ô hay', 'tại nơi', 'đưa cho', 'căn tính', 'thường sự', 'đến', 'chỉ là', 'dễ sử dụng', 'bỏ ra', 'từ ái', 'cho nhau', 'tuy là', 'trả ngay', 'ứ ừ', 'lại quả', 'cách bức', 'nhà chung', 'vậy ư', 'xuất kì bất ý', 'tốt hơn', 'chắc lòng', 'theo tin', 'dầu sao', 'bỏ cha', 'kể như', 'người mình', 'ra', 'công nhiên', 'có điều', 'sau nữa', 'nớ', 'tuổi cả', 'thế lại', 'càng', 'lên ngôi', 'phần việc', 'lúc này', 'ngay', 'ở', 'chứ', 'nặng', 'cũng', 'vài người', 'chung quy', 'quả thật', 'tự cao', 'giảm thế', 'dù cho', 'cách nhau', 'vậy ra', 'ai', 'rốt cuộc', 'chung quy lại', 'mỗi người', 'bản', 'sau', 'tốt bạn', 'cô mình', 'duy', 'cơ', 'nhỏ', 'tấm', 'chết thật', 'bỏ riêng', 'lần theo', 'quá đáng', 'biết chừng nào', 'nhằm', 'làm tăng', 'đã đủ', 'nghe hiểu', 'thốt', 'tới nơi', 'cô quả', 'ví phỏng', 'chính', 'dễ nghe', 'ông ấy', 'hay không', 'mọi việc', 'giờ này', 'chúng mình', 'chịu', 'khác xa', 'rồi xem', 'trong', 'ngay thật', 'nhau', 'chứ sao', 'nhà ngươi', 'tôi', 'tháng ngày', 'đáng', 'nhiều ít', 'cho đến khi', 'mở mang', 'dữ cách', 'được', 'ăn cuộc', 'hiểu', 'lần khác', 'mọi nơi', 'phải chăng', 'răng răng', 'dẫn', 'sáng ý', 'cơ mà', 'làm sao', 'số loại', 'bà', 'thanh điều kiện', 'ăn hỏi', 'phải như', 'khó chơi', 'nhìn xuống', 'cao xa', 'thành thử', 'nay', 'mọi sự', 'là ít', 'ngày xửa', 'từng phần', 'bất ngờ', 'không thể', 'nói là', 'thảo nào', 'đâu đâu', 'lên nước', 'nhìn nhận', 'ra người', 'số người', 'giờ đến', 'một ít', 'bây chừ', 'sắp đặt', 'nghe chừng', 'trước ngày', 'người khách', 'không hay', 'thì', 'thúng thắng', 'dạ dạ', 'phải rồi', 'đối với', 'sao vậy', 'sao cho', 'vạn nhất', 'nhanh tay', 'thường đến', 'đặt', 'thứ bản', 'tên', 'vị tất', 'đưa', 'nhất thiết', 'khó nói', 'ông', 'những lúc', 'dẫu', 'thường bị', 'bài cái', 'bấy nay', 'chung nhau', 'nói tốt', 'đến lúc', 'nghe', 'tất tật', 'đó đây', 'bỏ không', 'dễ đâu', 'veo veo'}\n"
     ]
    }
   ],
   "source": [
    "# Read the file 'vietnamese_stopwords.txt' and create a set of stopwords\n",
    "with open('../data/vietnamese_stopwords.txt', 'r', encoding='utf-8') as f:\n",
    "    stopwords = set([line.strip() for line in f.readlines()])\n",
    "    \n",
    "print(stopwords)"
   ]
  },
  {
   "cell_type": "code",
   "execution_count": 31,
   "metadata": {},
   "outputs": [
    {
     "name": "stdout",
     "output_type": "stream",
     "text": [
      "Melocalamus scandens loài thực vật hoa Hòa thảo . Loài Hsueh & C.M.Hui mô tả khoa học 1992 .\n"
     ]
    }
   ],
   "source": [
    "def remove_stopwords_vietnamese(text):\n",
    "    \"\"\"\n",
    "    Removes stopwords from the given text.\n",
    "\n",
    "    Parameters:\n",
    "    text (str): The input text to remove stopwords from.\n",
    "\n",
    "    Returns:\n",
    "    str: The filtered text without stopwords.\n",
    "    \"\"\"\n",
    "    tokens = word_tokenize(text)\n",
    "    filtered_tokens = [token for token in tokens if token.lower() not in stopwords]\n",
    "    filtered_text = ' '.join(filtered_tokens)\n",
    "    return filtered_text\n",
    "\n",
    "df['content'] = df['content'].apply(remove_stopwords_vietnamese)\n",
    "print(df.head(5).content[0])"
   ]
  },
  {
   "cell_type": "code",
   "execution_count": 32,
   "metadata": {},
   "outputs": [
    {
     "data": {
      "text/plain": [
       "'Melocalamus scandens loài thực vật hoa Hòa thảo  Loài Hsueh  CMHui mô tả khoa học 1992 '"
      ]
     },
     "execution_count": 32,
     "metadata": {},
     "output_type": "execute_result"
    }
   ],
   "source": [
    "def remove_punctuation(text):\n",
    "    \"\"\"\n",
    "    Removes punctuation characters from the given text.\n",
    "\n",
    "    Args:\n",
    "        text (str): The input text.\n",
    "\n",
    "    Returns:\n",
    "        str: The cleaned text with punctuation characters removed.\n",
    "    \"\"\"\n",
    "    return text.translate(str.maketrans('', '', string.punctuation))\n",
    "\n",
    "df['content'] = df['content'].apply(remove_punctuation)\n",
    "df.content[0]"
   ]
  },
  {
   "cell_type": "code",
   "execution_count": 33,
   "metadata": {},
   "outputs": [
    {
     "name": "stdout",
     "output_type": "stream",
     "text": [
      "melocalamus scandens loài thực vật hoa hòa thảo  loài hsueh  cmhui mô tả khoa học 1992 \n"
     ]
    }
   ],
   "source": [
    "def lowercase_text(text):\n",
    "    \"\"\"\n",
    "    Converts the given text to lowercase.\n",
    "\n",
    "    Args:\n",
    "        text (str): The input text.\n",
    "\n",
    "    Returns:\n",
    "        str: The text converted to lowercase.\n",
    "    \"\"\"\n",
    "    return text.lower()\n",
    "df['content'] = df['content'].apply(lowercase_text)\n",
    "print(df.content[0])"
   ]
  },
  {
   "cell_type": "code",
   "execution_count": 34,
   "metadata": {},
   "outputs": [
    {
     "name": "stdout",
     "output_type": "stream",
     "text": [
      "['melocalamus', 'scandens', 'loài', 'thực vật', 'hoa', 'hòa thảo', 'loài', 'hsueh', 'cmhui', 'mô tả', 'khoa học', '1992']\n"
     ]
    }
   ],
   "source": [
    "def tokenize(text):\n",
    "    \"\"\"\n",
    "    Tokenizes the given text into words.\n",
    "\n",
    "    Args:\n",
    "        text (str): The input text.\n",
    "\n",
    "    Returns:\n",
    "        list: The list of words from the input text.\n",
    "    \"\"\"\n",
    "    return word_tokenize(text)\n",
    "\n",
    "df['content'] = df['content'].apply(tokenize)\n",
    "print(df.head(5).content[0])"
   ]
  }
 ],
 "metadata": {
  "kernelspec": {
   "display_name": "hieuhn09",
   "language": "python",
   "name": "python3"
  },
  "language_info": {
   "codemirror_mode": {
    "name": "ipython",
    "version": 3
   },
   "file_extension": ".py",
   "mimetype": "text/x-python",
   "name": "python",
   "nbconvert_exporter": "python",
   "pygments_lexer": "ipython3",
   "version": "3.10.6"
  }
 },
 "nbformat": 4,
 "nbformat_minor": 2
}
