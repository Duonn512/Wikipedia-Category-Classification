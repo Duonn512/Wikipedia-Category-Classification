{
 "cells": [
  {
   "cell_type": "code",
   "execution_count": 1,
   "metadata": {},
   "outputs": [],
   "source": [
    "# import libraries\n",
    "import pandas as pd \n",
    "import numpy as np\n",
    "import re\n",
    "from underthesea import word_tokenize\n",
    "import string\n",
    "from underthesea import word_tokenize"
   ]
  },
  {
   "cell_type": "code",
   "execution_count": 2,
   "metadata": {},
   "outputs": [
    {
     "data": {
      "text/html": [
       "<div>\n",
       "<style scoped>\n",
       "    .dataframe tbody tr th:only-of-type {\n",
       "        vertical-align: middle;\n",
       "    }\n",
       "\n",
       "    .dataframe tbody tr th {\n",
       "        vertical-align: top;\n",
       "    }\n",
       "\n",
       "    .dataframe thead th {\n",
       "        text-align: right;\n",
       "    }\n",
       "</style>\n",
       "<table border=\"1\" class=\"dataframe\">\n",
       "  <thead>\n",
       "    <tr style=\"text-align: right;\">\n",
       "      <th></th>\n",
       "      <th>title</th>\n",
       "      <th>content</th>\n",
       "      <th>label</th>\n",
       "    </tr>\n",
       "  </thead>\n",
       "  <tbody>\n",
       "    <tr>\n",
       "      <th>0</th>\n",
       "      <td>Melocalamus scandens</td>\n",
       "      <td>Melocalamus scandens là một loài thực vật có h...</td>\n",
       "      <td>0</td>\n",
       "    </tr>\n",
       "    <tr>\n",
       "      <th>1</th>\n",
       "      <td>Paleauletobius silenus</td>\n",
       "      <td>Paleauletobius silenus là một loài bọ cánh cứn...</td>\n",
       "      <td>0</td>\n",
       "    </tr>\n",
       "    <tr>\n",
       "      <th>2</th>\n",
       "      <td>Zoodes hirsutus</td>\n",
       "      <td>Zoodes hirsutus là một loài bọ cánh cứng trong...</td>\n",
       "      <td>0</td>\n",
       "    </tr>\n",
       "    <tr>\n",
       "      <th>3</th>\n",
       "      <td>Quốc kỳ Argentina</td>\n",
       "      <td>Quốc kỳ Argentina ( tiếng Tây Ban Nha : Bander...</td>\n",
       "      <td>3</td>\n",
       "    </tr>\n",
       "    <tr>\n",
       "      <th>4</th>\n",
       "      <td>Dundahera</td>\n",
       "      <td>Dundahera là một thị trấn thống kê ( census to...</td>\n",
       "      <td>1</td>\n",
       "    </tr>\n",
       "  </tbody>\n",
       "</table>\n",
       "</div>"
      ],
      "text/plain": [
       "                    title                                            content  \\\n",
       "0    Melocalamus scandens  Melocalamus scandens là một loài thực vật có h...   \n",
       "1  Paleauletobius silenus  Paleauletobius silenus là một loài bọ cánh cứn...   \n",
       "2         Zoodes hirsutus  Zoodes hirsutus là một loài bọ cánh cứng trong...   \n",
       "3       Quốc kỳ Argentina  Quốc kỳ Argentina ( tiếng Tây Ban Nha : Bander...   \n",
       "4               Dundahera  Dundahera là một thị trấn thống kê ( census to...   \n",
       "\n",
       "   label  \n",
       "0      0  \n",
       "1      0  \n",
       "2      0  \n",
       "3      3  \n",
       "4      1  "
      ]
     },
     "execution_count": 2,
     "metadata": {},
     "output_type": "execute_result"
    }
   ],
   "source": [
    "# Load the data\n",
    "df = pd.read_csv('../data/all_wiki_data.csv')\n",
    "df.head(5)"
   ]
  },
  {
   "cell_type": "code",
   "execution_count": 3,
   "metadata": {},
   "outputs": [
    {
     "name": "stdout",
     "output_type": "stream",
     "text": [
      "Melocalamus scandens là một loài thực vật có hoa trong họ Hòa thảo . Loài này được Hsueh & C.M.Hui mô tả khoa học đầu tiên năm 1992. [1]\n"
     ]
    }
   ],
   "source": [
    "print(df.head(5).content[0])"
   ]
  },
  {
   "cell_type": "code",
   "execution_count": 4,
   "metadata": {},
   "outputs": [
    {
     "name": "stdout",
     "output_type": "stream",
     "text": [
      "Melocalamus scandens là một loài thực vật có hoa trong họ Hòa thảo . Loài này được Hsueh & C.M.Hui mô tả khoa học đầu tiên năm 1992. \n"
     ]
    }
   ],
   "source": [
    "def remove_footnotes(text):\n",
    "    \"\"\"\n",
    "    Removes footnotes from the given text.\n",
    "\n",
    "    Parameters:\n",
    "    text (str): The text from which footnotes need to be removed.\n",
    "\n",
    "    Returns:\n",
    "    str: The text with footnotes removed.\n",
    "    \"\"\"\n",
    "    return re.sub(r'\\[\\d+\\]', '', text)\n",
    "\n",
    "df['content'] = df['content'].apply(remove_footnotes)\n",
    "print(df.head(5).content[0])\n",
    "    "
   ]
  },
  {
   "cell_type": "code",
   "execution_count": 5,
   "metadata": {},
   "outputs": [
    {
     "name": "stdout",
     "output_type": "stream",
     "text": [
      "{'làm tại', 'ra bộ', 'tuy thế', 'vùng', 'dạ bán', 'vô hình trung', 'vài điều', 'tránh xa', 'chung cuộc', 'một ít', 'tại', 'ngồi', 'ai', 'thà rằng', 'đại phàm', 'thì thôi', 'tăng chúng', 'chưa chắc', 'bỏ quá', 'người khách', 'còn thời gian', 'chiếc', 'thi thoảng', 'lúc này', 'hết của', 'duy', 'cả thể', 'đâu cũng', 'nhỏ', 'hết ráo', 'sang năm', 'thương ôi', 'số', 'ắt phải', 'bấy nhiêu', 'quận', 'đã hay', 'cũng vậy', 'tăm tắp', 'nếu mà', 'quá thì', 'chơi', 'cấp', 'sao cho', 'về nước', 'ờ', 'bộ thuộc', 'thích ý', 'sau hết', 'từ tính', 'gần đây', 'thành thử', 'như nhau', 'vèo', 'tránh tình trạng', 'dầu sao', 'bởi chưng', 'cơ chỉ', 'đưa vào', 'nhanh lên', 'ăn hết', 'gặp', 'cấp trực tiếp', 'lại còn', 'đâu như', 'phỏng tính', 'là vì', 'phương chi', 'cho nên', 'gần', 'xuể', 'đang tay', 'còn về', 'nhóm', 'cùng tột', 'cậu', 'ai ai', 'nhìn theo', 'sang sáng', 'lâu nay', 'lại ăn', 'rất lâu', 'đã thế', 'chúng tôi', 'bắt đầu từ', 'ô hô', 'nhanh tay', 'gần như', 'buổi làm', 'ủa', 'tới mức', 'thường thường', 'thế à', 'sất', 'nói phải', 'cùng nhau', 'quá bộ', 'đối với', 'dễ ăn', 'giờ này', 'amen', 'cơ hồ', 'gần xa', 'cật sức', 'tuổi', 'chết nỗi', 'lại thôi', 'chăng nữa', 'phía bên', 'ngày nọ', 'kể tới', 'bất chợt', 'tránh khỏi', 'ôi chao', 'hay là', 'vấn đề', 'rồi sao', 'tuổi cả', 'tìm bạn', 'cả', 'lần nào', 'bệt', 'chớ gì', 'lý do', 'quả thế', 'tính căn', 'lên nước', 'em', 'đúng với', 'làm ra', 'nên chăng', 'nghe hiểu', 'khó làm', 'cả tin', 'điều gì', 'chính là', 'nhung nhăng', 'ví thử', 'trước tiên', 'lên số', 'khác nhau', 'cũng như', 'hãy', 'đưa tin', 'giờ đi', 'đưa tay', 'hỏi xem', 'sáng rõ', 'nhằm vào', 'xin gặp', 'con dạ', 'lại nữa', 'đưa chuyện', 'số người', 'chỉ là', 'phù hợp', 'vâng chịu', 'cái đó', 'đại nhân', 'nước đến', 'trong vùng', 'nơi nơi', 'mọi sự', 'qua', 'ngồi bệt', 'không được', 'thế mà', 'từng ấy', 'đâu nào', 'nhất luật', 'trước đó', 'tìm ra', 'ông ổng', 'có được', 'càng hay', 'cổ lai', 'cho biết', 'lần khác', 'ra lại', 'gây cho', 'cho đến nỗi', 'làm được', 'thế thôi', 'ái chà', 'khó thấy', 'chung', 'ơ', 'đang', 'khá', 'một cơn', 'nền', 'chú khách', 'nấy', 'ông tạo', 'thôi việc', 'xử lý', 'số cụ thể', 'lấy thế', 'buổi ngày', 'nói toẹt', 'quá ư', 'đưa', 'đây này', 'thanh thanh', 'cây', 'cái đã', 'xin', 'phăn phắt', 'ít khi', 'vùng nước', 'làm đúng', 'lớn nhỏ', 'suýt nữa', 'bên', 'thỉnh thoảng', 'có khi', 'để được', 'thích thuộc', 'dùng cho', 'xem', 'bất đồ', 'bằng được', 'nhất là', 'nói riêng', 'quả thật', 'mà lại', 'ba ngôi', 'bởi', 'cũng được', 'thời gian tính', 'tăng thế', 'tự cao', 'đưa em', 'nhiệt liệt', 'tạo ra', 'tuy là', 'nghe', 'chỉ tên', 'có ý', 'ngày', 'bản riêng', 'chuyển tự', 'chăng', 'dần dần', 'đưa về', 'làm nên', 'bởi nhưng', 'nghe đâu', 'thật lực', 'chung cho', 'cô', 'mọi giờ', 'lên xuống', 'mang lại', 'lấy thêm', 'buổi', 'như không', 'ào vào', 'biết trước', 'chính thị', 'nước xuống', 'bây giờ', 'ngày ấy', 'tắp', 'chớ như', 'xoẳn', 'ngay thật', 'vừa rồi', 'nào đó', 'phần nhiều', 'thậm chí', 'từ tại', 'thanh ba', 'chớ kể', 'khó', 'lần', 'vung thiên địa', 'con nhà', 'ăn chắc', 'nhờ đó', 'thế nên', 'ra vào', 'được', 'với lại', 'bước tới', 'trển', 'chỉ có', 'để cho', 'nói nhỏ', 'không biết', 'tin', 'chưa kể', 'sau sau', 'tạo nên', 'làm tôi', 'thấp', 'ử', 'cả người', 'họ xa', 'đến giờ', 'bán dạ', 'đâu phải', 'làm', 'chợt nghe', 'bây nhiêu', 'tuy rằng', 'ngay tức khắc', 'tuy vậy', 'một số', 'người khác', 'bức', 'dài', 'lượng số', 'bất giác', 'còn có', 'chúng ta', 'nghe thấy', 'tất tần tật', 'ấy', 'cô quả', 'nói đủ', 'chị ấy', 'ầu ơ', 'ấy là', 'nhà khó', 'lúc', 'nữa là', 'thường sự', 'vượt quá', 'chắc dạ', 'tự tạo', 'a ha', 'tới thì', 'chung chung', 'thực vậy', 'ít lâu', 'số là', 'nghe ra', 'một', 'trong đó', 'vung tàn tán', 'lâu lâu', 'đúng', 'bập bà bập bõm', 'chọn bên', 'ba', 'ít', 'oai oái', 'ngày càng', 'đây rồi', 'cây nước', 'tha hồ ăn', 'lúc đến', 'hơn nữa', 'một lúc', 'lấy xuống', 'loại từ', 'trước tuổi', 'đầu tiên', 'sao', 'đánh giá', 'nhận biết', 'vả chăng', 'từng đơn vị', 'nghĩ', 'cơ dẫn', 'đặt để', 'đủ số', 'ngay tức thì', 'giờ đây', 'rồi đây', 'phóc', 'lời', 'tiếp theo', 'không còn', 'ngay khi', 'đặt mình', 'được cái', 'bất nhược', 'ít biết', 'bằng vào', 'đến điều', 'nhiều', 'như thường', 'nói trước', 'thiếu', 'cần cấp', 'vâng vâng', 'nhất thì', 'nên chi', 'phải người', 'cả năm', 'lúc lâu', 'vào lúc', 'sau cuối', 'khó khăn', 'đầy phè', 'bển', 'vâng', 'thêm vào', 'nhìn nhận', 'nhà ngươi', 'chung nhau', 'trong khi', 'bấy chừ', 'thậm', 'lấy lý do', 'khó mở', 'là thế nào', 'đã đủ', 'về phần', 'người mình', 'như tuồng', 'trừ phi', 'vậy là', 'thục mạng', 'trên dưới', 'số thiếu', 'xuất hiện', 'chứ không', 'tốt bạn', 'vẫn thế', 'có điều', 'phỏng', 'dạ dài', 'ở vào', 'thế chuẩn bị', 'giờ', 'theo bước', 'tênh tênh', 'quan tâm', 'tạo', 'cách không', 'nhất đán', 'cơ cùng', 'chứ như', 'đầy tuổi', 'đến thế', 'làm lại', 'rứa', 'sa sả', 'đánh đùng', 'nước lên', 'đều', 'phỏng theo', 'thực tế', 'vì sao', 'lên đến', 'vượt khỏi', 'chưa có', 'khó nói', 'gần hết', 'có nhiều', 'tăng cấp', 'bỏ riêng', 'ối giời', 'kể', 'cả ăn', 'lại đây', 'mới hay', 'nhà việc', 'đáo để', 'lòng không', 'số loại', 'chịu', 'trước nhất', 'loại', 'tại đâu', 'trả ngay', 'chú mày', 'bằng', 'thanh điều kiện', 'tháng năm', 'giữa', 'bỏ lại', 'phía', 'tất tật', 'cơ mà', 'lượng', 'cứ như', 'có điều kiện', 'nhà làm', 'cuối', 'vài nơi', 'xem lại', 'phải biết', 'tuyệt nhiên', 'ngộ nhỡ', 'điểm gặp', 'bị chú', 'ví bằng', 'mối', 'ông nhỏ', 'lượng từ', 'chỉ chính', 'quá tuổi', 'bộ điều', 'kể như', 'hay nhỉ', 'lúc sáng', 'kể từ', 'số cho biết', 'tay quay', 'đến thì', 'ngay lập tức', 'ý da', 'song le', 'thuộc', 'đơn vị', 'đến xem', 'có ăn', 'nhớ lại', 'còn như', 'nước bài', 'tạo ý', 'bỏ mẹ', 'hay biết', 'mỗi lần', 'tôi con', 'chớ không', 'có phải', 'nghe như', 'thanh điểm', 'lấy cả', 'đáng', 'lại người', 'trả', 'trực tiếp', 'phỏng như', 'ô hay', 'cả nghe', 'lòng', 'qua thì', 'nhân dịp', 'từ khi', 'nặng căn', 'lên', 'tay', 'thanh chuyển', 'chúng mình', 'dùng làm', 'bất ngờ', 'sớm ngày', 'vậy ư', 'tới gần', 'chưa dễ', 'ô kìa', 'cho rằng', 'có người', 'hỗ trợ', 'cách', 'dạ dạ', 'nhận họ', 'tất cả', 'ra', 'cuộc', 'khó chơi', 'tất cả bao nhiêu', 'tấm bản', 'tới', 'tại tôi', 'tù tì', 'làm tắp lự', 'từ từ', 'bằng nhau', 'nhân tiện', 'chuyển', 'làm dần dần', 'ớ', 'cứ', 'làm theo', 'bấy giờ', 'biết việc', 'lấy', 'vốn dĩ', 'của tin', 'dù', 'chắc người', 'lúc đi', 'đến nay', 'nhìn', 'ăn tay', 'chứ gì', 'là phải', 'có ngày', 'ít quá', 'tạo điều kiện', 'giảm chính', 'tênh', 'hay sao', 'vâng dạ', 'chị', 'hết', 'bỗng thấy', 'đặt trước', 'nghe nói', 'vì', 'bằng nấy', 'bước', 'nước', 'lúc đó', 'tại lòng', 'ăn riêng', 'sự', 'nhận nhau', 'thêm chuyện', 'ít nhất', 'bèn', 'tấn', 'chùn chũn', 'sử dụng', 'béng', 'gì', 'biết bao nhiêu', 'để giống', 'phía trước', 'không khỏi', 'tính phỏng', 'sẽ', 'vụt', 'chắc hẳn', 'chung qui', 'ăn chịu', 'thế sự', 'tanh tanh', 'không những', 'bỗng chốc', 'hay không', 'nhờ', 'cái', 'trước sau', 'tránh', 'ngày này', 'thêm', 'cơn', 'bởi vì', 'bao nhiêu', 'mà vẫn', 'tò te', 'như ý', 'ở', 'rén bước', 'tin thêm', 'xa cách', 'thường thôi', 'trực tiếp làm', 'nguồn', 'bội phần', 'bỗng nhưng', 'nói', 'chung cục', 'ở lại', 'tối ư', 'mà không', 'bài', 'hơn cả', 'là', 'gây ra', 'để lại', 'chứ không phải', 'ngăn ngắt', 'xa xa', 'có dễ', 'mất còn', 'rồi nữa', 'từng phần', 'chính giữa', 'trước hết', 'nghe trực tiếp', 'khỏi nói', 'khác', 'oái', 'vừa', 'ơi là', 'thốt thôi', 'thoạt nhiên', 'tại nơi', 'nói đến', 'làm lòng', 'ăn người', 'nào cũng', 'vài nhà', 'những ai', 'cao ráo', 'vùng lên', 'thật sự', 'nhất quyết', 'phè', 'nhất nhất', 'phải chi', 'có chuyện', 'dạ khách', 'từ ấy', 'giảm thế', 'chúng ông', 'liên quan', 'ăn chung', 'ren rén', 'chị bộ', 'cô ấy', 'thoạt nghe', 'phải cái', 'trong ấy', 'cũng thế', 'tự vì', 'ắt là', 'lời chú', 'không bán', 'chắc ăn', 'ào ào', 'dễ khiến', 'bất tử', 'gồm', 'thay đổi tình trạng', 'rốt cục', 'thích', 'mạnh', 'ngày xưa', 'đạt', 'điều', 'ra lời', 'sau này', 'ngọn nguồn', 'thế thường', 'thấp xuống', 'chính', 'bởi thế cho nên', 'sốt sột', 'trên', 'khi khác', 'nặng', 'á à', 'ngay', 'sáng ý', 'thế ra', 'đưa đến', 'bản', 'bay biến', 'phải khi', 'ngồi trệt', 'nhau', 'nước cùng', 'thế thế', 'cho tới', 'mọi người', 'giống như', 'ra điều', 'mang', 'dễ như chơi', 'phải giờ', 'sau đó', 'chao ôi', 'có', 'ngay cả', 'vở', 'hầu hết', 'đến lời', 'tại đây', 'lấy có', 'thiếu gì', 'không cần', 'lúc khác', 'thậm từ', 'ổng', 'những là', 'chắc chắn', 'sang', 'ắt', 'vào đến', 'trước', 'có nhà', 'lâu', 'dù gì', 'khoảng không', 'đều nhau', 'tự tính', 'nên làm', 'bộ', 'phải lại', 'đầy năm', 'riệt', 'tăng', 'ừ ừ', 'tiện thể', 'tột', 'nhất thiết', 'bỗng dưng', 'chớ chi', 'rón rén', 'lên cơn', 'cô mình', 'gặp khó khăn', 'cho đến', 'nào phải', 'veo', 'dào', 'lần theo', 'mọi', 'thì ra', 'được lời', 'thốt nhiên', 'từng nhà', 'bỏ nhỏ', 'nhằm lúc', 'nói với', 'ai nấy', 'ối giời ơi', 'có họ', 'ngày tháng', 'bập bõm', 'nhờ có', 'chính điểm', 'thanh không', 'bên có', 'như sau', 'chịu tốt', 'nhỉ', 'than ôi', 'chú', 'ngoài xa', 'và', 'nghe chừng', 'là là', 'dẫu rằng', 'tăng thêm', 'ngoải', 'vì thế', 'trước kia', 'như ai', 'cứ điểm', 'cùng với', 'ồ ồ', 'cũng', 'về', 'mà', 'sáng ngày', 'úi', 'cực lực', 'chết tiệt', 'sớm', 'đến cùng', 'những như', 'ai đó', 'tuốt luốt', 'ạ', 'ba họ', 'tức thì', 'bằng ấy', 'khó nghĩ', 'vài ba', 'thuộc từ', 'ở như', 'khoảng', 'thường số', 'dài lời', 'chơi họ', 'ăn về', 'phía dưới', 'nhìn chung', 'lấy lại', 'thuộc cách', 'đến đâu', 'ồ', 'bỏ không', 'những lúc', 'thường khi', 'toé khói', 'tính từ', 'khi nên', 'đủ nơi', 'à ơi', 'đưa cho', 'nhằm để', 'ra đây', 'ra tay', 'tính', 'nhà tôi', 'để phần', 'ngoài ra', 'đã lâu', 'mỗi', 'lúc nào', 'đành đạch', 'bản bộ', 'qua chuyện', 'cho thấy', 'đã vậy', 'thứ bản', 'vừa mới', 'gây giống', 'qua đi', 'thím', 'thẩy', 'vượt', 'ở đó', 'rõ thật', 'thuần ái', 'tên tự', 'nói lên', 'nữa rồi', 'được nước', 'tên họ', 'vào khoảng', 'chẳng lẽ', 'ở đây', 'đang thì', 'ba ba', 'đặc biệt', 'làm như', 'úi dào', 'thốt nói', 'ngươi', 'rằng', 'chứ', 'giờ lâu', 'con', 'dẫn', 'ít ra', 'ráo nước', 'tự khi', 'đặt ra', 'vì vậy', 'vậy nên', 'trong này', 'trả lại', 'tớ', 'ráo trọi', 'một cách', 'chắc vào', 'cuốn', 'tanh', 'là ít', 'thứ', 'cá nhân', 'tránh ra', 'ngõ hầu', 'lấy giống', 'bên bị', 'dần dà', 'nhất mực', 'quan trọng vấn đề', 'nơi', 'từ nay', 'vô luận', 'nước ăn', 'nhớ lấy', 'xảy ra', 'quay đi', 'dữ', 'xuất kỳ bất ý', 'quá mức', 'biết được', 'đưa xuống', 'đủ dùng', 'ăn trên', 'vô kể', 'bây bẩy', 'tọt', 'thực sự', 'không kể', 'vị tất', 'bán thế', 'thật tốt', 'nói khó', 'ăn cuộc', 'càng', 'bấy nay', 'sao vậy', 'hết chuyện', 'lần lần', 'thế đó', 'tựu trung', 'cả đến', 'nhà', 'anh', 'cách bức', 'yêu cầu', 'chậc', 'choa', 'cùng ăn', 'thực ra', 'chịu chưa', 'bấy lâu', 'lấy ra', 'đặt', 'người hỏi', 'lớn lên', 'có cơ', 'khác xa', 'phót', 'vừa khi', 'ăn', 'từ loại', 'đến cả', 'tỏ vẻ', 'làm tin', 'tà tà', 'khó biết', 'cái ấy', 'nay', 'tại đó', 'rày', 'thế', 'nghe được', 'dễ thường', 'gây thêm', 'bán', 'xệp', 'vài người', 'vẫn', 'lâu các', 'cao thấp', 'chứ còn', 'ngày cấp', 'mở nước', 'cho nhau', 'điểm', 'nếu không', 'mọi lúc', 'chứ lị', 'bấy', 'chốc chốc', 'ắt thật', 'đó đây', 'hay đâu', 'phần', 'chăng chắc', 'tốt hơn', 'biết đâu', 'không cùng', 'bắt đầu', 'rồi sau', 'cha chả', 'tít mù', 'có ai', 'chăn chắn', 'quá lời', 'làm cho', 'alô', 'rút cục', 'thì giờ', 'vậy mà', 'đủ', 'lấy vào', 'phỉ phui', 'trong', 'nữa', 'tốt mối', 'qua lần', 'thấp thỏm', 'ối dào', 'thật quả', 'nếu như', 'biết đâu đấy', 'xin vâng', 'bằng người', 'không chỉ', 'nhằm', 'sáng thế', 'sang tay', 'cao xa', 'không thể', 'khi không', 'thứ đến', 'cùng', 'biết mấy', 'không có', 'sao bằng', 'bỏ mất', 'xa nhà', 'quay bước', 'có tháng', 'những khi', 'vạn nhất', 'âu là', 'nào', 'ngày rày', 'thốc', 'chú dẫn', 'xoành xoạch', 'nói là', 'này', 'gặp phải', 'thì', 'bà ấy', 'đâu đó', 'nhìn thấy', 'chung ái', 'chùn chùn', 'tự ăn', 'ý', 'thích cứ', 'chịu lời', 'lại bộ', 'nghĩ xa', 'càng càng', 'với nhau', 'tấm các', 'dữ cách', 'đáng lí', 'căn tính', 'tuy nhiên', 'tính cách', 'tuy đã', 'tìm hiểu', 'mình', 'không dùng', 'ở năm', 'đến tuổi', 'bỏ xa', 'do đó', 'đây', 'thật chắc', 'mỗi một', 'chứ lại', 'đến hay', 'có thể', 'cho rồi', 'em em', 'sẽ hay', 'ơ kìa', 'tập trung', 'cái gì', 'lấy số', 'tôi', 'giá trị', 'như vậy', 'luôn', 'về sau', 'đảm bảo', 'khi nào', 'về tay', 'ắt hẳn', 'mỗi ngày', 'mỗi người', 'nói lại', 'lại nói', 'bấy chầy', 'ngày đến', 'để mà', 'ứ hự', 'như thế nào', 'các cậu', 'đến nơi', 'điểm đầu tiên', 'việc', 'xon xón', 'trả trước', 'anh ấy', 'quá tay', 'ngay lúc', 'họ gần', 'chú mình', 'mà thôi', 'răng', 'ơi', 'vào vùng', 'công nhiên', 'nặng về', 'nặng mình', 'sau', 'quá bán', 'cách nhau', 'ít nữa', 'tông tốc', 'cũng vậy thôi', 'cho về', 'nhận được', 'ừ nhé', 'cả thảy', 'bỏ ra', 'á', 'lâu ngày', 'hết cả', 'không phải', 'rích', 'thêm giờ', 'bằng như', 'bỗng đâu', 'mức', 'khỏi', 'điểm chính', 'nào là', 'bao lâu', 'bài bỏ', 'a lô', 'giống nhau', 'khó nghe', 'luôn luôn', 'ơ hay', 'tuốt tuồn tuột', 'tỏ ra', 'nhờ nhờ', 'răng răng', 'làm bằng', 'thực hiện', 'nước nặng', 'vị trí', 'tự lượng', 'gần bên', 'bỏ mình', 'cho chắc', 'sở dĩ', 'đúng ngày', 'nên tránh', 'cơ', 'chịu ăn', 'số phần', 'tháng tháng', 'rồi thì', 'ba bản', 'nào đâu', 'phải không', 'bài cái', 'hay', 'với', 'họ', 'thuộc bài', 'còn', 'cật lực', 'dùng đến', 'buổi sớm', 'ngôi nhà', 'thái quá', 'vài tên', 'hay tin', 'xoét', 'người nghe', 'đã', 'hay hay', 'lúc trước', 'nhớ', 'trong số', 'hết rồi', 'mất', 'quá tin', 'sao bản', 'ngoài', 'ngôi thứ', 'dẫu mà', 'quan trọng', 'ra ngôi', 'giữ', 'lần sang', 'xa gần', 'đúng ra', 'sắp', 'dễ', 'giữ ý', 'quay lại', 'ái dà', 'qua ngày', 'tìm', 'cần', 'lên mạnh', 'ngồi không', 'tin vào', 'đến bao giờ', 'thật vậy', 'đến lúc', 'cóc khô', 'nghe tin', 'như trước', 'trước khi', 'phía sau', 'mở ra', 'dẫu', 'biết', 'phốc', 'muốn', 'nhỡ ra', 'sì sì', 'lên cao', 'thường xuất hiện', 'căn cái', 'vô vàn', 'bao nả', 'không nhận', 'chui cha', 'ba cùng', 'phắt', 'tuổi tôi', 'nhanh', 'toẹt', 'kể cả', 'nếu vậy', 'veo veo', 'biết bao', 'người', 'tháng', 'đầy', 'thời điểm', 'bởi thế', 'ở được', 'có chăng', 'xa', 'từng', 'có chăng là', 'tự', 'như', 'mợ', 'bởi vậy', 'ừ ào', 'thành ra', 'chọn', 'trếu tráo', 'lấy làm', 'đây đó', 'ít nhiều', 'lại cái', 'vừa lúc', 'cụ thể', 'áng', 'sau chót', 'chia sẻ', 'cũng nên', 'dù cho', 'phải rồi', 'ừ', 'phải chăng', 'hơn trước', 'sự thế', 'bây chừ', 'dành dành', 'vèo vèo', 'mà cả', 'chủn', 'ăn ngồi', 'đáng lẽ', 'gây', 'nói chung', 'dẫu sao', 'quả là', 'vậy thì', 'đâu có', 'cho ăn', 'ra sao', 'nhớ bập bõm', 'nghe đâu như', 'đâu', 'chu cha', 'đâu đây', 'như trên', 'bỏ', 'bỏ cha', 'không ai', 'nhất tề', 'ăn sáng', 'năm tháng', 'như quả', 'sao đang', 'một vài', 'riu ríu', 'khi trước', 'thúng thắng', 'bằng không', 'lại', 'thôi', 'sắp đặt', 'xăm xăm', 'không ngoài', 'đúng tuổi', 'dạ', 'hết nói', 'chí chết', 'thời gian', 'cao thế', 'không phải không', 'duy có', 'lại làm', 'cao', 'đáng lý', 'hơn là', 'từ thế', 'chợt nhìn', 'làm tăng', 'ví dù', 'trả của', 'riêng từng', 'khác thường', 'cả ngày', 'cuối điểm', 'dễ sử dụng', 'vào gặp', 'rồi', 'bấy lâu nay', 'thường bị', 'xăm xắm', 'không để', 'từ căn', 'vấn đề quan trọng', 'không hay', 'không gì', 'khác gì', 'tắp tắp', 'cảm ơn', 'vậy ra', 'nói ra', 'ít có', 'dùng', 'ông từ', 'đưa tới', 'ra chơi', 'tốt ngày', 'còn nữa', 'đã không', 'tấm', 'dễ sợ', 'hiện nay', 'vào', 'nhận việc', 'ngày xửa', 'xem ra', 'vừa qua', 'nói tốt', 'phần việc', 'làm sao', 'cu cậu', 'trong lúc', 'sáng', 'ba ngày', 'hoặc', 'sẽ biết', 'tuy', 'tình trạng', 'nước quả', 'do', 'nghe lại', 'từ ái', 'giá trị thực tế', 'thấp cơ', 'bác', 'làm gì', 'câu hỏi', 'không', 'cùng cực', 'ăn hỏi', 'quá đáng', 'không bao giờ', 'để lòng', 'chuyện', 'không cứ', 'hỏi lại', 'xiết bao', 'rằng là', 'hơn hết', 'thường', 'bỗng nhiên', 'riêng', 'giống', 'sau nữa', 'thộc', 'dì', 'cảm thấy', 'gì gì', 'ào', 'một khi', 'úi chà', 'đại để', 'tốt', 'thấy', 'nhằm khi', 'thốc tháo', 'đến ngày', 'rất', 'nếu', 'phải tay', 'ôi thôi', 'đâu đâu', 'ừ thì', 'hoàn toàn', 'dễ thấy', 'không có gì', 'tìm cách', 'tăng giảm', 'bản thân', 'khẳng định', 'phía trên', 'nói qua', 'trong ngoài', 'thửa', 'cao răng', 'hết ý', 'trệt', 'lần sau', 'ngay khi đến', 'chắc', 'cho', 'quá giờ', 'ớ này', 'so', 'cho tin', 'thế lại', 'ra bài', 'ngọn', 'ngày qua', 'ứ ừ', 'rõ', 'lại giống', 'xăm xúi', 'nhưng mà', 'chưa tính', 'xa xả', 'vâng ý', 'bông', 'suýt', 'bỏ việc', 'những muốn', 'trời đất ơi', 'thường tại', 'vả lại', 'không đầy', 'nhiên hậu', 'chung quy lại', 'nhỏ người', 'nói rõ', 'nhận ra', 'con tính', 'bất cứ', 'khác khác', 'lấy để', 'rốt cuộc', 'nức nở', 'xuống', 'thanh', 'nhón nhén', 'làm mất', 'cho tới khi', 'tắp lự', 'ý hoặc', 'thoạt', 'cùng tuổi', 'ba tăng', 'nếu cần', 'thế thì', 'gần đến', 'bằng cứ', 'ra gì', 'rồi tay', 'từ đó', 'bất kỳ', 'đưa ra', 'ô kê', 'ít thấy', 'rồi xem', 'bởi ai', 'nào hay', 'giữa lúc', 'mang mang', 'trở thành', 'nhìn xuống', 'nhiều ít', 'nóc', 'được tin', 'là nhiều', 'có đáng', 'nhé', 'nghe không', 'chành chạnh', 'tốt bộ', 'không bao lâu', 'lấy được', 'tìm việc', 'giữ lấy', 'văng tê', 'của', 'cha', 'phải cách', 'biết mình', 'khách', 'chúng', 'rén', 'ngồi sau', 'dù dì', 'ăn làm', 'bán cấp', 'tuy có', 'giờ đến', 'khá tốt', 'nó', 'mở mang', 'dưới nước', 'chớ', 'có chứ', 'dễ nghe', 'phần nào', 'biết đâu chừng', 'lần này', 'qua lại', 'phải lời', 'bỏ bà', 'thật ra', 'dài ra', 'thế nào', 'tự ý', 'để đến nỗi', 'à này', 'đến cùng cực', 'mang về', 'nên người', 'tột cùng', 'xa tắp', 'à', 'tên chính', 'chứ sao', 'như thể', 'giảm', 'vậy', 'xoẹt', 'bỗng không', 'duy chỉ', 'hỏi xin', 'nhất loạt', 'hay nói', 'việc gì', 'lúc ấy', 'để', 'chứ ai', 'thời gian sử dụng', 'theo như', 'bất quá', 'có vẻ', 'ít hơn', 'cứ việc', 'người người', 'xuất kì bất ý', 'mỗi lúc', 'chính bản', 'thanh tính', 'mọi khi', 'nhờ chuyển', 'vừa vừa', 'thì phải', 'từ', 'đại loại', 'tấn tới', 'chẳng nữa', 'làm riêng', 'mới', 'coi mòi', 'dù rằng', 'áng như', 'tháng ngày', 'thực hiện đúng', 'này nọ', 'thảo hèn', 'chợt', 'thường tính', 'mọi nơi', 'đến khi', 'nhận thấy', 'năm', 'hỏi', 'thốt', 'bất kì', 'cả nhà', 'vì rằng', 'ư', 'thường đến', 'bằng nào', 'chưa cần', 'lượng cả', 'xềnh xệch', 'chết thật', 'cách đều', 'ngôi', 'quá nhiều', 'mở', 'theo', 'hãy còn', 'người nhận', 'nhược bằng', 'nhất sinh', 'nói ý', 'nếu được', 'thật là', 'tên cái', 'đặt mức', 'chỉ', 'cái họ', 'cao số', 'nghe nhìn', 'luôn tay', 'nói xa', 'phía bạn', 'biết chắc', 'ngày ngày', 'dễ đâu', 'ngọt', 'như chơi', 'nữa khi', 'thảo nào', 'ít thôi', 'trên bộ', 'nên', 'quá trình', 'như thế', 'nhất tâm', 'ở nhờ', 'sì', 'dù sao', 'phụt', 'bất thình lình', 'đáng số', 'đủ điều', 'hay làm', 'cả nghĩ', 'qua khỏi', 'nhất', 'cần gì', 'ạ ơi', 'cho được', 'căn cắt', 'về không', 'ngay từ', 'đủ điểm', 'vài', 'khó tránh', 'nọ', 'tha hồ chơi', 'chuẩn bị', 'xa tanh', 'phỏng nước', 'để không', 'nghĩ ra', 'bản ý', 'cần số', 'dở chừng', 'đều đều', 'bất luận', 'của ngọt', 'thích tự', 'từ giờ', 'bớ', 'tất thảy', 'mọi việc', 'có số', 'làm ngay', 'sau đây', 'cô tăng', 'lần tìm', 'cùng chung', 'nhất định', 'dùng hết', 'hoặc là', 'làm thế nào', 'ra người', 'hiện tại', 'thiếu điểm', 'dễ dùng', 'so với', 'đã là', 'chẳng phải', 'bước đi', 'hơn', 'chưa từng', 'điều kiện', 'cụ thể như', 'ráo', 'thật thà', 'trong mình', 'mang nặng', 'mọi thứ', 'trước ngày', 'chọn ra', 'từ điều', 'tên', 'nghỉm', 'như là', 'thoắt', 'từng cái', 'chắc lòng', 'ngoài này', 'khoảng cách', 'bà', 'chưa bao giờ', 'quay', 'đáng kể', 'cho đến khi', 'đến', 'đó', 'thuộc lại', 'phần sau', 'chỉn', 'cụ thể là', 'tới nơi', 'đến gần', 'cao sang', 'tiếp đó', 'thế là', 'từng giờ', 'lại quả', 'hiểu', 'nhà ngoài', 'biết chừng nào', 'phải như', 'quả', 'con con', 'nếu có', 'nớ', 'dạ con', 'bỗng', 'tại vì', 'không tính', 'tạo cơ hội', 'chẳng những', 'lớn', 'nghĩ lại', 'làm vì', 'rồi ra', 'nghen', 'các', 'qua tay', 'dành', 'lần trước', 'lấy ráo', 'đến nỗi', 'theo tin', 'do vì', 'trỏng', 'chưa', 'bất quá chỉ', 'trệu trạo', 'nói thêm', 'thấy tháng', 'biết thế', 'mới đây', 'cuối cùng', 'phần lớn', 'bất kể', 'cấp số', 'quá', 'thà', 'thậm cấp', 'ái', 'trước nay', 'bởi sao', 'phải', 'nghe rõ', 'thay đổi', 'ăn quá', 'bên cạnh', 'dễ gì', 'ngày nào', 'nhìn lại', 'tiếp tục', 'do vậy', 'rõ là', 'luôn cả', 'pho', 'chuyển đạt', 'không điều kiện', 'thình lình', 'có thế', 'tức tốc', 'nhận làm', 'sự việc', 'lấy sau', 'bao giờ', 'ngay lúc này', 'ngay bây giờ', 'giống người', 'bởi tại', 'nếu thế', 'tốc tả', 'ra ý', 'ý chừng', 'cho đang', 'thếch', 'quay số', 'nghiễm nhiên', 'phứt', 'ráo cả', 'quả vậy', 'vì chưng', 'tha hồ', 'khác nào', 'ngày giờ', 'nhưng', 'bài bác', 'đều bước', 'vung tán tàn', 'khi', 'ông ấy', 'gần ngày', 'xem số', 'cao lâu', 'chầm chập', 'cơ chừng', 'thuần', 'bị', 'bỏ cuộc', 'phè phè', 'buổi mới', 'lên ngôi', 'ờ ờ', 'toà', 'thà là', 'ở trên', 'từng thời gian', 'tuần tự', 'nghĩ đến', 'bởi đâu', 'có đâu', 'dễ ngươi', 'gì đó', 'coi bộ', 'đồng thời', 'nói bông', 'thường hay', 'bước khỏi', 'cho hay', 'bị vì', 'thỏm', 'giảm thấp', 'nhận', 'nhà chung', 'đặt làm', 'ông', 'thật', 'dưới', 'chung quy', 'tại sao', 'ví phỏng', 'những', 'trước đây', 'tính người', 'khiến', 'sau cùng', 'thì là', 'chưa dùng', 'căn', 'nói thật', 'mới rồi', 'bạn', 'cơ hội', 'nhớ ra', 'tuốt tuột', 'là cùng', 'lời nói', 'phía trong', 'nghĩ tới', 'làm lấy'}\n"
     ]
    }
   ],
   "source": [
    "# Read the file 'vietnamese_stopwords.txt' and create a set of stopwords\n",
    "with open('../data/vietnamese_stopwords.txt', 'r', encoding='utf-8') as f:\n",
    "    stopwords = set([line.strip() for line in f.readlines()])\n",
    "    \n",
    "print(stopwords)"
   ]
  },
  {
   "cell_type": "code",
   "execution_count": 6,
   "metadata": {},
   "outputs": [
    {
     "name": "stdout",
     "output_type": "stream",
     "text": [
      "Melocalamus scandens loài thực vật hoa Hòa thảo . Loài Hsueh & C.M.Hui mô tả khoa học 1992 .\n"
     ]
    }
   ],
   "source": [
    "def remove_stopwords_vietnamese(text):\n",
    "    \"\"\"\n",
    "    Removes stopwords from the given text.\n",
    "\n",
    "    Parameters:\n",
    "    text (str): The input text to remove stopwords from.\n",
    "\n",
    "    Returns:\n",
    "    str: The filtered text without stopwords.\n",
    "    \"\"\"\n",
    "    tokens = word_tokenize(text)\n",
    "    filtered_tokens = [token for token in tokens if token.lower() not in stopwords]\n",
    "    filtered_text = ' '.join(filtered_tokens)\n",
    "    return filtered_text\n",
    "\n",
    "df['content'] = df['content'].apply(remove_stopwords_vietnamese)\n",
    "print(df.head(5).content[0])"
   ]
  },
  {
   "cell_type": "code",
   "execution_count": 7,
   "metadata": {},
   "outputs": [
    {
     "data": {
      "text/plain": [
       "'Melocalamus scandens loài thực vật hoa Hòa thảo  Loài Hsueh  CMHui mô tả khoa học 1992 '"
      ]
     },
     "execution_count": 7,
     "metadata": {},
     "output_type": "execute_result"
    }
   ],
   "source": [
    "def remove_punctuation(text):\n",
    "    \"\"\"\n",
    "    Removes punctuation characters from the given text.\n",
    "\n",
    "    Args:\n",
    "        text (str): The input text.\n",
    "\n",
    "    Returns:\n",
    "        str: The cleaned text with punctuation characters removed.\n",
    "    \"\"\"\n",
    "    return text.translate(str.maketrans('', '', string.punctuation))\n",
    "\n",
    "df['content'] = df['content'].apply(remove_punctuation)\n",
    "df.content[0]"
   ]
  },
  {
   "cell_type": "code",
   "execution_count": 8,
   "metadata": {},
   "outputs": [
    {
     "name": "stdout",
     "output_type": "stream",
     "text": [
      "melocalamus scandens loài thực vật hoa hòa thảo  loài hsueh  cmhui mô tả khoa học 1992 \n"
     ]
    }
   ],
   "source": [
    "def lowercase_text(text):\n",
    "    \"\"\"\n",
    "    Converts the given text to lowercase.\n",
    "\n",
    "    Args:\n",
    "        text (str): The input text.\n",
    "\n",
    "    Returns:\n",
    "        str: The text converted to lowercase.\n",
    "    \"\"\"\n",
    "    return text.lower()\n",
    "df['content'] = df['content'].apply(lowercase_text)\n",
    "print(df.content[0])"
   ]
  },
  {
   "cell_type": "code",
   "execution_count": 9,
   "metadata": {},
   "outputs": [
    {
     "name": "stdout",
     "output_type": "stream",
     "text": [
      "['melocalamus', 'scandens', 'loài', 'thực vật', 'hoa', 'hòa thảo', 'loài', 'hsueh', 'cmhui', 'mô tả', 'khoa học', '1992']\n"
     ]
    }
   ],
   "source": [
    "def tokenize(text):\n",
    "    \"\"\"\n",
    "    Tokenizes the given text into words.\n",
    "\n",
    "    Args:\n",
    "        text (str): The input text.\n",
    "\n",
    "    Returns:\n",
    "        list: The list of words from the input text.\n",
    "    \"\"\"\n",
    "    return word_tokenize(text)\n",
    "\n",
    "df['content'] = df['content'].apply(tokenize)\n",
    "print(df.head(5).content[0])"
   ]
  }
 ],
 "metadata": {
  "kernelspec": {
   "display_name": "hieuhn09",
   "language": "python",
   "name": "python3"
  },
  "language_info": {
   "codemirror_mode": {
    "name": "ipython",
    "version": 3
   },
   "file_extension": ".py",
   "mimetype": "text/x-python",
   "name": "python",
   "nbconvert_exporter": "python",
   "pygments_lexer": "ipython3",
   "version": "3.10.6"
  }
 },
 "nbformat": 4,
 "nbformat_minor": 2
}
