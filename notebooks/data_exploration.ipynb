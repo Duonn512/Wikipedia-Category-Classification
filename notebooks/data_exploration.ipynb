{
 "cells": [
  {
   "cell_type": "code",
   "execution_count": 1,
   "metadata": {},
   "outputs": [],
   "source": [
    "import sys\n",
    "sys.path.append('../src')\n",
    "\n",
    "import pandas as pd\n",
    "import matplotlib.pyplot as plt"
   ]
  },
  {
   "cell_type": "code",
   "execution_count": 3,
   "metadata": {},
   "outputs": [
    {
     "data": {
      "text/html": [
       "<div>\n",
       "<style scoped>\n",
       "    .dataframe tbody tr th:only-of-type {\n",
       "        vertical-align: middle;\n",
       "    }\n",
       "\n",
       "    .dataframe tbody tr th {\n",
       "        vertical-align: top;\n",
       "    }\n",
       "\n",
       "    .dataframe thead th {\n",
       "        text-align: right;\n",
       "    }\n",
       "</style>\n",
       "<table border=\"1\" class=\"dataframe\">\n",
       "  <thead>\n",
       "    <tr style=\"text-align: right;\">\n",
       "      <th></th>\n",
       "      <th>Unnamed: 0</th>\n",
       "      <th>title</th>\n",
       "      <th>content</th>\n",
       "      <th>label</th>\n",
       "    </tr>\n",
       "  </thead>\n",
       "  <tbody>\n",
       "    <tr>\n",
       "      <th>0</th>\n",
       "      <td>0</td>\n",
       "      <td>Melocalamus scandens</td>\n",
       "      <td>Melocalamus scandens là một loài thực vật có h...</td>\n",
       "      <td>Natural Sciences</td>\n",
       "    </tr>\n",
       "    <tr>\n",
       "      <th>1</th>\n",
       "      <td>1</td>\n",
       "      <td>Paleauletobius silenus</td>\n",
       "      <td>Paleauletobius silenus là một loài bọ cánh cứn...</td>\n",
       "      <td>Natural Sciences</td>\n",
       "    </tr>\n",
       "    <tr>\n",
       "      <th>2</th>\n",
       "      <td>2</td>\n",
       "      <td>Zoodes hirsutus</td>\n",
       "      <td>Zoodes hirsutus là một loài bọ cánh cứng trong...</td>\n",
       "      <td>Natural Sciences</td>\n",
       "    </tr>\n",
       "    <tr>\n",
       "      <th>3</th>\n",
       "      <td>3</td>\n",
       "      <td>Quốc kỳ Argentina</td>\n",
       "      <td>Quốc kỳ Argentina ( tiếng Tây Ban Nha : Bander...</td>\n",
       "      <td>Culture</td>\n",
       "    </tr>\n",
       "    <tr>\n",
       "      <th>4</th>\n",
       "      <td>4</td>\n",
       "      <td>Dundahera</td>\n",
       "      <td>Dundahera là một thị trấn thống kê ( census to...</td>\n",
       "      <td>Social Sciences</td>\n",
       "    </tr>\n",
       "  </tbody>\n",
       "</table>\n",
       "</div>"
      ],
      "text/plain": [
       "   Unnamed: 0                   title   \n",
       "0           0    Melocalamus scandens  \\\n",
       "1           1  Paleauletobius silenus   \n",
       "2           2         Zoodes hirsutus   \n",
       "3           3       Quốc kỳ Argentina   \n",
       "4           4               Dundahera   \n",
       "\n",
       "                                             content             label  \n",
       "0  Melocalamus scandens là một loài thực vật có h...  Natural Sciences  \n",
       "1  Paleauletobius silenus là một loài bọ cánh cứn...  Natural Sciences  \n",
       "2  Zoodes hirsutus là một loài bọ cánh cứng trong...  Natural Sciences  \n",
       "3  Quốc kỳ Argentina ( tiếng Tây Ban Nha : Bander...           Culture  \n",
       "4  Dundahera là một thị trấn thống kê ( census to...   Social Sciences  "
      ]
     },
     "execution_count": 3,
     "metadata": {},
     "output_type": "execute_result"
    }
   ],
   "source": [
    "df = pd.read_csv('../data/labelled_data.csv')\n",
    "df['label'] = df['label'].replace({\n",
    "    0: \"Natural Sciences\",\n",
    "    1: \"Social Sciences\",\n",
    "    2: \"Engineering\",\n",
    "    3: \"Culture\",\n",
    "    4: \"Other\"\n",
    "})\n",
    "df.head()"
   ]
  },
  {
   "cell_type": "markdown",
   "metadata": {},
   "source": [
    "## Label frequency"
   ]
  },
  {
   "cell_type": "code",
   "execution_count": 5,
   "metadata": {},
   "outputs": [
    {
     "data": {
      "image/png": "[encoded data removed]",
      "text/plain": [
       "<Figure size 800x600 with 1 Axes>"
      ]
     },
     "metadata": {},
     "output_type": "display_data"
    }
   ],
   "source": [
    "plt.figure(figsize=(8, 6))\n",
    "df['label'].value_counts().plot(kind='bar')\n",
    "plt.title('Label Frequency')\n",
    "plt.xlabel('Label')\n",
    "plt.ylabel('Frequency')\n",
    "plt.xticks(rotation=0) \n",
    "plt.show()"
   ]
  },
  {
   "cell_type": "code",
   "execution_count": null,
   "metadata": {},
   "outputs": [],
   "source": []
  }
 ],
 "metadata": {
  "kernelspec": {
   "display_name": "Python 3",
   "language": "python",
   "name": "python3"
  },
  "language_info": {
   "codemirror_mode": {
    "name": "ipython",
    "version": 3
   },
   "file_extension": ".py",
   "mimetype": "text/x-python",
   "name": "python",
   "nbconvert_exporter": "python",
   "pygments_lexer": "ipython3",
   "version": "3.10.6"
  }
 },
 "nbformat": 4,
 "nbformat_minor": 2
}
